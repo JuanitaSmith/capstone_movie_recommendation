{
 "cells": [
  {
   "cell_type": "markdown",
   "metadata": {
    "extensions": {
     "jupyter_dashboards": {
      "version": 1,
      "views": {
       "grid_default": {
        "col": 0,
        "height": 4,
        "hidden": false,
        "row": 0,
        "width": 4
       },
       "report_default": {
        "hidden": false
       }
      }
     }
    },
    "pycharm": {
     "name": "#%% md\n"
    }
   },
   "source": [
    "### Udacity Data Science Nanodegree\n",
    "### Capstone Project: Movie recommender\n",
    "---\n",
    "# Notebook 1: ETL pipeline preparation\n",
    "\n",
    "This notebook retrieve, clean and blend movie and review data from IMDb,\n",
    "TMDB and MovieLens"
   ]
  },
  {
   "cell_type": "markdown",
   "metadata": {
    "pycharm": {
     "name": "#%% md\n"
    }
   },
   "source": [
    "- [Introduction](#intro)\n",
    "- [Step 1: Data Gathering](#datagathering)\n",
    "    * [1.1 Directly download the IMDB and TMDB dataset from Kaggle](#IMDB)\n",
    "    * [1.2 Download MovieLens data from Grouplens](#movielens)\n",
    "- [Step 2: Assessing and Cleaning data](#assess)\n",
    "    * [Step 2.1: IMDB Movie Metadata](#assess_imdb)\n",
    "    * [Step 2.2: MovieLens Links](#movielens_links)\n",
    "    * [Step 2.3: MovieLens Ratings](#movielens_ratings)\n",
    "    * [Step 2.4: MovieLens Tags](#movielens_tags)\n",
    "    * [Step 2.5: Extra IMDB columns](#imdb_extra)\n",
    "    * [Summary of assessment and cleaning](#summary)\n",
    "- [Step 4: Storing Data](#storing)\n",
    "- [References](#references)\n",
    "- [Submission](#submission)"
   ]
  },
  {
   "cell_type": "markdown",
   "metadata": {
    "pycharm": {
     "name": "#%% md\n"
    }
   },
   "source": [
    "<a class='anchor' id='intro'></a>\n",
    "<h3 style=\"color:white; font-size:25px; text-align: left; line-height: 1; font-family: Calibri; background-color:#7C9E9E; border-radius:10px; padding: 14px\">Introduction</h3>"
   ]
  },
  {
   "cell_type": "markdown",
   "metadata": {
    "pycharm": {
     "name": "#%% md\n"
    }
   },
   "source": [
    "This notebook, automatically download movie and ratings datasets from Kaggle and Grouplens.\n",
    "Data are explored,\n",
    "cleaned and written to parquet files in `data/clean` folder on completion."
   ]
  },
  {
   "cell_type": "code",
   "metadata": {
    "pycharm": {
     "is_executing": true,
     "name": "#%%\n"
    },
    "ExecuteTime": {
     "end_time": "2025-04-05T07:31:56.501257Z",
     "start_time": "2025-04-05T07:31:56.195167Z"
    }
   },
   "source": [
    "from collections import Counter\n",
    "from io import BytesIO\n",
    "from urllib.request import urlopen\n",
    "from zipfile import ZipFile\n",
    "\n",
    "import kaggle\n",
    "import matplotlib.pyplot as plt\n",
    "import pandas as pd\n",
    "import seaborn as sns\n",
    "\n",
    "# custom coding\n",
    "from src import *\n",
    "from src import Seafoam\n",
    "\n",
    "# magic word for producing visualizations in notebook\n",
    "%matplotlib inline\n",
    "\n",
    "# font standardization\n",
    "seafoam = Seafoam()\n",
    "\n",
    "# environment settings\n",
    "pd.set_option('display.max_rows', 100)\n",
    "pd.set_option('display.max_columns', 42)\n",
    "pd.set_option('display.width', 1000)\n",
    "\n",
    "# stock scientific notation on graphs\n",
    "pd.options.display.float_format = '{:.2f}'.format"
   ],
   "outputs": [],
   "execution_count": 1
  },
  {
   "cell_type": "markdown",
   "metadata": {
    "pycharm": {
     "name": "#%% md\n"
    }
   },
   "source": [
    "<a id='datagathering'></a>\n",
    "<h3 style=\"color:white; font-size:25px; text-align: left; line-height: 1; font-family: Calibri; background-color:#7C9E9E; border-radius:10px; padding: 14px\">Step 1: Data Gathering</h3>\n",
    "\n",
    "\n",
    "Gather datasets from Kaggle automatically\n",
    "\n",
    "<a id='IMDB'></a>\n",
    "<span style=\"color:#7C9E9E; font-size:20px; font-weight:bold\">1.1 Directly download the IMDB and TMDB dataset from Kaggle, stored [here](https://www.kaggle.com/datasets/alanvourch/tmdb-movies-daily-updates) </span>\n",
    "\n",
    "Download IMDB/TMDB movie content data from Kaggle if it does not yet exist\n",
    "\n",
    "Data source selected for this project can be found\n",
    "[here](https://www.kaggle.com/datasets/alanvourch/tmdb-movies-daily-updates)\n",
    "\n",
    "This dataset contains extensive metadata to support\n",
    "content-based recommendations.\n",
    "\n",
    "To use the Kaggle API, you need to install the kaggle package by running:\n",
    "`pip install kaggle`\n",
    "\n",
    "Before accessing the API, you need to authenticate using an API token.\n",
    "Follow the steps below:\n",
    "\n",
    "1) Go to the 'Account' tab on your Kaggle profile.\n",
    "2) Click 'Create New Token'.\n",
    "This will download a file named `kaggle.json`\n",
    "containing your API credentials.\n",
    "3) Move the `kaggle.json` file to the appropriate location:\n",
    "    * Linux/OSX: `~/.kaggle/kaggle.json`\n",
    "    * Windows: `c:/Users/<username>/.kaggle/kaggle.json`\n",
    "\n",
    "IMPORTANT:\n",
    "Ensure `kaggle.json` is in the location `~/.kaggle/kaggle.json` to use the API.\n",
    "\n",
    "Alternatively, the data can be downloaded manually using the above link\n",
    "and saved in the folder `data/raw/imdb_tmdb/imdb_tmdb.csv`\n",
    "\n",
    "To refresh the data, manually delete the folder `data/raw/imdb_tmdb`.\n"
   ]
  },
  {
   "metadata": {
    "ExecuteTime": {
     "end_time": "2025-04-05T07:31:56.506172Z",
     "start_time": "2025-04-05T07:31:56.503463Z"
    }
   },
   "cell_type": "code",
   "source": [
    "# Download data if it does not yet exist.\n",
    "# To refresh the data, just manually delete the folder `data/raw/imdb_tmdb`\n",
    "\n",
    "folder_imdb_tmdb_raw = os.path.join('..', folder_raw, folder_imdb_tmdb)\n",
    "\n",
    "if os.path.isdir(folder_imdb_tmdb_raw) and len(os.listdir(folder_imdb_tmdb_raw)) == 1:\n",
    "    print('File already exist')\n",
    "else:\n",
    "    # API token file `kaggle.json` should exist in `~/.kaggle`\n",
    "    kaggle.api.authenticate()\n",
    "    # Download IMDB movie metadata file from Kaggle\n",
    "    print('Downloading movies metadata')\n",
    "    kaggle.api.dataset_download_files(url_kaggle_tmdb, path=folder_imdb_tmdb_raw, unzip=True)\n",
    "\n",
    "    # rename file name\n",
    "    for filename in os.listdir(folder_imdb_tmdb_raw):\n",
    "        file_old = os.path.join(folder_imdb_tmdb_raw, filename)\n",
    "        file_new = os.path.join(folder_imdb_tmdb_raw, filename_imdb_tmdb_raw)\n",
    "        if filename.startswith(\"TMDB\"):\n",
    "            os.rename(file_old, file_new)\n",
    "            print('File renamed from {} to {}'.format(file_old, file_new))\n",
    "\n",
    "# check that a file was saved in the directory\n",
    "assert len(os.listdir(folder_imdb_tmdb_raw)) == 1"
   ],
   "outputs": [
    {
     "name": "stdout",
     "output_type": "stream",
     "text": [
      "File already exist\n"
     ]
    }
   ],
   "execution_count": 2
  },
  {
   "metadata": {},
   "cell_type": "markdown",
   "source": "##### Download a similar dataset as above, but with additional interesting columns"
  },
  {
   "metadata": {
    "ExecuteTime": {
     "end_time": "2025-04-05T07:31:56.536973Z",
     "start_time": "2025-04-05T07:31:56.534370Z"
    }
   },
   "cell_type": "code",
   "source": [
    "# Download data if it does not yet exist.\n",
    "# To refresh the data, manually delete the folder `data/raw/imdb_tmdb`\n",
    "\n",
    "folder_imdb_tmdb_raw = os.path.join('..', folder_raw, folder_imdb_tmdb_extra)\n",
    "\n",
    "if os.path.isdir(folder_imdb_tmdb_raw) and len(os.listdir(folder_imdb_tmdb_raw)) == 1:\n",
    "    print('File already exist')\n",
    "else:\n",
    "    # API token file `kaggle.json` should exist in `~/.kaggle`\n",
    "    kaggle.api.authenticate()\n",
    "    # Download IMDB movie metadata file from Kaggle\n",
    "    print('Downloading movies metadata')\n",
    "    kaggle.api.dataset_download_files(url_kaggle_tmdb_extra, path=folder_imdb_tmdb_raw, unzip=True)\n",
    "\n",
    "    # rename file name\n",
    "    for filename in os.listdir(folder_imdb_tmdb_raw):\n",
    "        file_old = os.path.join(folder_imdb_tmdb_raw, filename)\n",
    "        file_new = os.path.join(folder_imdb_tmdb_raw, filename_imdb_tmdb_raw_extra)\n",
    "        if filename.startswith(\"IMDB TMDB\"):\n",
    "            os.rename(file_old, file_new)\n",
    "            print('File renamed from {} to {}'.format(file_old, file_new))\n",
    "\n",
    "# check that a file was saved in the directory\n",
    "assert len(os.listdir(folder_imdb_tmdb_raw)) == 1"
   ],
   "outputs": [
    {
     "name": "stdout",
     "output_type": "stream",
     "text": [
      "File already exist\n"
     ]
    }
   ],
   "execution_count": 3
  },
  {
   "cell_type": "markdown",
   "metadata": {
    "pycharm": {
     "name": "#%% md\n"
    }
   },
   "source": [
    "<a id='movielens'></a>\n",
    "<span style=\"color:#7C9E9E; font-size:20px; font-weight:bold\">1.2 Download MovieLens data from Grouplens</span>\n",
    "\n",
    "Dataset `ml-32m.zip` can be downloaded manually from Grouplens [here](http://files.grouplens.org/datasets/movielens/)\n",
    "\n",
    "MovieLens data `ratings.csv` contains ratings of movies by user id and movie id\n",
    "to support collaborative filtering recommendations.\n",
    "\n",
    "The zip file also contains a conversion file `links.csv` which links id's of MovieLens,\n",
    "IMDB, and TMDB together giving us a lot of freedom to blend data from multiple sources."
   ]
  },
  {
   "cell_type": "code",
   "metadata": {
    "ExecuteTime": {
     "end_time": "2025-04-05T07:31:56.553603Z",
     "start_time": "2025-04-05T07:31:56.551561Z"
    }
   },
   "source": [
    "# Download zip file and extract files\n",
    "folder_movielens_raw = os.path.join('..', folder_raw, folder_movielens)\n",
    "if os.path.isdir(folder_movielens_raw) and len(os.listdir(folder_movielens_raw)) >= 1:\n",
    "    print('File already exist')\n",
    "else:\n",
    "    with urlopen(url_movielens) as zipresp:\n",
    "        with ZipFile(BytesIO(zipresp.read())) as zfile:\n",
    "            zfile.extractall(folder_movielens_raw)"
   ],
   "outputs": [
    {
     "name": "stdout",
     "output_type": "stream",
     "text": [
      "File already exist\n"
     ]
    }
   ],
   "execution_count": 4
  },
  {
   "cell_type": "code",
   "metadata": {
    "ExecuteTime": {
     "end_time": "2025-04-05T07:31:56.570967Z",
     "start_time": "2025-04-05T07:31:56.569498Z"
    }
   },
   "source": [
    "# check that the MovieLens files were saved in the directory\n",
    "assert len(os.listdir(folder_movielens_raw)) >= 1"
   ],
   "outputs": [],
   "execution_count": 5
  },
  {
   "cell_type": "markdown",
   "metadata": {
    "pycharm": {
     "name": "#%% md\n"
    }
   },
   "source": [
    "<a id='assess'></a>\n",
    "<h3 style=\"color:white; font-size:25px; text-align: left; line-height: 1; font-family: Calibri; background-color:#7C9E9E; border-radius:10px; padding: 14px\">Step 2: Assessing and Cleaning Data</h3>\n",
    "\n",
    "\n",
    "\n",
    "\n"
   ]
  },
  {
   "cell_type": "markdown",
   "metadata": {
    "pycharm": {
     "name": "#%% md\n"
    }
   },
   "source": [
    "<a id='assess_imdb'></a>\n",
    "<span style=\"color:#7C9E9E; font-size:20px; font-weight:bold\">2.1 Assess IMDB Movie Metadata</span>"
   ]
  },
  {
   "cell_type": "code",
   "metadata": {
    "pycharm": {
     "name": "#%%\n"
    },
    "ExecuteTime": {
     "end_time": "2025-04-05T07:32:01.021588Z",
     "start_time": "2025-04-05T07:31:56.601444Z"
    }
   },
   "source": [
    "# read IMDB movie metadata and do visual assessment of a sample\n",
    "path = os.path.join('..', path_imdb_raw)\n",
    "df_movies_imdb = pd.read_csv(path, parse_dates = [\"release_date\"])\n",
    "df_movies_imdb.loc[df_movies_imdb['title'].str.lower().str.contains('hobbit:') == True]"
   ],
   "outputs": [
    {
     "data": {
      "text/plain": [
       "              id                                              title  vote_average  vote_count    status release_date       revenue  runtime       budget     imdb_id original_language                                     original_title                                           overview  popularity                                            tagline                      genres                               production_companies                   production_countries spoken_languages                                               cast          director director_of_photography                                            writers                                          producers music_composer  imdb_rating  imdb_votes                       poster_path\n",
       "32966      49051                  The Hobbit: An Unexpected Journey          7.36    18683.00  Released   2012-12-12 1021103568.00   169.00 250000000.00   tt0903624                en                  The Hobbit: An Unexpected Journey  Bilbo Baggins, a hobbit enjoying his quiet lif...       15.11  From the smallest beginnings come the greatest...  Adventure, Fantasy, Action  New Line Cinema, Metro-Goldwyn-Mayer, WingNut ...  New Zealand, United States of America          English  Barry Humphries, Terry Notary, Jeffrey Thomas,...     Peter Jackson           Andrew Lesnie  Fran Walsh, J. R. R. Tolkien, Guillermo del To...  Fran Walsh, Carolyn Blackwood, Carolynne Cunni...   Howard Shore         7.80   900130.00  /yHA9Fc37VmpUA5UncTxxo3rTGVA.jpg\n",
       "39294      57158                The Hobbit: The Desolation of Smaug          7.57    13385.00  Released   2013-12-11  958400000.00   161.00 250000000.00   tt1170358                en                The Hobbit: The Desolation of Smaug  The Dwarves, Bilbo and Gandalf have successful...       12.34  Beyond darkness... beyond desolation... lies t...  Fantasy, Adventure, Action  New Line Cinema, Metro-Goldwyn-Mayer, WingNut ...  New Zealand, United States of America          English  Emma Smith, Craig Hall, Stephen Fry, Sarah Pei...     Peter Jackson           Andrew Lesnie  Fran Walsh, J. R. R. Tolkien, Guillermo del To...  Fran Walsh, Carolyn Blackwood, Callum Greene, ...   Howard Shore         7.80   729523.00  /xQYiXsheRCDBA39DOrmaw1aSpbk.jpg\n",
       "80402     122917          The Hobbit: The Battle of the Five Armies          7.32    14520.00  Released   2014-12-10  956019788.00   144.00 250000000.00   tt2310332                en          The Hobbit: The Battle of the Five Armies  Immediately after the events of The Desolation...       19.03  Witness the defining chapter of the Middle-Ear...  Action, Adventure, Fantasy  Warner Bros. Pictures, New Line Cinema, Metro-...  New Zealand, United States of America          English  Thomasin McKenzie, Stephen Fry, Sarah Peirse, ...     Peter Jackson           Andrew Lesnie  Fran Walsh, J. R. R. Tolkien, Guillermo del To...  Fran Walsh, Carolyn Blackwood, Carolynne Cunni...   Howard Shore         7.40   594492.00  /xT98tLqatZPQApyRmlPL12LtiWp.jpg\n",
       "132851    231900                   The Hobbit: The Quest for Cantal          6.30       12.00  Released   2013-10-22          0.00     6.00       500.00         NaN                fr                     Le Hobbit : La Quête du Cantal  Parody of The Lord of the Rings and The Hobbit...        0.09                                                NaN  Adventure, Fantasy, Comedy                                                NaN                                 France         Français  Brian Senaud, Alexandre Loubeyre, Arthur Rey, ...          Léo Pons                     NaN                                                NaN                                                NaN            NaN          NaN         NaN  /9gbVLTYj5DPvYLsRH0UcaqatyCP.jpg\n",
       "147759    257247                  The Hobbit: The Origins of Cantal          7.10        9.00  Released   2014-06-26          0.00    36.00      2500.00         NaN                fr                 Le Hobbit : Les Origines du Cantal  Thorin, the former king of Cantal, accompanied...        0.13                                                NaN           Adventure, Comedy                                                NaN                                    NaN         Français  Dylan Gracia, Clarisse Duterne, Yuna Ricard, S...          Léo Pons                     NaN                                                NaN                                                NaN            NaN          NaN         NaN  /iW05McoLaZssjcUEDNnmI6n1QIY.jpg\n",
       "232220    357073       The Hobbit: The Return of the King of Cantal          7.60       12.00  Released   2015-07-08          0.00    65.00      8000.00   tt4450930                fr             Le Hobbit : Le Retour du Roi du Cantal  Cantal is attacked by Puy-de-Dôme. King Thorin...        2.60                                                NaN           Adventure, Comedy                                          leomedias                                 France         Français  Benoît Allemane, Roger Claude Delaunay, Arthur...          Léo Pons                     NaN                                                NaN                                                NaN            NaN         7.20       15.00  /zzvnyLZjsI6RN5qETxb4YuI4FlN.jpg\n",
       "520237    731021           The Hobbit: Treasures under the Mountain          4.50        1.00  Released   1994-08-03          0.00     0.00         0.00         NaN                ru                        Хоббит. Сокровища под горой                                                NaN        2.51                                                NaN                   Animation                                                NaN                                    NaN              NaN                  Lev Borisov, Nikolai Karachentsov  Роман Митрофанов                     NaN                                                NaN                                                NaN            NaN          NaN         NaN  /9KojSB8tGSraPqdYrUeWPOcvzCr.jpg\n",
       "1018636  1389367  The Hobbit: An Unexpected Journey (Extended Ed...         10.00        1.00  Released          NaT          0.00   182.00         0.00  tt21836008                en  The Hobbit: An Unexpected Journey (Extended Ed...  This Extended adventure follows Bilbo Baggins,...        0.68                                                NaN                         NaN                                                NaN                                    NaN          English                                                NaN               NaN                     NaN                                                NaN                                                NaN            NaN         8.60      596.00  /yxEHh9eOE2jkXmiScQYtuWQD5PB.jpg\n",
       "1018637  1389368  The Hobbit: The Desolation of Smaug (Extended ...         10.00        1.00  Released          NaT          0.00   186.00         0.00  tt21824192                en  The Hobbit: The Desolation of Smaug (Extended ...  Academy Award® winner Peter Jackson continues ...        0.68                                                NaN                         NaN                                                NaN                                    NaN          English                                                NaN               NaN                     NaN                                                NaN                                                NaN            NaN         8.60     1009.00  /zkNLurqXAbZ82igkeE0PnXgaqJG.jpg\n",
       "1018638  1389369  The Hobbit: The Battle of Five Armies (Extende...         10.00        1.00  Released          NaT          0.00   163.00         0.00  tt21832076                en  The Hobbit: The Battle of Five Armies (Extende...  Academy Award®-winning filmmaker Peter Jackson...        0.68                                                NaN                         NaN                                                NaN                                    NaN          English                                                NaN               NaN                     NaN                                                NaN                                                NaN            NaN         8.40     1386.00  /lpe5jcsgNITcn4Y9Wg676z2WQFI.jpg\n",
       "1039753  1414358                   The Hobbit: There and Back Again          0.00        0.00  Released   2025-01-11          0.00   256.00         0.00         NaN                en                   The Hobbit: There and Back Again  A fan edit that reimagines Peter Jackon's The ...        1.40      IN A HOLE IN THE GROUND THERE LIVED A HOBBIT.  Fantasy, Action, Adventure                                                NaN                                    NaN              NaN  Lee Pace, Stephen Hunter, Graham McTavish, Ian...     Peter Jackson                     NaN                                   J. R. R. Tolkien                                                NaN            NaN          NaN         NaN                               NaN\n",
       "1052070  1429776         The Hobbit: The Battle of t he five armies          0.00        0.00  Released          NaT          0.00     0.00         0.00         NaN                en         The Hobbit: The Battle of t he five armies      Thor in Oakenshield and the Dwarves of Erebor        0.60                                                NaN                         NaN                                                NaN                                    NaN              NaN                                                NaN               NaN                     NaN                                                NaN                                                NaN            NaN          NaN         NaN                               NaN"
      ],
      "text/html": [
       "<div>\n",
       "<style scoped>\n",
       "    .dataframe tbody tr th:only-of-type {\n",
       "        vertical-align: middle;\n",
       "    }\n",
       "\n",
       "    .dataframe tbody tr th {\n",
       "        vertical-align: top;\n",
       "    }\n",
       "\n",
       "    .dataframe thead th {\n",
       "        text-align: right;\n",
       "    }\n",
       "</style>\n",
       "<table border=\"1\" class=\"dataframe\">\n",
       "  <thead>\n",
       "    <tr style=\"text-align: right;\">\n",
       "      <th></th>\n",
       "      <th>id</th>\n",
       "      <th>title</th>\n",
       "      <th>vote_average</th>\n",
       "      <th>vote_count</th>\n",
       "      <th>status</th>\n",
       "      <th>release_date</th>\n",
       "      <th>revenue</th>\n",
       "      <th>runtime</th>\n",
       "      <th>budget</th>\n",
       "      <th>imdb_id</th>\n",
       "      <th>original_language</th>\n",
       "      <th>original_title</th>\n",
       "      <th>overview</th>\n",
       "      <th>popularity</th>\n",
       "      <th>tagline</th>\n",
       "      <th>genres</th>\n",
       "      <th>production_companies</th>\n",
       "      <th>production_countries</th>\n",
       "      <th>spoken_languages</th>\n",
       "      <th>cast</th>\n",
       "      <th>director</th>\n",
       "      <th>director_of_photography</th>\n",
       "      <th>writers</th>\n",
       "      <th>producers</th>\n",
       "      <th>music_composer</th>\n",
       "      <th>imdb_rating</th>\n",
       "      <th>imdb_votes</th>\n",
       "      <th>poster_path</th>\n",
       "    </tr>\n",
       "  </thead>\n",
       "  <tbody>\n",
       "    <tr>\n",
       "      <th>32966</th>\n",
       "      <td>49051</td>\n",
       "      <td>The Hobbit: An Unexpected Journey</td>\n",
       "      <td>7.36</td>\n",
       "      <td>18683.00</td>\n",
       "      <td>Released</td>\n",
       "      <td>2012-12-12</td>\n",
       "      <td>1021103568.00</td>\n",
       "      <td>169.00</td>\n",
       "      <td>250000000.00</td>\n",
       "      <td>tt0903624</td>\n",
       "      <td>en</td>\n",
       "      <td>The Hobbit: An Unexpected Journey</td>\n",
       "      <td>Bilbo Baggins, a hobbit enjoying his quiet lif...</td>\n",
       "      <td>15.11</td>\n",
       "      <td>From the smallest beginnings come the greatest...</td>\n",
       "      <td>Adventure, Fantasy, Action</td>\n",
       "      <td>New Line Cinema, Metro-Goldwyn-Mayer, WingNut ...</td>\n",
       "      <td>New Zealand, United States of America</td>\n",
       "      <td>English</td>\n",
       "      <td>Barry Humphries, Terry Notary, Jeffrey Thomas,...</td>\n",
       "      <td>Peter Jackson</td>\n",
       "      <td>Andrew Lesnie</td>\n",
       "      <td>Fran Walsh, J. R. R. Tolkien, Guillermo del To...</td>\n",
       "      <td>Fran Walsh, Carolyn Blackwood, Carolynne Cunni...</td>\n",
       "      <td>Howard Shore</td>\n",
       "      <td>7.80</td>\n",
       "      <td>900130.00</td>\n",
       "      <td>/yHA9Fc37VmpUA5UncTxxo3rTGVA.jpg</td>\n",
       "    </tr>\n",
       "    <tr>\n",
       "      <th>39294</th>\n",
       "      <td>57158</td>\n",
       "      <td>The Hobbit: The Desolation of Smaug</td>\n",
       "      <td>7.57</td>\n",
       "      <td>13385.00</td>\n",
       "      <td>Released</td>\n",
       "      <td>2013-12-11</td>\n",
       "      <td>958400000.00</td>\n",
       "      <td>161.00</td>\n",
       "      <td>250000000.00</td>\n",
       "      <td>tt1170358</td>\n",
       "      <td>en</td>\n",
       "      <td>The Hobbit: The Desolation of Smaug</td>\n",
       "      <td>The Dwarves, Bilbo and Gandalf have successful...</td>\n",
       "      <td>12.34</td>\n",
       "      <td>Beyond darkness... beyond desolation... lies t...</td>\n",
       "      <td>Fantasy, Adventure, Action</td>\n",
       "      <td>New Line Cinema, Metro-Goldwyn-Mayer, WingNut ...</td>\n",
       "      <td>New Zealand, United States of America</td>\n",
       "      <td>English</td>\n",
       "      <td>Emma Smith, Craig Hall, Stephen Fry, Sarah Pei...</td>\n",
       "      <td>Peter Jackson</td>\n",
       "      <td>Andrew Lesnie</td>\n",
       "      <td>Fran Walsh, J. R. R. Tolkien, Guillermo del To...</td>\n",
       "      <td>Fran Walsh, Carolyn Blackwood, Callum Greene, ...</td>\n",
       "      <td>Howard Shore</td>\n",
       "      <td>7.80</td>\n",
       "      <td>729523.00</td>\n",
       "      <td>/xQYiXsheRCDBA39DOrmaw1aSpbk.jpg</td>\n",
       "    </tr>\n",
       "    <tr>\n",
       "      <th>80402</th>\n",
       "      <td>122917</td>\n",
       "      <td>The Hobbit: The Battle of the Five Armies</td>\n",
       "      <td>7.32</td>\n",
       "      <td>14520.00</td>\n",
       "      <td>Released</td>\n",
       "      <td>2014-12-10</td>\n",
       "      <td>956019788.00</td>\n",
       "      <td>144.00</td>\n",
       "      <td>250000000.00</td>\n",
       "      <td>tt2310332</td>\n",
       "      <td>en</td>\n",
       "      <td>The Hobbit: The Battle of the Five Armies</td>\n",
       "      <td>Immediately after the events of The Desolation...</td>\n",
       "      <td>19.03</td>\n",
       "      <td>Witness the defining chapter of the Middle-Ear...</td>\n",
       "      <td>Action, Adventure, Fantasy</td>\n",
       "      <td>Warner Bros. Pictures, New Line Cinema, Metro-...</td>\n",
       "      <td>New Zealand, United States of America</td>\n",
       "      <td>English</td>\n",
       "      <td>Thomasin McKenzie, Stephen Fry, Sarah Peirse, ...</td>\n",
       "      <td>Peter Jackson</td>\n",
       "      <td>Andrew Lesnie</td>\n",
       "      <td>Fran Walsh, J. R. R. Tolkien, Guillermo del To...</td>\n",
       "      <td>Fran Walsh, Carolyn Blackwood, Carolynne Cunni...</td>\n",
       "      <td>Howard Shore</td>\n",
       "      <td>7.40</td>\n",
       "      <td>594492.00</td>\n",
       "      <td>/xT98tLqatZPQApyRmlPL12LtiWp.jpg</td>\n",
       "    </tr>\n",
       "    <tr>\n",
       "      <th>132851</th>\n",
       "      <td>231900</td>\n",
       "      <td>The Hobbit: The Quest for Cantal</td>\n",
       "      <td>6.30</td>\n",
       "      <td>12.00</td>\n",
       "      <td>Released</td>\n",
       "      <td>2013-10-22</td>\n",
       "      <td>0.00</td>\n",
       "      <td>6.00</td>\n",
       "      <td>500.00</td>\n",
       "      <td>NaN</td>\n",
       "      <td>fr</td>\n",
       "      <td>Le Hobbit : La Quête du Cantal</td>\n",
       "      <td>Parody of The Lord of the Rings and The Hobbit...</td>\n",
       "      <td>0.09</td>\n",
       "      <td>NaN</td>\n",
       "      <td>Adventure, Fantasy, Comedy</td>\n",
       "      <td>NaN</td>\n",
       "      <td>France</td>\n",
       "      <td>Français</td>\n",
       "      <td>Brian Senaud, Alexandre Loubeyre, Arthur Rey, ...</td>\n",
       "      <td>Léo Pons</td>\n",
       "      <td>NaN</td>\n",
       "      <td>NaN</td>\n",
       "      <td>NaN</td>\n",
       "      <td>NaN</td>\n",
       "      <td>NaN</td>\n",
       "      <td>NaN</td>\n",
       "      <td>/9gbVLTYj5DPvYLsRH0UcaqatyCP.jpg</td>\n",
       "    </tr>\n",
       "    <tr>\n",
       "      <th>147759</th>\n",
       "      <td>257247</td>\n",
       "      <td>The Hobbit: The Origins of Cantal</td>\n",
       "      <td>7.10</td>\n",
       "      <td>9.00</td>\n",
       "      <td>Released</td>\n",
       "      <td>2014-06-26</td>\n",
       "      <td>0.00</td>\n",
       "      <td>36.00</td>\n",
       "      <td>2500.00</td>\n",
       "      <td>NaN</td>\n",
       "      <td>fr</td>\n",
       "      <td>Le Hobbit : Les Origines du Cantal</td>\n",
       "      <td>Thorin, the former king of Cantal, accompanied...</td>\n",
       "      <td>0.13</td>\n",
       "      <td>NaN</td>\n",
       "      <td>Adventure, Comedy</td>\n",
       "      <td>NaN</td>\n",
       "      <td>NaN</td>\n",
       "      <td>Français</td>\n",
       "      <td>Dylan Gracia, Clarisse Duterne, Yuna Ricard, S...</td>\n",
       "      <td>Léo Pons</td>\n",
       "      <td>NaN</td>\n",
       "      <td>NaN</td>\n",
       "      <td>NaN</td>\n",
       "      <td>NaN</td>\n",
       "      <td>NaN</td>\n",
       "      <td>NaN</td>\n",
       "      <td>/iW05McoLaZssjcUEDNnmI6n1QIY.jpg</td>\n",
       "    </tr>\n",
       "    <tr>\n",
       "      <th>232220</th>\n",
       "      <td>357073</td>\n",
       "      <td>The Hobbit: The Return of the King of Cantal</td>\n",
       "      <td>7.60</td>\n",
       "      <td>12.00</td>\n",
       "      <td>Released</td>\n",
       "      <td>2015-07-08</td>\n",
       "      <td>0.00</td>\n",
       "      <td>65.00</td>\n",
       "      <td>8000.00</td>\n",
       "      <td>tt4450930</td>\n",
       "      <td>fr</td>\n",
       "      <td>Le Hobbit : Le Retour du Roi du Cantal</td>\n",
       "      <td>Cantal is attacked by Puy-de-Dôme. King Thorin...</td>\n",
       "      <td>2.60</td>\n",
       "      <td>NaN</td>\n",
       "      <td>Adventure, Comedy</td>\n",
       "      <td>leomedias</td>\n",
       "      <td>France</td>\n",
       "      <td>Français</td>\n",
       "      <td>Benoît Allemane, Roger Claude Delaunay, Arthur...</td>\n",
       "      <td>Léo Pons</td>\n",
       "      <td>NaN</td>\n",
       "      <td>NaN</td>\n",
       "      <td>NaN</td>\n",
       "      <td>NaN</td>\n",
       "      <td>7.20</td>\n",
       "      <td>15.00</td>\n",
       "      <td>/zzvnyLZjsI6RN5qETxb4YuI4FlN.jpg</td>\n",
       "    </tr>\n",
       "    <tr>\n",
       "      <th>520237</th>\n",
       "      <td>731021</td>\n",
       "      <td>The Hobbit: Treasures under the Mountain</td>\n",
       "      <td>4.50</td>\n",
       "      <td>1.00</td>\n",
       "      <td>Released</td>\n",
       "      <td>1994-08-03</td>\n",
       "      <td>0.00</td>\n",
       "      <td>0.00</td>\n",
       "      <td>0.00</td>\n",
       "      <td>NaN</td>\n",
       "      <td>ru</td>\n",
       "      <td>Хоббит. Сокровища под горой</td>\n",
       "      <td>NaN</td>\n",
       "      <td>2.51</td>\n",
       "      <td>NaN</td>\n",
       "      <td>Animation</td>\n",
       "      <td>NaN</td>\n",
       "      <td>NaN</td>\n",
       "      <td>NaN</td>\n",
       "      <td>Lev Borisov, Nikolai Karachentsov</td>\n",
       "      <td>Роман Митрофанов</td>\n",
       "      <td>NaN</td>\n",
       "      <td>NaN</td>\n",
       "      <td>NaN</td>\n",
       "      <td>NaN</td>\n",
       "      <td>NaN</td>\n",
       "      <td>NaN</td>\n",
       "      <td>/9KojSB8tGSraPqdYrUeWPOcvzCr.jpg</td>\n",
       "    </tr>\n",
       "    <tr>\n",
       "      <th>1018636</th>\n",
       "      <td>1389367</td>\n",
       "      <td>The Hobbit: An Unexpected Journey (Extended Ed...</td>\n",
       "      <td>10.00</td>\n",
       "      <td>1.00</td>\n",
       "      <td>Released</td>\n",
       "      <td>NaT</td>\n",
       "      <td>0.00</td>\n",
       "      <td>182.00</td>\n",
       "      <td>0.00</td>\n",
       "      <td>tt21836008</td>\n",
       "      <td>en</td>\n",
       "      <td>The Hobbit: An Unexpected Journey (Extended Ed...</td>\n",
       "      <td>This Extended adventure follows Bilbo Baggins,...</td>\n",
       "      <td>0.68</td>\n",
       "      <td>NaN</td>\n",
       "      <td>NaN</td>\n",
       "      <td>NaN</td>\n",
       "      <td>NaN</td>\n",
       "      <td>English</td>\n",
       "      <td>NaN</td>\n",
       "      <td>NaN</td>\n",
       "      <td>NaN</td>\n",
       "      <td>NaN</td>\n",
       "      <td>NaN</td>\n",
       "      <td>NaN</td>\n",
       "      <td>8.60</td>\n",
       "      <td>596.00</td>\n",
       "      <td>/yxEHh9eOE2jkXmiScQYtuWQD5PB.jpg</td>\n",
       "    </tr>\n",
       "    <tr>\n",
       "      <th>1018637</th>\n",
       "      <td>1389368</td>\n",
       "      <td>The Hobbit: The Desolation of Smaug (Extended ...</td>\n",
       "      <td>10.00</td>\n",
       "      <td>1.00</td>\n",
       "      <td>Released</td>\n",
       "      <td>NaT</td>\n",
       "      <td>0.00</td>\n",
       "      <td>186.00</td>\n",
       "      <td>0.00</td>\n",
       "      <td>tt21824192</td>\n",
       "      <td>en</td>\n",
       "      <td>The Hobbit: The Desolation of Smaug (Extended ...</td>\n",
       "      <td>Academy Award® winner Peter Jackson continues ...</td>\n",
       "      <td>0.68</td>\n",
       "      <td>NaN</td>\n",
       "      <td>NaN</td>\n",
       "      <td>NaN</td>\n",
       "      <td>NaN</td>\n",
       "      <td>English</td>\n",
       "      <td>NaN</td>\n",
       "      <td>NaN</td>\n",
       "      <td>NaN</td>\n",
       "      <td>NaN</td>\n",
       "      <td>NaN</td>\n",
       "      <td>NaN</td>\n",
       "      <td>8.60</td>\n",
       "      <td>1009.00</td>\n",
       "      <td>/zkNLurqXAbZ82igkeE0PnXgaqJG.jpg</td>\n",
       "    </tr>\n",
       "    <tr>\n",
       "      <th>1018638</th>\n",
       "      <td>1389369</td>\n",
       "      <td>The Hobbit: The Battle of Five Armies (Extende...</td>\n",
       "      <td>10.00</td>\n",
       "      <td>1.00</td>\n",
       "      <td>Released</td>\n",
       "      <td>NaT</td>\n",
       "      <td>0.00</td>\n",
       "      <td>163.00</td>\n",
       "      <td>0.00</td>\n",
       "      <td>tt21832076</td>\n",
       "      <td>en</td>\n",
       "      <td>The Hobbit: The Battle of Five Armies (Extende...</td>\n",
       "      <td>Academy Award®-winning filmmaker Peter Jackson...</td>\n",
       "      <td>0.68</td>\n",
       "      <td>NaN</td>\n",
       "      <td>NaN</td>\n",
       "      <td>NaN</td>\n",
       "      <td>NaN</td>\n",
       "      <td>English</td>\n",
       "      <td>NaN</td>\n",
       "      <td>NaN</td>\n",
       "      <td>NaN</td>\n",
       "      <td>NaN</td>\n",
       "      <td>NaN</td>\n",
       "      <td>NaN</td>\n",
       "      <td>8.40</td>\n",
       "      <td>1386.00</td>\n",
       "      <td>/lpe5jcsgNITcn4Y9Wg676z2WQFI.jpg</td>\n",
       "    </tr>\n",
       "    <tr>\n",
       "      <th>1039753</th>\n",
       "      <td>1414358</td>\n",
       "      <td>The Hobbit: There and Back Again</td>\n",
       "      <td>0.00</td>\n",
       "      <td>0.00</td>\n",
       "      <td>Released</td>\n",
       "      <td>2025-01-11</td>\n",
       "      <td>0.00</td>\n",
       "      <td>256.00</td>\n",
       "      <td>0.00</td>\n",
       "      <td>NaN</td>\n",
       "      <td>en</td>\n",
       "      <td>The Hobbit: There and Back Again</td>\n",
       "      <td>A fan edit that reimagines Peter Jackon's The ...</td>\n",
       "      <td>1.40</td>\n",
       "      <td>IN A HOLE IN THE GROUND THERE LIVED A HOBBIT.</td>\n",
       "      <td>Fantasy, Action, Adventure</td>\n",
       "      <td>NaN</td>\n",
       "      <td>NaN</td>\n",
       "      <td>NaN</td>\n",
       "      <td>Lee Pace, Stephen Hunter, Graham McTavish, Ian...</td>\n",
       "      <td>Peter Jackson</td>\n",
       "      <td>NaN</td>\n",
       "      <td>J. R. R. Tolkien</td>\n",
       "      <td>NaN</td>\n",
       "      <td>NaN</td>\n",
       "      <td>NaN</td>\n",
       "      <td>NaN</td>\n",
       "      <td>NaN</td>\n",
       "    </tr>\n",
       "    <tr>\n",
       "      <th>1052070</th>\n",
       "      <td>1429776</td>\n",
       "      <td>The Hobbit: The Battle of t he five armies</td>\n",
       "      <td>0.00</td>\n",
       "      <td>0.00</td>\n",
       "      <td>Released</td>\n",
       "      <td>NaT</td>\n",
       "      <td>0.00</td>\n",
       "      <td>0.00</td>\n",
       "      <td>0.00</td>\n",
       "      <td>NaN</td>\n",
       "      <td>en</td>\n",
       "      <td>The Hobbit: The Battle of t he five armies</td>\n",
       "      <td>Thor in Oakenshield and the Dwarves of Erebor</td>\n",
       "      <td>0.60</td>\n",
       "      <td>NaN</td>\n",
       "      <td>NaN</td>\n",
       "      <td>NaN</td>\n",
       "      <td>NaN</td>\n",
       "      <td>NaN</td>\n",
       "      <td>NaN</td>\n",
       "      <td>NaN</td>\n",
       "      <td>NaN</td>\n",
       "      <td>NaN</td>\n",
       "      <td>NaN</td>\n",
       "      <td>NaN</td>\n",
       "      <td>NaN</td>\n",
       "      <td>NaN</td>\n",
       "      <td>NaN</td>\n",
       "    </tr>\n",
       "  </tbody>\n",
       "</table>\n",
       "</div>"
      ]
     },
     "execution_count": 6,
     "metadata": {},
     "output_type": "execute_result"
    }
   ],
   "execution_count": 6
  },
  {
   "metadata": {
    "ExecuteTime": {
     "end_time": "2025-04-05T07:32:01.233676Z",
     "start_time": "2025-04-05T07:32:01.054405Z"
    }
   },
   "cell_type": "code",
   "source": "df_movies_imdb.loc[df_movies_imdb['title'].str.lower().str.contains('it ends with us') == True]",
   "outputs": [
    {
     "data": {
      "text/plain": [
       "             id            title  vote_average  vote_count    status release_date      revenue  runtime      budget     imdb_id original_language   original_title                                           overview  popularity                                         tagline          genres                               production_companies      production_countries spoken_languages                                               cast        director director_of_photography                       writers                                          producers                     music_composer  imdb_rating  imdb_votes                       poster_path\n",
       "765670  1079091  It Ends with Us          7.05     1540.00  Released   2024-08-07 350993761.00   131.00 25000000.00  tt10655524                en  It Ends with Us  When a woman's first love suddenly reenters he...       12.59  We break the pattern or the pattern breaks us.  Drama, Romance  Columbia Pictures, Wayfarer Studios, Saks Pict...  United States of America          English  Kevin McKidd, Daphne Zelle, Brandon Sklenar, M...  Justin Baldoni          Barry Peterson  Christy Hall, Colleen Hoover  Christy Hall, Blake Lively, Todd Black, John L...  Rob Simonsen, Duncan Blickenstaff         6.40    83176.00  /cSMdFWmajaX4oUMLx7HEDI84GkP.jpg"
      ],
      "text/html": [
       "<div>\n",
       "<style scoped>\n",
       "    .dataframe tbody tr th:only-of-type {\n",
       "        vertical-align: middle;\n",
       "    }\n",
       "\n",
       "    .dataframe tbody tr th {\n",
       "        vertical-align: top;\n",
       "    }\n",
       "\n",
       "    .dataframe thead th {\n",
       "        text-align: right;\n",
       "    }\n",
       "</style>\n",
       "<table border=\"1\" class=\"dataframe\">\n",
       "  <thead>\n",
       "    <tr style=\"text-align: right;\">\n",
       "      <th></th>\n",
       "      <th>id</th>\n",
       "      <th>title</th>\n",
       "      <th>vote_average</th>\n",
       "      <th>vote_count</th>\n",
       "      <th>status</th>\n",
       "      <th>release_date</th>\n",
       "      <th>revenue</th>\n",
       "      <th>runtime</th>\n",
       "      <th>budget</th>\n",
       "      <th>imdb_id</th>\n",
       "      <th>original_language</th>\n",
       "      <th>original_title</th>\n",
       "      <th>overview</th>\n",
       "      <th>popularity</th>\n",
       "      <th>tagline</th>\n",
       "      <th>genres</th>\n",
       "      <th>production_companies</th>\n",
       "      <th>production_countries</th>\n",
       "      <th>spoken_languages</th>\n",
       "      <th>cast</th>\n",
       "      <th>director</th>\n",
       "      <th>director_of_photography</th>\n",
       "      <th>writers</th>\n",
       "      <th>producers</th>\n",
       "      <th>music_composer</th>\n",
       "      <th>imdb_rating</th>\n",
       "      <th>imdb_votes</th>\n",
       "      <th>poster_path</th>\n",
       "    </tr>\n",
       "  </thead>\n",
       "  <tbody>\n",
       "    <tr>\n",
       "      <th>765670</th>\n",
       "      <td>1079091</td>\n",
       "      <td>It Ends with Us</td>\n",
       "      <td>7.05</td>\n",
       "      <td>1540.00</td>\n",
       "      <td>Released</td>\n",
       "      <td>2024-08-07</td>\n",
       "      <td>350993761.00</td>\n",
       "      <td>131.00</td>\n",
       "      <td>25000000.00</td>\n",
       "      <td>tt10655524</td>\n",
       "      <td>en</td>\n",
       "      <td>It Ends with Us</td>\n",
       "      <td>When a woman's first love suddenly reenters he...</td>\n",
       "      <td>12.59</td>\n",
       "      <td>We break the pattern or the pattern breaks us.</td>\n",
       "      <td>Drama, Romance</td>\n",
       "      <td>Columbia Pictures, Wayfarer Studios, Saks Pict...</td>\n",
       "      <td>United States of America</td>\n",
       "      <td>English</td>\n",
       "      <td>Kevin McKidd, Daphne Zelle, Brandon Sklenar, M...</td>\n",
       "      <td>Justin Baldoni</td>\n",
       "      <td>Barry Peterson</td>\n",
       "      <td>Christy Hall, Colleen Hoover</td>\n",
       "      <td>Christy Hall, Blake Lively, Todd Black, John L...</td>\n",
       "      <td>Rob Simonsen, Duncan Blickenstaff</td>\n",
       "      <td>6.40</td>\n",
       "      <td>83176.00</td>\n",
       "      <td>/cSMdFWmajaX4oUMLx7HEDI84GkP.jpg</td>\n",
       "    </tr>\n",
       "  </tbody>\n",
       "</table>\n",
       "</div>"
      ]
     },
     "execution_count": 7,
     "metadata": {},
     "output_type": "execute_result"
    }
   ],
   "execution_count": 7
  },
  {
   "cell_type": "code",
   "metadata": {
    "ExecuteTime": {
     "end_time": "2025-04-05T07:32:01.273743Z",
     "start_time": "2025-04-05T07:32:01.271658Z"
    }
   },
   "source": [
    "df_movies_imdb.shape"
   ],
   "outputs": [
    {
     "data": {
      "text/plain": [
       "(1077210, 28)"
      ]
     },
     "execution_count": 8,
     "metadata": {},
     "output_type": "execute_result"
    }
   ],
   "execution_count": 8
  },
  {
   "cell_type": "code",
   "metadata": {
    "ExecuteTime": {
     "end_time": "2025-04-05T07:32:01.571611Z",
     "start_time": "2025-04-05T07:32:01.324871Z"
    }
   },
   "source": [
    "df_movies_imdb.info()"
   ],
   "outputs": [
    {
     "name": "stdout",
     "output_type": "stream",
     "text": [
      "<class 'pandas.core.frame.DataFrame'>\n",
      "RangeIndex: 1077210 entries, 0 to 1077209\n",
      "Data columns (total 28 columns):\n",
      " #   Column                   Non-Null Count    Dtype         \n",
      "---  ------                   --------------    -----         \n",
      " 0   id                       1077210 non-null  int64         \n",
      " 1   title                    1077197 non-null  object        \n",
      " 2   vote_average             1077208 non-null  float64       \n",
      " 3   vote_count               1077208 non-null  float64       \n",
      " 4   status                   1077208 non-null  object        \n",
      " 5   release_date             954244 non-null   datetime64[ns]\n",
      " 6   revenue                  1077208 non-null  float64       \n",
      " 7   runtime                  1077208 non-null  float64       \n",
      " 8   budget                   1077208 non-null  float64       \n",
      " 9   imdb_id                  612131 non-null   object        \n",
      " 10  original_language        1077208 non-null  object        \n",
      " 11  original_title           1077198 non-null  object        \n",
      " 12  overview                 886742 non-null   object        \n",
      " 13  popularity               1077208 non-null  float64       \n",
      " 14  tagline                  162810 non-null   object        \n",
      " 15  genres                   768805 non-null   object        \n",
      " 16  production_companies     500822 non-null   object        \n",
      " 17  production_countries     651269 non-null   object        \n",
      " 18  spoken_languages         665686 non-null   object        \n",
      " 19  cast                     722076 non-null   object        \n",
      " 20  director                 884821 non-null   object        \n",
      " 21  director_of_photography  264288 non-null   object        \n",
      " 22  writers                  526595 non-null   object        \n",
      " 23  producers                347960 non-null   object        \n",
      " 24  music_composer           108521 non-null   object        \n",
      " 25  imdb_rating              443405 non-null   float64       \n",
      " 26  imdb_votes               443405 non-null   float64       \n",
      " 27  poster_path              775436 non-null   object        \n",
      "dtypes: datetime64[ns](1), float64(8), int64(1), object(18)\n",
      "memory usage: 230.1+ MB\n"
     ]
    }
   ],
   "execution_count": 9
  },
  {
   "cell_type": "code",
   "metadata": {
    "ExecuteTime": {
     "end_time": "2025-04-05T07:32:04.019234Z",
     "start_time": "2025-04-05T07:32:01.599484Z"
    }
   },
   "source": [
    "# analyze the distributions\n",
    "df_movies_imdb.describe(percentiles=[0, 0.1, 0.25, 0.5, 0.75, 0.9, 0.99, 1], include='all')"
   ],
   "outputs": [
    {
     "data": {
      "text/plain": [
       "               id    title  vote_average  vote_count    status                   release_date       revenue    runtime       budget     imdb_id original_language original_title overview  popularity  tagline       genres production_companies      production_countries spoken_languages       cast        director director_of_photography              writers                       producers music_composer  imdb_rating  imdb_votes                       poster_path\n",
       "count  1077210.00  1077197    1077208.00  1077208.00   1077208                         954244    1077208.00 1077208.00   1077208.00      612131           1077208        1077198   886742  1077208.00   162810       768805               500822                    651269           665686     722076          884821                  264288               526595                          347960         108521    443405.00   443405.00                            775436\n",
       "unique        NaN   912814           NaN         NaN         6                            NaN           NaN        NaN          NaN      610954               176         951757   865428         NaN   157721        15338               234068                     11388             7006     675421          360853                   94517               365787                          250018          36271          NaN         NaN                            771274\n",
       "top           NaN     Home           NaN         NaN  Released                            NaN           NaN        NaN          NaN  tt32094375                en       Untitled                  NaN  English  Documentary                  BBC  United States of America          English  Mel Blanc  Dave Fleischer          Mikhail Druyan  William Shakespeare  Auguste Lumière, Louis Lumière    Ilaiyaraaja          NaN         NaN  /sRs2R6qI9C3Liv3hWrQTdmoSqqp.jpg\n",
       "freq          NaN      165           NaN         NaN   1058149                            NaN           NaN        NaN          NaN          60            536158            123     1092         NaN      129       154913                 2551                    153126           219205        400             622                     195                  320                             783            352          NaN         NaN                                58\n",
       "mean    759279.15      NaN          2.07       22.82       NaN  2000-03-20 05:36:24.633700096     788358.96      44.93    306880.39         NaN               NaN            NaN      NaN        1.35      NaN          NaN                  NaN                       NaN              NaN        NaN             NaN                     NaN                  NaN                             NaN            NaN         6.25     2810.35                               NaN\n",
       "min          2.00      NaN          0.00        0.00       NaN            1800-01-01 00:00:00        -12.00       0.00         0.00         NaN               NaN            NaN      NaN        0.00      NaN          NaN                  NaN                       NaN              NaN        NaN             NaN                     NaN                  NaN                             NaN            NaN         1.00        5.00                               NaN\n",
       "0%           2.00      NaN          0.00        0.00       NaN            1800-01-01 00:00:00        -12.00       0.00         0.00         NaN               NaN            NaN      NaN        0.00      NaN          NaN                  NaN                       NaN              NaN        NaN             NaN                     NaN                  NaN                             NaN            NaN         1.00        5.00                               NaN\n",
       "10%     181515.50      NaN          0.00        0.00       NaN  1959-05-26 07:12:00.000000256          0.00       0.00         0.00         NaN               NaN            NaN      NaN        0.22      NaN          NaN                  NaN                       NaN              NaN        NaN             NaN                     NaN                  NaN                             NaN            NaN         4.50       10.00                               NaN\n",
       "25%     403138.25      NaN          0.00        0.00       NaN            1988-08-08 00:00:00          0.00       1.00         0.00         NaN               NaN            NaN      NaN        0.60      NaN          NaN                  NaN                       NaN              NaN        NaN             NaN                     NaN                  NaN                             NaN            NaN         5.50       20.00                               NaN\n",
       "50%     755786.00      NaN          0.00        0.00       NaN            2011-05-18 00:00:00          0.00      22.00         0.00         NaN               NaN            NaN      NaN        0.66      NaN          NaN                  NaN                       NaN              NaN        NaN             NaN                     NaN                  NaN                             NaN            NaN         6.30       59.00                               NaN\n",
       "75%    1138724.75      NaN          5.00        1.00       NaN            2019-12-05 00:00:00          0.00      86.00         0.00         NaN               NaN            NaN      NaN        1.39      NaN          NaN                  NaN                       NaN              NaN        NaN             NaN                     NaN                  NaN                             NaN            NaN         7.10      266.00                               NaN\n",
       "90%    1331047.10      NaN          7.00        7.00       NaN            2023-06-02 00:00:00          0.00     104.00         0.00         NaN               NaN            NaN      NaN        2.55      NaN          NaN                  NaN                       NaN              NaN        NaN             NaN                     NaN                  NaN                             NaN            NaN         7.80     1338.00                               NaN\n",
       "99%    1446471.91      NaN         10.00      274.00       NaN            2025-02-01 00:00:00    3155764.25     178.00   3500000.00         NaN               NaN            NaN      NaN       11.11      NaN          NaN                  NaN                       NaN              NaN        NaN             NaN                     NaN                  NaN                             NaN            NaN         9.10    50201.76                               NaN\n",
       "100%   5180730.00      NaN         10.00    37284.00       NaN            2115-11-18 00:00:00 4999999999.00   14400.00 999999999.00         NaN               NaN            NaN      NaN      525.00      NaN          NaN                  NaN                       NaN              NaN        NaN             NaN                     NaN                  NaN                             NaN            NaN        10.00  3027659.00                               NaN\n",
       "max    5180730.00      NaN         10.00    37284.00       NaN            2115-11-18 00:00:00 4999999999.00   14400.00 999999999.00         NaN               NaN            NaN      NaN      525.00      NaN          NaN                  NaN                       NaN              NaN        NaN             NaN                     NaN                  NaN                             NaN            NaN        10.00  3027659.00                               NaN\n",
       "std     419368.24      NaN          3.08      361.48       NaN                            NaN   19154038.54      58.08   5236122.78         NaN               NaN            NaN      NaN        3.23      NaN          NaN                  NaN                       NaN              NaN        NaN             NaN                     NaN                  NaN                             NaN            NaN         1.32    31822.41                               NaN"
      ],
      "text/html": [
       "<div>\n",
       "<style scoped>\n",
       "    .dataframe tbody tr th:only-of-type {\n",
       "        vertical-align: middle;\n",
       "    }\n",
       "\n",
       "    .dataframe tbody tr th {\n",
       "        vertical-align: top;\n",
       "    }\n",
       "\n",
       "    .dataframe thead th {\n",
       "        text-align: right;\n",
       "    }\n",
       "</style>\n",
       "<table border=\"1\" class=\"dataframe\">\n",
       "  <thead>\n",
       "    <tr style=\"text-align: right;\">\n",
       "      <th></th>\n",
       "      <th>id</th>\n",
       "      <th>title</th>\n",
       "      <th>vote_average</th>\n",
       "      <th>vote_count</th>\n",
       "      <th>status</th>\n",
       "      <th>release_date</th>\n",
       "      <th>revenue</th>\n",
       "      <th>runtime</th>\n",
       "      <th>budget</th>\n",
       "      <th>imdb_id</th>\n",
       "      <th>original_language</th>\n",
       "      <th>original_title</th>\n",
       "      <th>overview</th>\n",
       "      <th>popularity</th>\n",
       "      <th>tagline</th>\n",
       "      <th>genres</th>\n",
       "      <th>production_companies</th>\n",
       "      <th>production_countries</th>\n",
       "      <th>spoken_languages</th>\n",
       "      <th>cast</th>\n",
       "      <th>director</th>\n",
       "      <th>director_of_photography</th>\n",
       "      <th>writers</th>\n",
       "      <th>producers</th>\n",
       "      <th>music_composer</th>\n",
       "      <th>imdb_rating</th>\n",
       "      <th>imdb_votes</th>\n",
       "      <th>poster_path</th>\n",
       "    </tr>\n",
       "  </thead>\n",
       "  <tbody>\n",
       "    <tr>\n",
       "      <th>count</th>\n",
       "      <td>1077210.00</td>\n",
       "      <td>1077197</td>\n",
       "      <td>1077208.00</td>\n",
       "      <td>1077208.00</td>\n",
       "      <td>1077208</td>\n",
       "      <td>954244</td>\n",
       "      <td>1077208.00</td>\n",
       "      <td>1077208.00</td>\n",
       "      <td>1077208.00</td>\n",
       "      <td>612131</td>\n",
       "      <td>1077208</td>\n",
       "      <td>1077198</td>\n",
       "      <td>886742</td>\n",
       "      <td>1077208.00</td>\n",
       "      <td>162810</td>\n",
       "      <td>768805</td>\n",
       "      <td>500822</td>\n",
       "      <td>651269</td>\n",
       "      <td>665686</td>\n",
       "      <td>722076</td>\n",
       "      <td>884821</td>\n",
       "      <td>264288</td>\n",
       "      <td>526595</td>\n",
       "      <td>347960</td>\n",
       "      <td>108521</td>\n",
       "      <td>443405.00</td>\n",
       "      <td>443405.00</td>\n",
       "      <td>775436</td>\n",
       "    </tr>\n",
       "    <tr>\n",
       "      <th>unique</th>\n",
       "      <td>NaN</td>\n",
       "      <td>912814</td>\n",
       "      <td>NaN</td>\n",
       "      <td>NaN</td>\n",
       "      <td>6</td>\n",
       "      <td>NaN</td>\n",
       "      <td>NaN</td>\n",
       "      <td>NaN</td>\n",
       "      <td>NaN</td>\n",
       "      <td>610954</td>\n",
       "      <td>176</td>\n",
       "      <td>951757</td>\n",
       "      <td>865428</td>\n",
       "      <td>NaN</td>\n",
       "      <td>157721</td>\n",
       "      <td>15338</td>\n",
       "      <td>234068</td>\n",
       "      <td>11388</td>\n",
       "      <td>7006</td>\n",
       "      <td>675421</td>\n",
       "      <td>360853</td>\n",
       "      <td>94517</td>\n",
       "      <td>365787</td>\n",
       "      <td>250018</td>\n",
       "      <td>36271</td>\n",
       "      <td>NaN</td>\n",
       "      <td>NaN</td>\n",
       "      <td>771274</td>\n",
       "    </tr>\n",
       "    <tr>\n",
       "      <th>top</th>\n",
       "      <td>NaN</td>\n",
       "      <td>Home</td>\n",
       "      <td>NaN</td>\n",
       "      <td>NaN</td>\n",
       "      <td>Released</td>\n",
       "      <td>NaN</td>\n",
       "      <td>NaN</td>\n",
       "      <td>NaN</td>\n",
       "      <td>NaN</td>\n",
       "      <td>tt32094375</td>\n",
       "      <td>en</td>\n",
       "      <td>Untitled</td>\n",
       "      <td></td>\n",
       "      <td>NaN</td>\n",
       "      <td>English</td>\n",
       "      <td>Documentary</td>\n",
       "      <td>BBC</td>\n",
       "      <td>United States of America</td>\n",
       "      <td>English</td>\n",
       "      <td>Mel Blanc</td>\n",
       "      <td>Dave Fleischer</td>\n",
       "      <td>Mikhail Druyan</td>\n",
       "      <td>William Shakespeare</td>\n",
       "      <td>Auguste Lumière, Louis Lumière</td>\n",
       "      <td>Ilaiyaraaja</td>\n",
       "      <td>NaN</td>\n",
       "      <td>NaN</td>\n",
       "      <td>/sRs2R6qI9C3Liv3hWrQTdmoSqqp.jpg</td>\n",
       "    </tr>\n",
       "    <tr>\n",
       "      <th>freq</th>\n",
       "      <td>NaN</td>\n",
       "      <td>165</td>\n",
       "      <td>NaN</td>\n",
       "      <td>NaN</td>\n",
       "      <td>1058149</td>\n",
       "      <td>NaN</td>\n",
       "      <td>NaN</td>\n",
       "      <td>NaN</td>\n",
       "      <td>NaN</td>\n",
       "      <td>60</td>\n",
       "      <td>536158</td>\n",
       "      <td>123</td>\n",
       "      <td>1092</td>\n",
       "      <td>NaN</td>\n",
       "      <td>129</td>\n",
       "      <td>154913</td>\n",
       "      <td>2551</td>\n",
       "      <td>153126</td>\n",
       "      <td>219205</td>\n",
       "      <td>400</td>\n",
       "      <td>622</td>\n",
       "      <td>195</td>\n",
       "      <td>320</td>\n",
       "      <td>783</td>\n",
       "      <td>352</td>\n",
       "      <td>NaN</td>\n",
       "      <td>NaN</td>\n",
       "      <td>58</td>\n",
       "    </tr>\n",
       "    <tr>\n",
       "      <th>mean</th>\n",
       "      <td>759279.15</td>\n",
       "      <td>NaN</td>\n",
       "      <td>2.07</td>\n",
       "      <td>22.82</td>\n",
       "      <td>NaN</td>\n",
       "      <td>2000-03-20 05:36:24.633700096</td>\n",
       "      <td>788358.96</td>\n",
       "      <td>44.93</td>\n",
       "      <td>306880.39</td>\n",
       "      <td>NaN</td>\n",
       "      <td>NaN</td>\n",
       "      <td>NaN</td>\n",
       "      <td>NaN</td>\n",
       "      <td>1.35</td>\n",
       "      <td>NaN</td>\n",
       "      <td>NaN</td>\n",
       "      <td>NaN</td>\n",
       "      <td>NaN</td>\n",
       "      <td>NaN</td>\n",
       "      <td>NaN</td>\n",
       "      <td>NaN</td>\n",
       "      <td>NaN</td>\n",
       "      <td>NaN</td>\n",
       "      <td>NaN</td>\n",
       "      <td>NaN</td>\n",
       "      <td>6.25</td>\n",
       "      <td>2810.35</td>\n",
       "      <td>NaN</td>\n",
       "    </tr>\n",
       "    <tr>\n",
       "      <th>min</th>\n",
       "      <td>2.00</td>\n",
       "      <td>NaN</td>\n",
       "      <td>0.00</td>\n",
       "      <td>0.00</td>\n",
       "      <td>NaN</td>\n",
       "      <td>1800-01-01 00:00:00</td>\n",
       "      <td>-12.00</td>\n",
       "      <td>0.00</td>\n",
       "      <td>0.00</td>\n",
       "      <td>NaN</td>\n",
       "      <td>NaN</td>\n",
       "      <td>NaN</td>\n",
       "      <td>NaN</td>\n",
       "      <td>0.00</td>\n",
       "      <td>NaN</td>\n",
       "      <td>NaN</td>\n",
       "      <td>NaN</td>\n",
       "      <td>NaN</td>\n",
       "      <td>NaN</td>\n",
       "      <td>NaN</td>\n",
       "      <td>NaN</td>\n",
       "      <td>NaN</td>\n",
       "      <td>NaN</td>\n",
       "      <td>NaN</td>\n",
       "      <td>NaN</td>\n",
       "      <td>1.00</td>\n",
       "      <td>5.00</td>\n",
       "      <td>NaN</td>\n",
       "    </tr>\n",
       "    <tr>\n",
       "      <th>0%</th>\n",
       "      <td>2.00</td>\n",
       "      <td>NaN</td>\n",
       "      <td>0.00</td>\n",
       "      <td>0.00</td>\n",
       "      <td>NaN</td>\n",
       "      <td>1800-01-01 00:00:00</td>\n",
       "      <td>-12.00</td>\n",
       "      <td>0.00</td>\n",
       "      <td>0.00</td>\n",
       "      <td>NaN</td>\n",
       "      <td>NaN</td>\n",
       "      <td>NaN</td>\n",
       "      <td>NaN</td>\n",
       "      <td>0.00</td>\n",
       "      <td>NaN</td>\n",
       "      <td>NaN</td>\n",
       "      <td>NaN</td>\n",
       "      <td>NaN</td>\n",
       "      <td>NaN</td>\n",
       "      <td>NaN</td>\n",
       "      <td>NaN</td>\n",
       "      <td>NaN</td>\n",
       "      <td>NaN</td>\n",
       "      <td>NaN</td>\n",
       "      <td>NaN</td>\n",
       "      <td>1.00</td>\n",
       "      <td>5.00</td>\n",
       "      <td>NaN</td>\n",
       "    </tr>\n",
       "    <tr>\n",
       "      <th>10%</th>\n",
       "      <td>181515.50</td>\n",
       "      <td>NaN</td>\n",
       "      <td>0.00</td>\n",
       "      <td>0.00</td>\n",
       "      <td>NaN</td>\n",
       "      <td>1959-05-26 07:12:00.000000256</td>\n",
       "      <td>0.00</td>\n",
       "      <td>0.00</td>\n",
       "      <td>0.00</td>\n",
       "      <td>NaN</td>\n",
       "      <td>NaN</td>\n",
       "      <td>NaN</td>\n",
       "      <td>NaN</td>\n",
       "      <td>0.22</td>\n",
       "      <td>NaN</td>\n",
       "      <td>NaN</td>\n",
       "      <td>NaN</td>\n",
       "      <td>NaN</td>\n",
       "      <td>NaN</td>\n",
       "      <td>NaN</td>\n",
       "      <td>NaN</td>\n",
       "      <td>NaN</td>\n",
       "      <td>NaN</td>\n",
       "      <td>NaN</td>\n",
       "      <td>NaN</td>\n",
       "      <td>4.50</td>\n",
       "      <td>10.00</td>\n",
       "      <td>NaN</td>\n",
       "    </tr>\n",
       "    <tr>\n",
       "      <th>25%</th>\n",
       "      <td>403138.25</td>\n",
       "      <td>NaN</td>\n",
       "      <td>0.00</td>\n",
       "      <td>0.00</td>\n",
       "      <td>NaN</td>\n",
       "      <td>1988-08-08 00:00:00</td>\n",
       "      <td>0.00</td>\n",
       "      <td>1.00</td>\n",
       "      <td>0.00</td>\n",
       "      <td>NaN</td>\n",
       "      <td>NaN</td>\n",
       "      <td>NaN</td>\n",
       "      <td>NaN</td>\n",
       "      <td>0.60</td>\n",
       "      <td>NaN</td>\n",
       "      <td>NaN</td>\n",
       "      <td>NaN</td>\n",
       "      <td>NaN</td>\n",
       "      <td>NaN</td>\n",
       "      <td>NaN</td>\n",
       "      <td>NaN</td>\n",
       "      <td>NaN</td>\n",
       "      <td>NaN</td>\n",
       "      <td>NaN</td>\n",
       "      <td>NaN</td>\n",
       "      <td>5.50</td>\n",
       "      <td>20.00</td>\n",
       "      <td>NaN</td>\n",
       "    </tr>\n",
       "    <tr>\n",
       "      <th>50%</th>\n",
       "      <td>755786.00</td>\n",
       "      <td>NaN</td>\n",
       "      <td>0.00</td>\n",
       "      <td>0.00</td>\n",
       "      <td>NaN</td>\n",
       "      <td>2011-05-18 00:00:00</td>\n",
       "      <td>0.00</td>\n",
       "      <td>22.00</td>\n",
       "      <td>0.00</td>\n",
       "      <td>NaN</td>\n",
       "      <td>NaN</td>\n",
       "      <td>NaN</td>\n",
       "      <td>NaN</td>\n",
       "      <td>0.66</td>\n",
       "      <td>NaN</td>\n",
       "      <td>NaN</td>\n",
       "      <td>NaN</td>\n",
       "      <td>NaN</td>\n",
       "      <td>NaN</td>\n",
       "      <td>NaN</td>\n",
       "      <td>NaN</td>\n",
       "      <td>NaN</td>\n",
       "      <td>NaN</td>\n",
       "      <td>NaN</td>\n",
       "      <td>NaN</td>\n",
       "      <td>6.30</td>\n",
       "      <td>59.00</td>\n",
       "      <td>NaN</td>\n",
       "    </tr>\n",
       "    <tr>\n",
       "      <th>75%</th>\n",
       "      <td>1138724.75</td>\n",
       "      <td>NaN</td>\n",
       "      <td>5.00</td>\n",
       "      <td>1.00</td>\n",
       "      <td>NaN</td>\n",
       "      <td>2019-12-05 00:00:00</td>\n",
       "      <td>0.00</td>\n",
       "      <td>86.00</td>\n",
       "      <td>0.00</td>\n",
       "      <td>NaN</td>\n",
       "      <td>NaN</td>\n",
       "      <td>NaN</td>\n",
       "      <td>NaN</td>\n",
       "      <td>1.39</td>\n",
       "      <td>NaN</td>\n",
       "      <td>NaN</td>\n",
       "      <td>NaN</td>\n",
       "      <td>NaN</td>\n",
       "      <td>NaN</td>\n",
       "      <td>NaN</td>\n",
       "      <td>NaN</td>\n",
       "      <td>NaN</td>\n",
       "      <td>NaN</td>\n",
       "      <td>NaN</td>\n",
       "      <td>NaN</td>\n",
       "      <td>7.10</td>\n",
       "      <td>266.00</td>\n",
       "      <td>NaN</td>\n",
       "    </tr>\n",
       "    <tr>\n",
       "      <th>90%</th>\n",
       "      <td>1331047.10</td>\n",
       "      <td>NaN</td>\n",
       "      <td>7.00</td>\n",
       "      <td>7.00</td>\n",
       "      <td>NaN</td>\n",
       "      <td>2023-06-02 00:00:00</td>\n",
       "      <td>0.00</td>\n",
       "      <td>104.00</td>\n",
       "      <td>0.00</td>\n",
       "      <td>NaN</td>\n",
       "      <td>NaN</td>\n",
       "      <td>NaN</td>\n",
       "      <td>NaN</td>\n",
       "      <td>2.55</td>\n",
       "      <td>NaN</td>\n",
       "      <td>NaN</td>\n",
       "      <td>NaN</td>\n",
       "      <td>NaN</td>\n",
       "      <td>NaN</td>\n",
       "      <td>NaN</td>\n",
       "      <td>NaN</td>\n",
       "      <td>NaN</td>\n",
       "      <td>NaN</td>\n",
       "      <td>NaN</td>\n",
       "      <td>NaN</td>\n",
       "      <td>7.80</td>\n",
       "      <td>1338.00</td>\n",
       "      <td>NaN</td>\n",
       "    </tr>\n",
       "    <tr>\n",
       "      <th>99%</th>\n",
       "      <td>1446471.91</td>\n",
       "      <td>NaN</td>\n",
       "      <td>10.00</td>\n",
       "      <td>274.00</td>\n",
       "      <td>NaN</td>\n",
       "      <td>2025-02-01 00:00:00</td>\n",
       "      <td>3155764.25</td>\n",
       "      <td>178.00</td>\n",
       "      <td>3500000.00</td>\n",
       "      <td>NaN</td>\n",
       "      <td>NaN</td>\n",
       "      <td>NaN</td>\n",
       "      <td>NaN</td>\n",
       "      <td>11.11</td>\n",
       "      <td>NaN</td>\n",
       "      <td>NaN</td>\n",
       "      <td>NaN</td>\n",
       "      <td>NaN</td>\n",
       "      <td>NaN</td>\n",
       "      <td>NaN</td>\n",
       "      <td>NaN</td>\n",
       "      <td>NaN</td>\n",
       "      <td>NaN</td>\n",
       "      <td>NaN</td>\n",
       "      <td>NaN</td>\n",
       "      <td>9.10</td>\n",
       "      <td>50201.76</td>\n",
       "      <td>NaN</td>\n",
       "    </tr>\n",
       "    <tr>\n",
       "      <th>100%</th>\n",
       "      <td>5180730.00</td>\n",
       "      <td>NaN</td>\n",
       "      <td>10.00</td>\n",
       "      <td>37284.00</td>\n",
       "      <td>NaN</td>\n",
       "      <td>2115-11-18 00:00:00</td>\n",
       "      <td>4999999999.00</td>\n",
       "      <td>14400.00</td>\n",
       "      <td>999999999.00</td>\n",
       "      <td>NaN</td>\n",
       "      <td>NaN</td>\n",
       "      <td>NaN</td>\n",
       "      <td>NaN</td>\n",
       "      <td>525.00</td>\n",
       "      <td>NaN</td>\n",
       "      <td>NaN</td>\n",
       "      <td>NaN</td>\n",
       "      <td>NaN</td>\n",
       "      <td>NaN</td>\n",
       "      <td>NaN</td>\n",
       "      <td>NaN</td>\n",
       "      <td>NaN</td>\n",
       "      <td>NaN</td>\n",
       "      <td>NaN</td>\n",
       "      <td>NaN</td>\n",
       "      <td>10.00</td>\n",
       "      <td>3027659.00</td>\n",
       "      <td>NaN</td>\n",
       "    </tr>\n",
       "    <tr>\n",
       "      <th>max</th>\n",
       "      <td>5180730.00</td>\n",
       "      <td>NaN</td>\n",
       "      <td>10.00</td>\n",
       "      <td>37284.00</td>\n",
       "      <td>NaN</td>\n",
       "      <td>2115-11-18 00:00:00</td>\n",
       "      <td>4999999999.00</td>\n",
       "      <td>14400.00</td>\n",
       "      <td>999999999.00</td>\n",
       "      <td>NaN</td>\n",
       "      <td>NaN</td>\n",
       "      <td>NaN</td>\n",
       "      <td>NaN</td>\n",
       "      <td>525.00</td>\n",
       "      <td>NaN</td>\n",
       "      <td>NaN</td>\n",
       "      <td>NaN</td>\n",
       "      <td>NaN</td>\n",
       "      <td>NaN</td>\n",
       "      <td>NaN</td>\n",
       "      <td>NaN</td>\n",
       "      <td>NaN</td>\n",
       "      <td>NaN</td>\n",
       "      <td>NaN</td>\n",
       "      <td>NaN</td>\n",
       "      <td>10.00</td>\n",
       "      <td>3027659.00</td>\n",
       "      <td>NaN</td>\n",
       "    </tr>\n",
       "    <tr>\n",
       "      <th>std</th>\n",
       "      <td>419368.24</td>\n",
       "      <td>NaN</td>\n",
       "      <td>3.08</td>\n",
       "      <td>361.48</td>\n",
       "      <td>NaN</td>\n",
       "      <td>NaN</td>\n",
       "      <td>19154038.54</td>\n",
       "      <td>58.08</td>\n",
       "      <td>5236122.78</td>\n",
       "      <td>NaN</td>\n",
       "      <td>NaN</td>\n",
       "      <td>NaN</td>\n",
       "      <td>NaN</td>\n",
       "      <td>3.23</td>\n",
       "      <td>NaN</td>\n",
       "      <td>NaN</td>\n",
       "      <td>NaN</td>\n",
       "      <td>NaN</td>\n",
       "      <td>NaN</td>\n",
       "      <td>NaN</td>\n",
       "      <td>NaN</td>\n",
       "      <td>NaN</td>\n",
       "      <td>NaN</td>\n",
       "      <td>NaN</td>\n",
       "      <td>NaN</td>\n",
       "      <td>1.32</td>\n",
       "      <td>31822.41</td>\n",
       "      <td>NaN</td>\n",
       "    </tr>\n",
       "  </tbody>\n",
       "</table>\n",
       "</div>"
      ]
     },
     "execution_count": 10,
     "metadata": {},
     "output_type": "execute_result"
    }
   ],
   "execution_count": 10
  },
  {
   "cell_type": "markdown",
   "metadata": {
    "pycharm": {
     "name": "#%% md\n"
    }
   },
   "source": [
    "**Observations from visual inspection**:\n",
    "- columns seems to have a lot of missing values\n",
    "- `imdb_id` is a crucial field to link to movie ratings and links datasets, it contains missing values"
   ]
  },
  {
   "cell_type": "markdown",
   "metadata": {},
   "source": [
    "<a id='imdb_scope'></a>\n",
    "<span style=\"color:#7C9E9E; font-size:16px; font-weight:bold\">2.1.1 Reduce scope by filtering</span>\n",
    "\n",
    "First, before we continue, as this dataset is so huge,\n",
    "let's reduce the scope by selection only the following movies:\n",
    "* English movies only\n",
    "* Released since 1990\n",
    "* `imdb_id` is not null, as it's crucial to link to the ratings dataset\n",
    "* Have a least 20 votes in IMDB dataset and 1 vote in TMDB dataset\n",
    "* Have IMDB rating of at least 4\n",
    "* Have IMDB popularity of at least 1\n",
    "* Have a duration of at least 60 minutes"
   ]
  },
  {
   "cell_type": "code",
   "metadata": {
    "ExecuteTime": {
     "end_time": "2025-04-05T07:32:04.053285Z",
     "start_time": "2025-04-05T07:32:04.051738Z"
    }
   },
   "source": [
    "# lets improve column headings to be all lowercase\n",
    "# df_movies_imdb.columns = map(str.lower, df_movies_imdb.columns)\n",
    "# df_movies_imdb.loc[df_movies_imdb['title'].str.contains('Hobbit:') == True]"
   ],
   "outputs": [],
   "execution_count": 11
  },
  {
   "cell_type": "code",
   "metadata": {
    "ExecuteTime": {
     "end_time": "2025-04-05T07:32:04.193341Z",
     "start_time": "2025-04-05T07:32:04.083764Z"
    }
   },
   "source": [
    "df_movies_imdb[\"release_year\"] = df_movies_imdb[\"release_date\"].dt.year.fillna(0).astype(int)\n",
    "df_movies_imdb.drop([\"release_date\"], axis=1, inplace=True, errors=\"ignore\")"
   ],
   "outputs": [],
   "execution_count": 12
  },
  {
   "metadata": {
    "ExecuteTime": {
     "end_time": "2025-04-05T07:32:04.200594Z",
     "start_time": "2025-04-05T07:32:04.195660Z"
    }
   },
   "cell_type": "code",
   "source": "df_movies_imdb.head()",
   "outputs": [
    {
     "data": {
      "text/plain": [
       "   id                             title  vote_average  vote_count    status     revenue  runtime      budget    imdb_id original_language                    original_title                                           overview  popularity                                            tagline                         genres                          production_companies      production_countries                        spoken_languages                                               cast                                           director                            director_of_photography                                            writers                                          producers      music_composer  imdb_rating  imdb_votes                       poster_path  release_year\n",
       "0   2                             Ariel          7.10      340.00  Released        0.00    73.00        0.00  tt0094675                fi                             Ariel  A Finnish man goes to the city to find a job a...        9.40                                                NaN  Comedy, Drama, Romance, Crime                     Villealfa Filmproductions                   Finland                                   suomi  Eetu Hilkamo, Turo Pajala, Jorma Markkula, Han...                                     Aki Kaurismäki                                      Timo Salminen                                     Aki Kaurismäki                                     Aki Kaurismäki                 NaN         7.40     9085.00  /ojDg0PGvs6R9xYFodRct2kdI6wC.jpg          1988\n",
       "1   3               Shadows in Paradise          7.30      403.00  Released        0.00    74.00        0.00  tt0092149                fi              Varjoja paratiisissa  Nikander, a rubbish collector and would-be ent...        7.09                                                NaN         Comedy, Drama, Romance                     Villealfa Filmproductions                   Finland                 suomi, English, svenska  Haije Alanoja, Aki Kaurismäki, Jukka-Pekka Pal...                                     Aki Kaurismäki                                      Timo Salminen                                     Aki Kaurismäki                                    Mika Kaurismäki                 NaN         7.40     7891.00  /nj01hspawPof0mJmlgfjuLyJuRN.jpg          1986\n",
       "2   5                        Four Rooms          5.90     2681.00  Released  4257354.00    98.00  4000000.00  tt0113101                en                        Four Rooms  It's Ted the Bellhop's first night on the job....        5.76  Twelve outrageous guests. Four scandalous requ...                  Comedy, Crime                         Miramax, A Band Apart  United States of America                                 English  Antonio Banderas, Sammi Davis, Kimberly Blair,...  Allison Anders, Quentin Tarantino, Robert Rodr...  Andrzej Sekula, Phil Parmet, Guillermo Navarro...  Allison Anders, Quentin Tarantino, Robert Rodr...  Alexandre Rockwell, Lawrence Bender, Quentin T...  Combustible Edison         6.70   113850.00  /pyCk5JgtRZwRxnXwfrvyzukaKue.jpg          1995\n",
       "3   6                    Judgment Night          6.50      333.00  Released 12136938.00   109.00 21000000.00  tt0107286                en                    Judgment Night  Four young friends, while taking a shortcut en...       12.11     Don't move. Don't whisper. Don't even breathe.        Action, Crime, Thriller  Largo Entertainment, JVC, Universal Pictures  United States of America                                 English  Stephen Dorff, Everlast, Will Zahrn, Emilio Es...                                    Stephen Hopkins                                         Peter Levy                      Jere Cunningham, Lewis Colick              Gene Levy, Marilyn Vance, Lloyd Segan      Alan Silvestri         6.60    19813.00  /3rvvpS9YPM5HB2f4HYiNiJVtdam.jpg          1993\n",
       "4   8  Life in Loops (A Megacities RMX)          7.50       27.00  Released        0.00    80.00    42000.00  tt0825671                en  Life in Loops (A Megacities RMX)  Timo Novotny labels his new project an experim...        3.20                                A Megacities remix.                    Documentary                                       inLoops                   Austria  English, हिन्दी, 日本語, Pусский, Español                                                NaN                                       Timo Novotny                                    Wolfgang Thaler                    Michael Glawogger, Timo Novotny                     Ulrich Gehmacher, Timo Novotny                 NaN         8.20      284.00  /7ln81BRnPR2wqxuITZxEciCe1lc.jpg          2006"
      ],
      "text/html": [
       "<div>\n",
       "<style scoped>\n",
       "    .dataframe tbody tr th:only-of-type {\n",
       "        vertical-align: middle;\n",
       "    }\n",
       "\n",
       "    .dataframe tbody tr th {\n",
       "        vertical-align: top;\n",
       "    }\n",
       "\n",
       "    .dataframe thead th {\n",
       "        text-align: right;\n",
       "    }\n",
       "</style>\n",
       "<table border=\"1\" class=\"dataframe\">\n",
       "  <thead>\n",
       "    <tr style=\"text-align: right;\">\n",
       "      <th></th>\n",
       "      <th>id</th>\n",
       "      <th>title</th>\n",
       "      <th>vote_average</th>\n",
       "      <th>vote_count</th>\n",
       "      <th>status</th>\n",
       "      <th>revenue</th>\n",
       "      <th>runtime</th>\n",
       "      <th>budget</th>\n",
       "      <th>imdb_id</th>\n",
       "      <th>original_language</th>\n",
       "      <th>original_title</th>\n",
       "      <th>overview</th>\n",
       "      <th>popularity</th>\n",
       "      <th>tagline</th>\n",
       "      <th>genres</th>\n",
       "      <th>production_companies</th>\n",
       "      <th>production_countries</th>\n",
       "      <th>spoken_languages</th>\n",
       "      <th>cast</th>\n",
       "      <th>director</th>\n",
       "      <th>director_of_photography</th>\n",
       "      <th>writers</th>\n",
       "      <th>producers</th>\n",
       "      <th>music_composer</th>\n",
       "      <th>imdb_rating</th>\n",
       "      <th>imdb_votes</th>\n",
       "      <th>poster_path</th>\n",
       "      <th>release_year</th>\n",
       "    </tr>\n",
       "  </thead>\n",
       "  <tbody>\n",
       "    <tr>\n",
       "      <th>0</th>\n",
       "      <td>2</td>\n",
       "      <td>Ariel</td>\n",
       "      <td>7.10</td>\n",
       "      <td>340.00</td>\n",
       "      <td>Released</td>\n",
       "      <td>0.00</td>\n",
       "      <td>73.00</td>\n",
       "      <td>0.00</td>\n",
       "      <td>tt0094675</td>\n",
       "      <td>fi</td>\n",
       "      <td>Ariel</td>\n",
       "      <td>A Finnish man goes to the city to find a job a...</td>\n",
       "      <td>9.40</td>\n",
       "      <td>NaN</td>\n",
       "      <td>Comedy, Drama, Romance, Crime</td>\n",
       "      <td>Villealfa Filmproductions</td>\n",
       "      <td>Finland</td>\n",
       "      <td>suomi</td>\n",
       "      <td>Eetu Hilkamo, Turo Pajala, Jorma Markkula, Han...</td>\n",
       "      <td>Aki Kaurismäki</td>\n",
       "      <td>Timo Salminen</td>\n",
       "      <td>Aki Kaurismäki</td>\n",
       "      <td>Aki Kaurismäki</td>\n",
       "      <td>NaN</td>\n",
       "      <td>7.40</td>\n",
       "      <td>9085.00</td>\n",
       "      <td>/ojDg0PGvs6R9xYFodRct2kdI6wC.jpg</td>\n",
       "      <td>1988</td>\n",
       "    </tr>\n",
       "    <tr>\n",
       "      <th>1</th>\n",
       "      <td>3</td>\n",
       "      <td>Shadows in Paradise</td>\n",
       "      <td>7.30</td>\n",
       "      <td>403.00</td>\n",
       "      <td>Released</td>\n",
       "      <td>0.00</td>\n",
       "      <td>74.00</td>\n",
       "      <td>0.00</td>\n",
       "      <td>tt0092149</td>\n",
       "      <td>fi</td>\n",
       "      <td>Varjoja paratiisissa</td>\n",
       "      <td>Nikander, a rubbish collector and would-be ent...</td>\n",
       "      <td>7.09</td>\n",
       "      <td>NaN</td>\n",
       "      <td>Comedy, Drama, Romance</td>\n",
       "      <td>Villealfa Filmproductions</td>\n",
       "      <td>Finland</td>\n",
       "      <td>suomi, English, svenska</td>\n",
       "      <td>Haije Alanoja, Aki Kaurismäki, Jukka-Pekka Pal...</td>\n",
       "      <td>Aki Kaurismäki</td>\n",
       "      <td>Timo Salminen</td>\n",
       "      <td>Aki Kaurismäki</td>\n",
       "      <td>Mika Kaurismäki</td>\n",
       "      <td>NaN</td>\n",
       "      <td>7.40</td>\n",
       "      <td>7891.00</td>\n",
       "      <td>/nj01hspawPof0mJmlgfjuLyJuRN.jpg</td>\n",
       "      <td>1986</td>\n",
       "    </tr>\n",
       "    <tr>\n",
       "      <th>2</th>\n",
       "      <td>5</td>\n",
       "      <td>Four Rooms</td>\n",
       "      <td>5.90</td>\n",
       "      <td>2681.00</td>\n",
       "      <td>Released</td>\n",
       "      <td>4257354.00</td>\n",
       "      <td>98.00</td>\n",
       "      <td>4000000.00</td>\n",
       "      <td>tt0113101</td>\n",
       "      <td>en</td>\n",
       "      <td>Four Rooms</td>\n",
       "      <td>It's Ted the Bellhop's first night on the job....</td>\n",
       "      <td>5.76</td>\n",
       "      <td>Twelve outrageous guests. Four scandalous requ...</td>\n",
       "      <td>Comedy, Crime</td>\n",
       "      <td>Miramax, A Band Apart</td>\n",
       "      <td>United States of America</td>\n",
       "      <td>English</td>\n",
       "      <td>Antonio Banderas, Sammi Davis, Kimberly Blair,...</td>\n",
       "      <td>Allison Anders, Quentin Tarantino, Robert Rodr...</td>\n",
       "      <td>Andrzej Sekula, Phil Parmet, Guillermo Navarro...</td>\n",
       "      <td>Allison Anders, Quentin Tarantino, Robert Rodr...</td>\n",
       "      <td>Alexandre Rockwell, Lawrence Bender, Quentin T...</td>\n",
       "      <td>Combustible Edison</td>\n",
       "      <td>6.70</td>\n",
       "      <td>113850.00</td>\n",
       "      <td>/pyCk5JgtRZwRxnXwfrvyzukaKue.jpg</td>\n",
       "      <td>1995</td>\n",
       "    </tr>\n",
       "    <tr>\n",
       "      <th>3</th>\n",
       "      <td>6</td>\n",
       "      <td>Judgment Night</td>\n",
       "      <td>6.50</td>\n",
       "      <td>333.00</td>\n",
       "      <td>Released</td>\n",
       "      <td>12136938.00</td>\n",
       "      <td>109.00</td>\n",
       "      <td>21000000.00</td>\n",
       "      <td>tt0107286</td>\n",
       "      <td>en</td>\n",
       "      <td>Judgment Night</td>\n",
       "      <td>Four young friends, while taking a shortcut en...</td>\n",
       "      <td>12.11</td>\n",
       "      <td>Don't move. Don't whisper. Don't even breathe.</td>\n",
       "      <td>Action, Crime, Thriller</td>\n",
       "      <td>Largo Entertainment, JVC, Universal Pictures</td>\n",
       "      <td>United States of America</td>\n",
       "      <td>English</td>\n",
       "      <td>Stephen Dorff, Everlast, Will Zahrn, Emilio Es...</td>\n",
       "      <td>Stephen Hopkins</td>\n",
       "      <td>Peter Levy</td>\n",
       "      <td>Jere Cunningham, Lewis Colick</td>\n",
       "      <td>Gene Levy, Marilyn Vance, Lloyd Segan</td>\n",
       "      <td>Alan Silvestri</td>\n",
       "      <td>6.60</td>\n",
       "      <td>19813.00</td>\n",
       "      <td>/3rvvpS9YPM5HB2f4HYiNiJVtdam.jpg</td>\n",
       "      <td>1993</td>\n",
       "    </tr>\n",
       "    <tr>\n",
       "      <th>4</th>\n",
       "      <td>8</td>\n",
       "      <td>Life in Loops (A Megacities RMX)</td>\n",
       "      <td>7.50</td>\n",
       "      <td>27.00</td>\n",
       "      <td>Released</td>\n",
       "      <td>0.00</td>\n",
       "      <td>80.00</td>\n",
       "      <td>42000.00</td>\n",
       "      <td>tt0825671</td>\n",
       "      <td>en</td>\n",
       "      <td>Life in Loops (A Megacities RMX)</td>\n",
       "      <td>Timo Novotny labels his new project an experim...</td>\n",
       "      <td>3.20</td>\n",
       "      <td>A Megacities remix.</td>\n",
       "      <td>Documentary</td>\n",
       "      <td>inLoops</td>\n",
       "      <td>Austria</td>\n",
       "      <td>English, हिन्दी, 日本語, Pусский, Español</td>\n",
       "      <td>NaN</td>\n",
       "      <td>Timo Novotny</td>\n",
       "      <td>Wolfgang Thaler</td>\n",
       "      <td>Michael Glawogger, Timo Novotny</td>\n",
       "      <td>Ulrich Gehmacher, Timo Novotny</td>\n",
       "      <td>NaN</td>\n",
       "      <td>8.20</td>\n",
       "      <td>284.00</td>\n",
       "      <td>/7ln81BRnPR2wqxuITZxEciCe1lc.jpg</td>\n",
       "      <td>2006</td>\n",
       "    </tr>\n",
       "  </tbody>\n",
       "</table>\n",
       "</div>"
      ]
     },
     "execution_count": 13,
     "metadata": {},
     "output_type": "execute_result"
    }
   ],
   "execution_count": 13
  },
  {
   "cell_type": "code",
   "metadata": {
    "ExecuteTime": {
     "end_time": "2025-04-05T07:32:04.292430Z",
     "start_time": "2025-04-05T07:32:04.234581Z"
    }
   },
   "source": [
    "# quick check on evolution of movies released per year before we drop records\n",
    "temp = pd.DataFrame(\n",
    "    df_movies_imdb.groupby('release_year').size(),\n",
    "    columns=['count'])\n",
    "\n",
    "temp = temp.loc[2000:2024]\n",
    "\n",
    "sns.lineplot(data=temp, x=temp.index, y='count')\n",
    "plt.title('Number of movies released per year')\n",
    "plt.show()"
   ],
   "outputs": [
    {
     "data": {
      "text/plain": [
       "<Figure size 800x400 with 1 Axes>"
      ],
      "image/png": "[encoded data removed]"
     },
     "metadata": {},
     "output_type": "display_data"
    }
   ],
   "execution_count": 14
  },
  {
   "cell_type": "code",
   "metadata": {
    "ExecuteTime": {
     "end_time": "2025-04-05T07:32:04.600663Z",
     "start_time": "2025-04-05T07:32:04.383811Z"
    }
   },
   "source": [
    "# filter movie dataset\n",
    "df_movies_imdb_clean = df_movies_imdb[\n",
    "    (df_movies_imdb.release_year >= 2000) &\n",
    "    # (df_movies_imdb.adult == False) &\n",
    "    (df_movies_imdb.original_language == 'en') &\n",
    "    (df_movies_imdb.imdb_id.notnull()) &\n",
    "    (df_movies_imdb.poster_path.notnull()) &\n",
    "    (df_movies_imdb.status == 'Released') &\n",
    "    (df_movies_imdb.imdb_votes >= 20) &\n",
    "    (df_movies_imdb.vote_count > 0) &\n",
    "    (df_movies_imdb.imdb_rating >= 3) &\n",
    "    # (df_movies_imdb.popularity >= 1) &\n",
    "    (df_movies_imdb.spoken_languages.str.contains('English'))\n",
    "    ].copy(deep=True)\n",
    "\n",
    "df_movies_imdb_clean.shape"
   ],
   "outputs": [
    {
     "data": {
      "text/plain": [
       "(57620, 28)"
      ]
     },
     "execution_count": 15,
     "metadata": {},
     "output_type": "execute_result"
    }
   ],
   "execution_count": 15
  },
  {
   "metadata": {
    "ExecuteTime": {
     "end_time": "2025-04-05T07:32:04.618577Z",
     "start_time": "2025-04-05T07:32:04.604029Z"
    }
   },
   "cell_type": "code",
   "source": "df_movies_imdb_clean.loc[df_movies_imdb_clean['title'].str.lower().str.contains('it ends with us') == True]",
   "outputs": [
    {
     "data": {
      "text/plain": [
       "             id            title  vote_average  vote_count    status      revenue  runtime      budget     imdb_id original_language   original_title                                           overview  popularity                                         tagline          genres                               production_companies      production_countries spoken_languages                                               cast        director director_of_photography                       writers                                          producers                     music_composer  imdb_rating  imdb_votes                       poster_path  release_year\n",
       "765670  1079091  It Ends with Us          7.05     1540.00  Released 350993761.00   131.00 25000000.00  tt10655524                en  It Ends with Us  When a woman's first love suddenly reenters he...       12.59  We break the pattern or the pattern breaks us.  Drama, Romance  Columbia Pictures, Wayfarer Studios, Saks Pict...  United States of America          English  Kevin McKidd, Daphne Zelle, Brandon Sklenar, M...  Justin Baldoni          Barry Peterson  Christy Hall, Colleen Hoover  Christy Hall, Blake Lively, Todd Black, John L...  Rob Simonsen, Duncan Blickenstaff         6.40    83176.00  /cSMdFWmajaX4oUMLx7HEDI84GkP.jpg          2024"
      ],
      "text/html": [
       "<div>\n",
       "<style scoped>\n",
       "    .dataframe tbody tr th:only-of-type {\n",
       "        vertical-align: middle;\n",
       "    }\n",
       "\n",
       "    .dataframe tbody tr th {\n",
       "        vertical-align: top;\n",
       "    }\n",
       "\n",
       "    .dataframe thead th {\n",
       "        text-align: right;\n",
       "    }\n",
       "</style>\n",
       "<table border=\"1\" class=\"dataframe\">\n",
       "  <thead>\n",
       "    <tr style=\"text-align: right;\">\n",
       "      <th></th>\n",
       "      <th>id</th>\n",
       "      <th>title</th>\n",
       "      <th>vote_average</th>\n",
       "      <th>vote_count</th>\n",
       "      <th>status</th>\n",
       "      <th>revenue</th>\n",
       "      <th>runtime</th>\n",
       "      <th>budget</th>\n",
       "      <th>imdb_id</th>\n",
       "      <th>original_language</th>\n",
       "      <th>original_title</th>\n",
       "      <th>overview</th>\n",
       "      <th>popularity</th>\n",
       "      <th>tagline</th>\n",
       "      <th>genres</th>\n",
       "      <th>production_companies</th>\n",
       "      <th>production_countries</th>\n",
       "      <th>spoken_languages</th>\n",
       "      <th>cast</th>\n",
       "      <th>director</th>\n",
       "      <th>director_of_photography</th>\n",
       "      <th>writers</th>\n",
       "      <th>producers</th>\n",
       "      <th>music_composer</th>\n",
       "      <th>imdb_rating</th>\n",
       "      <th>imdb_votes</th>\n",
       "      <th>poster_path</th>\n",
       "      <th>release_year</th>\n",
       "    </tr>\n",
       "  </thead>\n",
       "  <tbody>\n",
       "    <tr>\n",
       "      <th>765670</th>\n",
       "      <td>1079091</td>\n",
       "      <td>It Ends with Us</td>\n",
       "      <td>7.05</td>\n",
       "      <td>1540.00</td>\n",
       "      <td>Released</td>\n",
       "      <td>350993761.00</td>\n",
       "      <td>131.00</td>\n",
       "      <td>25000000.00</td>\n",
       "      <td>tt10655524</td>\n",
       "      <td>en</td>\n",
       "      <td>It Ends with Us</td>\n",
       "      <td>When a woman's first love suddenly reenters he...</td>\n",
       "      <td>12.59</td>\n",
       "      <td>We break the pattern or the pattern breaks us.</td>\n",
       "      <td>Drama, Romance</td>\n",
       "      <td>Columbia Pictures, Wayfarer Studios, Saks Pict...</td>\n",
       "      <td>United States of America</td>\n",
       "      <td>English</td>\n",
       "      <td>Kevin McKidd, Daphne Zelle, Brandon Sklenar, M...</td>\n",
       "      <td>Justin Baldoni</td>\n",
       "      <td>Barry Peterson</td>\n",
       "      <td>Christy Hall, Colleen Hoover</td>\n",
       "      <td>Christy Hall, Blake Lively, Todd Black, John L...</td>\n",
       "      <td>Rob Simonsen, Duncan Blickenstaff</td>\n",
       "      <td>6.40</td>\n",
       "      <td>83176.00</td>\n",
       "      <td>/cSMdFWmajaX4oUMLx7HEDI84GkP.jpg</td>\n",
       "      <td>2024</td>\n",
       "    </tr>\n",
       "  </tbody>\n",
       "</table>\n",
       "</div>"
      ]
     },
     "execution_count": 16,
     "metadata": {},
     "output_type": "execute_result"
    }
   ],
   "execution_count": 16
  },
  {
   "cell_type": "code",
   "metadata": {
    "ExecuteTime": {
     "end_time": "2025-04-05T07:32:04.696553Z",
     "start_time": "2025-04-05T07:32:04.654552Z"
    }
   },
   "source": [
    "# quick check on evolution movies released per year, before we drop records\n",
    "temp = pd.DataFrame(\n",
    "    df_movies_imdb_clean.groupby('release_year').size(),\n",
    "    columns=['count'])\n",
    "\n",
    "temp = temp.loc[1990:2024]\n",
    "\n",
    "sns.lineplot(data=temp, x=temp.index, y='count')\n",
    "plt.title('Number of movies released per year')\n",
    "plt.show()"
   ],
   "outputs": [
    {
     "data": {
      "text/plain": [
       "<Figure size 800x400 with 1 Axes>"
      ],
      "image/png": "[encoded data removed]"
     },
     "metadata": {},
     "output_type": "display_data"
    }
   ],
   "execution_count": 17
  },
  {
   "cell_type": "code",
   "metadata": {
    "ExecuteTime": {
     "end_time": "2025-04-05T07:32:04.736886Z",
     "start_time": "2025-04-05T07:32:04.726208Z"
    }
   },
   "source": [
    "# drop movies that are too short, do this as a separate step otherwise filter is too slow\n",
    "df_movies_imdb_clean = df_movies_imdb_clean[df_movies_imdb_clean['runtime'] >= 60.0]\n",
    "df_movies_imdb_clean.shape"
   ],
   "outputs": [
    {
     "data": {
      "text/plain": [
       "(46522, 28)"
      ]
     },
     "execution_count": 18,
     "metadata": {},
     "output_type": "execute_result"
    }
   ],
   "execution_count": 18
  },
  {
   "cell_type": "markdown",
   "metadata": {},
   "source": [
    "<a id='imdb_scope'></a>\n",
    "<span style=\"color:#7C9E9E; font-size:16px; font-weight:bold\">2.1.2 Check Missing values and data types</span>"
   ]
  },
  {
   "cell_type": "code",
   "metadata": {
    "pycharm": {
     "name": "#%%\n"
    },
    "ExecuteTime": {
     "end_time": "2025-04-05T07:32:04.756731Z",
     "start_time": "2025-04-05T07:32:04.739818Z"
    }
   },
   "source": [
    "# which datatypes does the dataset have, and how many missing values can be observed?\n",
    "df_movies_imdb_clean.info()"
   ],
   "outputs": [
    {
     "name": "stdout",
     "output_type": "stream",
     "text": [
      "<class 'pandas.core.frame.DataFrame'>\n",
      "Index: 46522 entries, 4 to 1075649\n",
      "Data columns (total 28 columns):\n",
      " #   Column                   Non-Null Count  Dtype  \n",
      "---  ------                   --------------  -----  \n",
      " 0   id                       46522 non-null  int64  \n",
      " 1   title                    46522 non-null  object \n",
      " 2   vote_average             46522 non-null  float64\n",
      " 3   vote_count               46522 non-null  float64\n",
      " 4   status                   46522 non-null  object \n",
      " 5   revenue                  46522 non-null  float64\n",
      " 6   runtime                  46522 non-null  float64\n",
      " 7   budget                   46522 non-null  float64\n",
      " 8   imdb_id                  46522 non-null  object \n",
      " 9   original_language        46522 non-null  object \n",
      " 10  original_title           46522 non-null  object \n",
      " 11  overview                 46468 non-null  object \n",
      " 12  popularity               46522 non-null  float64\n",
      " 13  tagline                  24236 non-null  object \n",
      " 14  genres                   45836 non-null  object \n",
      " 15  production_companies     36421 non-null  object \n",
      " 16  production_countries     40584 non-null  object \n",
      " 17  spoken_languages         46522 non-null  object \n",
      " 18  cast                     44794 non-null  object \n",
      " 19  director                 45387 non-null  object \n",
      " 20  director_of_photography  24776 non-null  object \n",
      " 21  writers                  37821 non-null  object \n",
      " 22  producers                33035 non-null  object \n",
      " 23  music_composer           16502 non-null  object \n",
      " 24  imdb_rating              46522 non-null  float64\n",
      " 25  imdb_votes               46522 non-null  float64\n",
      " 26  poster_path              46522 non-null  object \n",
      " 27  release_year             46522 non-null  int64  \n",
      "dtypes: float64(8), int64(2), object(18)\n",
      "memory usage: 10.3+ MB\n"
     ]
    }
   ],
   "execution_count": 19
  },
  {
   "cell_type": "code",
   "metadata": {
    "ExecuteTime": {
     "end_time": "2025-04-05T07:32:04.769202Z",
     "start_time": "2025-04-05T07:32:04.763775Z"
    }
   },
   "source": [
    "# reduce memory footprint by selecting the correct dtypes for numeric columns\n",
    "df_movies_imdb_clean = reduce_mem_usage(df_movies_imdb_clean)"
   ],
   "outputs": [
    {
     "name": "stdout",
     "output_type": "stream",
     "text": [
      "\n",
      "Triggering memory optimization.......\n",
      "\n",
      "Memory usage of dataframe is 10.29 MB\n",
      "Memory usage after optimization is: 7.99 MB\n",
      "Decreased by 22.4%\n"
     ]
    }
   ],
   "execution_count": 20
  },
  {
   "cell_type": "code",
   "metadata": {
    "ExecuteTime": {
     "end_time": "2025-04-05T07:32:04.835984Z",
     "start_time": "2025-04-05T07:32:04.834430Z"
    }
   },
   "source": [
    "# correct datatype to reduce memory usage\n",
    "# df_movies_imdb_clean['imdb_votes'] = df_movies_imdb_clean['imdb_votes'].astype(int32)\n",
    "# df_movies_imdb_clean['vote_count'] = df_movies_imdb_clean['imdb_votes'].astype(int32)"
   ],
   "outputs": [],
   "execution_count": 21
  },
  {
   "cell_type": "markdown",
   "metadata": {
    "pycharm": {
     "name": "#%% md\n"
    }
   },
   "source": [
    "**Observation from programming inspection `info()`:**\n",
    "\n",
    "- There are missing data in some columns let's explore it deeper"
   ]
  },
  {
   "cell_type": "markdown",
   "metadata": {},
   "source": [
    "##### Missing data in rows"
   ]
  },
  {
   "cell_type": "code",
   "metadata": {
    "ExecuteTime": {
     "end_time": "2025-04-05T07:32:04.912369Z",
     "start_time": "2025-04-05T07:32:04.891510Z"
    }
   },
   "source": [
    "missing_data_in_rows = df_movies_imdb_clean.isna().mean(axis=1) * 100\n",
    "missing_data_in_rows.describe()"
   ],
   "outputs": [
    {
     "data": {
      "text/plain": [
       "count   46522.00\n",
       "mean        8.90\n",
       "std         7.21\n",
       "min         0.00\n",
       "25%         3.57\n",
       "50%         7.14\n",
       "75%        14.29\n",
       "max        35.71\n",
       "dtype: float64"
      ]
     },
     "execution_count": 22,
     "metadata": {},
     "output_type": "execute_result"
    }
   ],
   "execution_count": 22
  },
  {
   "cell_type": "code",
   "metadata": {
    "ExecuteTime": {
     "end_time": "2025-04-05T07:32:05.031523Z",
     "start_time": "2025-04-05T07:32:04.981209Z"
    }
   },
   "source": [
    "missing_data_in_rows.plot(kind='hist',\n",
    "                          title='% Missing data in a rows - Full Population',\n",
    "                          figsize=(8, 4),\n",
    "                          alpha=0.7,\n",
    "                          color = seafoam.base_color)\n",
    "plt.ylabel('Number of rows with mising data')\n",
    "plt.xlabel('Percentage (%)')\n",
    "plt.show()"
   ],
   "outputs": [
    {
     "data": {
      "text/plain": [
       "<Figure size 800x400 with 1 Axes>"
      ],
      "image/png": "[encoded data removed]"
     },
     "metadata": {},
     "output_type": "display_data"
    }
   ],
   "execution_count": 23
  },
  {
   "cell_type": "code",
   "metadata": {
    "ExecuteTime": {
     "end_time": "2025-04-05T07:32:05.090171Z",
     "start_time": "2025-04-05T07:32:05.061161Z"
    }
   },
   "source": [
    "# drop rows with more than 20% missing values\n",
    "df_movies_imdb_clean = df_movies_imdb_clean.loc[df_movies_imdb_clean.isna().mean(axis=1) < 0.25, :]\n",
    "df_movies_imdb_clean.shape"
   ],
   "outputs": [
    {
     "data": {
      "text/plain": [
       "(44772, 28)"
      ]
     },
     "execution_count": 24,
     "metadata": {},
     "output_type": "execute_result"
    }
   ],
   "execution_count": 24
  },
  {
   "cell_type": "markdown",
   "metadata": {},
   "source": [
    "##### Missing values in columns"
   ]
  },
  {
   "cell_type": "code",
   "metadata": {
    "ExecuteTime": {
     "end_time": "2025-04-05T07:32:05.206531Z",
     "start_time": "2025-04-05T07:32:05.093285Z"
    }
   },
   "source": [
    "missing_values = round((df_movies_imdb_clean.isna().mean() * 100).sort_values(ascending=False), 2)\n",
    "\n",
    "fig = plt.figure(figsize=(12,4))\n",
    "ax = sns.barplot(data=missing_values, color=seafoam.base_color)\n",
    "\n",
    "# annotate\n",
    "for c in ax.containers:\n",
    "    ax.bar_label(c, padding=3, fontsize=8, rotation=90, weight='bold', fmt='%.2f%%')\n",
    "\n",
    "plt.xticks(rotation=90)\n",
    "ax.margins(y=0.2)\n",
    "\n",
    "plt.title(' % Missing values in IMDB movie dataset')\n",
    "plt.ylabel('% of missing values')\n",
    "plt.show()"
   ],
   "outputs": [
    {
     "data": {
      "text/plain": [
       "<Figure size 1200x400 with 1 Axes>"
      ],
      "image/png": "[encoded data removed]"
     },
     "metadata": {},
     "output_type": "display_data"
    }
   ],
   "execution_count": 25
  },
  {
   "cell_type": "code",
   "metadata": {
    "ExecuteTime": {
     "end_time": "2025-04-05T07:32:05.221138Z",
     "start_time": "2025-04-05T07:32:05.213950Z"
    }
   },
   "source": [
    "# which kind of movies have no genres?\n",
    "df_movies_imdb_clean[df_movies_imdb_clean['genres'].isnull()]"
   ],
   "outputs": [
    {
     "data": {
      "text/plain": [
       "              id                                              title  vote_average  vote_count    status     revenue  runtime   budget     imdb_id original_language                                     original_title                                           overview  popularity                                            tagline genres                               production_companies      production_countries spoken_languages                                               cast          director director_of_photography                       writers                                          producers       music_composer  imdb_rating  imdb_votes                       poster_path  release_year\n",
       "12326      20419  WWE: Allied Powers - The World's Greatest Tag ...          7.10        4.00  Released        0.00   540.00     0.00   tt1461297                en  WWE: Allied Powers - The World's Greatest Tag ...  Throughout the decades, fans of sports enterta...        1.82                                                NaN    NaN                                        WWE Studios  United States of America          English  Tom Billington, Martin Lunde, James Hines, Kev...        Kevin Dunn                     NaN                           NaN                                                NaN                  NaN         7.30       63.00  /eTmLxtbyznpfPPCD3XbTAbct3C4.jpg          2009\n",
       "18514      29899                                     Claustrophobia          2.70        3.00  Released        0.00    79.00 95000.00   tt0315411                en                                     Claustrophobia  A serial killer armed with a crossbow pistol i...        1.46                                                NaN    NaN  Integration Entertainment, Cassava Films, Gree...  United States of America          English  Lucas Young, Rachelle Lagnado, Stan Guo, Miche...  Mark Tapio Kines          Bevan Crothers              Mark Tapio Kines                                   Mark Tapio Kines  Christopher Farrell         3.30      414.00  /gNyLGFOTMvRwbGkrLuFiLAAfHhD.jpg          2003\n",
       "18933      30470           Gladiator Eroticvs: The Lesbian Warriors          5.10       12.00  Released        0.00    91.00     0.00   tt0256056                en           Gladiator Eroticvs: The Lesbian Warriors  A parody of the big-budget Ridley Scott-helmed...        7.94                                                NaN    NaN  Fantasy Bride Productions, E.I. Independent Ci...  United States of America          English  Raymond Lilienthal, W.C. Ponder, Don Mike, Joh...      John Bacchus          Richard Yankin         John Bacchus, Joe Ned                                                NaN          Grisly Labs         3.50      532.00  /qrRDFkkyLR4SUrhQwMtmSILXq8I.jpg          2001\n",
       "21201      33827                                The Graffiti Artist          5.60       25.00  Released        0.00    80.00     0.00   tt0402223                en                                The Graffiti Artist  Adrift in the lush, nocturnal urban landscape ...        2.58                                                NaN    NaN                                                NaN  United States of America          English    Luke Cook, Ruben Bansie-Snellman, Pepper Fajans      James Bolton                     NaN                  James Bolton                                       James Bolton                  NaN         6.10      819.00  /kKyp4lgIhI8pNGZj29Y8xH8vR1A.jpg          2004\n",
       "21806      34988                                    Who Do You Love          1.00        1.00  Released        0.00    92.00     0.00   tt1186795                en                                    Who Do You Love  Who Do You Love is the life story of legendary...        0.28                                                NaN    NaN                                                NaN                       NaN          English  Gavin C. Lewis Sr., Hunter McGregor, Marika Do...        Jerry Zaks            David Franco  Robert Conte, Peter Wortmann  Andrea Baynes, Les Alexander, Gideon Amir, Den...            Jeff Beal         6.00      181.00  /n2G00q7txMBtVkLN3lWTTOlX58b.jpg          2008\n",
       "...          ...                                                ...           ...         ...       ...         ...      ...      ...         ...               ...                                                ...                                                ...         ...                                                ...    ...                                                ...                       ...              ...                                                ...               ...                     ...                           ...                                                ...                  ...          ...         ...                               ...           ...\n",
       "945320   1303875            Chestnut vs. Kobayashi: Unfinished Beef          3.50        2.00  Released        0.00    71.00     0.00  tt32633891                en            Chestnut vs. Kobayashi: Unfinished Beef  16-time hot dog– eating champion Joey Chestnut...        2.37                                                NaN    NaN                                                NaN  United States of America          English  Takeru Kobayashi, Joey Chestnut, Cari Champion...       Ryan Polito        Malcolm Serrette                           NaN  Niki Usbay McDonald, Nicole Lucas Haimes, J.B....                  NaN         5.10      256.00  /jDPJhmytwYKMnq72AIunNsTE1LF.jpg          2024\n",
       "952039   1311446           Hit Em Hard: The Story of Zaina Juliette         10.00        1.00  Released 50000000.00    86.00     0.00   tt3865434                en           Hit Em Hard: The Story of Zaina Juliette  To achieve your dream and passion in a powerfu...        0.66  To achieve your dream and passion in a powerfu...    NaN  ZTraxx Music Group, Bungalo Records, Universal...                       NaN          English  Black Jack Cross - K9, Tina Lynn Turner, Sebas...               NaN                     NaN                           NaN                                   Tina Lynn Turner                  NaN         8.30       20.00  /mZBEkO3qwSG3WZBYffO3h77hpWW.jpg          2014\n",
       "960318   1320648                                   Broken Innocence          5.00        2.00  Released        0.00   112.00 57000.00  tt28259039                en                                   Broken Innocence  When a young girl suffers years of horrendous ...        0.23  When a cycle of abuse finally catches up to th...    NaN  Angela Joseph Productions, A Cut to the Chase ...  United States of America          English  Kiley Opsal, Corel Garlock, Jonni Shandor, Her...      Chase Dudley                     NaN   Charlie Brady, Chase Dudley                          Sheri Davis, Chase Dudley                  NaN         5.10      344.00  /jzRa8jyQD3O80Zq5X8cSu9laTkc.jpg          2024\n",
       "1029450  1401599                                     AEW Revolution          8.50        3.00  Released        0.00   245.00     0.00  tt34998107                en                                     AEW Revolution  The 2025 Revolution was a professional wrestli...        5.05                                                NaN    NaN                                All Elite Wrestling  United States of America          English  Trevor Mann, Stephen Woltz, Adam Copeland, Kaz...         Tony Khan                     NaN                           NaN                                                NaN                  NaN         8.40       51.00  /yM9KhsmEWMrGBTQAIiw5iJghT4r.jpg          2025\n",
       "1047504  1424316                                        Launder Run          9.50        4.00  Released        0.00    90.00 10000.00   tt4029958                en                                        Launder Run  Launder Run tells the story of Jake, a man ret...        0.58                                                NaN    NaN                                                NaN                       NaN          English  Danel Pellegrino, Kumud Pant, Henry Neville, D...       Daniel Webb                     NaN  Daniel Webb, Deborah O'Brien                       Jo Gewirtz, Danel Pellegrino                  NaN         8.10       45.00  /mut4Vkb2cS2Oslw4JcKyU3fq1ug.jpg          2014\n",
       "\n",
       "[315 rows x 28 columns]"
      ],
      "text/html": [
       "<div>\n",
       "<style scoped>\n",
       "    .dataframe tbody tr th:only-of-type {\n",
       "        vertical-align: middle;\n",
       "    }\n",
       "\n",
       "    .dataframe tbody tr th {\n",
       "        vertical-align: top;\n",
       "    }\n",
       "\n",
       "    .dataframe thead th {\n",
       "        text-align: right;\n",
       "    }\n",
       "</style>\n",
       "<table border=\"1\" class=\"dataframe\">\n",
       "  <thead>\n",
       "    <tr style=\"text-align: right;\">\n",
       "      <th></th>\n",
       "      <th>id</th>\n",
       "      <th>title</th>\n",
       "      <th>vote_average</th>\n",
       "      <th>vote_count</th>\n",
       "      <th>status</th>\n",
       "      <th>revenue</th>\n",
       "      <th>runtime</th>\n",
       "      <th>budget</th>\n",
       "      <th>imdb_id</th>\n",
       "      <th>original_language</th>\n",
       "      <th>original_title</th>\n",
       "      <th>overview</th>\n",
       "      <th>popularity</th>\n",
       "      <th>tagline</th>\n",
       "      <th>genres</th>\n",
       "      <th>production_companies</th>\n",
       "      <th>production_countries</th>\n",
       "      <th>spoken_languages</th>\n",
       "      <th>cast</th>\n",
       "      <th>director</th>\n",
       "      <th>director_of_photography</th>\n",
       "      <th>writers</th>\n",
       "      <th>producers</th>\n",
       "      <th>music_composer</th>\n",
       "      <th>imdb_rating</th>\n",
       "      <th>imdb_votes</th>\n",
       "      <th>poster_path</th>\n",
       "      <th>release_year</th>\n",
       "    </tr>\n",
       "  </thead>\n",
       "  <tbody>\n",
       "    <tr>\n",
       "      <th>12326</th>\n",
       "      <td>20419</td>\n",
       "      <td>WWE: Allied Powers - The World's Greatest Tag ...</td>\n",
       "      <td>7.10</td>\n",
       "      <td>4.00</td>\n",
       "      <td>Released</td>\n",
       "      <td>0.00</td>\n",
       "      <td>540.00</td>\n",
       "      <td>0.00</td>\n",
       "      <td>tt1461297</td>\n",
       "      <td>en</td>\n",
       "      <td>WWE: Allied Powers - The World's Greatest Tag ...</td>\n",
       "      <td>Throughout the decades, fans of sports enterta...</td>\n",
       "      <td>1.82</td>\n",
       "      <td>NaN</td>\n",
       "      <td>NaN</td>\n",
       "      <td>WWE Studios</td>\n",
       "      <td>United States of America</td>\n",
       "      <td>English</td>\n",
       "      <td>Tom Billington, Martin Lunde, James Hines, Kev...</td>\n",
       "      <td>Kevin Dunn</td>\n",
       "      <td>NaN</td>\n",
       "      <td>NaN</td>\n",
       "      <td>NaN</td>\n",
       "      <td>NaN</td>\n",
       "      <td>7.30</td>\n",
       "      <td>63.00</td>\n",
       "      <td>/eTmLxtbyznpfPPCD3XbTAbct3C4.jpg</td>\n",
       "      <td>2009</td>\n",
       "    </tr>\n",
       "    <tr>\n",
       "      <th>18514</th>\n",
       "      <td>29899</td>\n",
       "      <td>Claustrophobia</td>\n",
       "      <td>2.70</td>\n",
       "      <td>3.00</td>\n",
       "      <td>Released</td>\n",
       "      <td>0.00</td>\n",
       "      <td>79.00</td>\n",
       "      <td>95000.00</td>\n",
       "      <td>tt0315411</td>\n",
       "      <td>en</td>\n",
       "      <td>Claustrophobia</td>\n",
       "      <td>A serial killer armed with a crossbow pistol i...</td>\n",
       "      <td>1.46</td>\n",
       "      <td>NaN</td>\n",
       "      <td>NaN</td>\n",
       "      <td>Integration Entertainment, Cassava Films, Gree...</td>\n",
       "      <td>United States of America</td>\n",
       "      <td>English</td>\n",
       "      <td>Lucas Young, Rachelle Lagnado, Stan Guo, Miche...</td>\n",
       "      <td>Mark Tapio Kines</td>\n",
       "      <td>Bevan Crothers</td>\n",
       "      <td>Mark Tapio Kines</td>\n",
       "      <td>Mark Tapio Kines</td>\n",
       "      <td>Christopher Farrell</td>\n",
       "      <td>3.30</td>\n",
       "      <td>414.00</td>\n",
       "      <td>/gNyLGFOTMvRwbGkrLuFiLAAfHhD.jpg</td>\n",
       "      <td>2003</td>\n",
       "    </tr>\n",
       "    <tr>\n",
       "      <th>18933</th>\n",
       "      <td>30470</td>\n",
       "      <td>Gladiator Eroticvs: The Lesbian Warriors</td>\n",
       "      <td>5.10</td>\n",
       "      <td>12.00</td>\n",
       "      <td>Released</td>\n",
       "      <td>0.00</td>\n",
       "      <td>91.00</td>\n",
       "      <td>0.00</td>\n",
       "      <td>tt0256056</td>\n",
       "      <td>en</td>\n",
       "      <td>Gladiator Eroticvs: The Lesbian Warriors</td>\n",
       "      <td>A parody of the big-budget Ridley Scott-helmed...</td>\n",
       "      <td>7.94</td>\n",
       "      <td>NaN</td>\n",
       "      <td>NaN</td>\n",
       "      <td>Fantasy Bride Productions, E.I. Independent Ci...</td>\n",
       "      <td>United States of America</td>\n",
       "      <td>English</td>\n",
       "      <td>Raymond Lilienthal, W.C. Ponder, Don Mike, Joh...</td>\n",
       "      <td>John Bacchus</td>\n",
       "      <td>Richard Yankin</td>\n",
       "      <td>John Bacchus, Joe Ned</td>\n",
       "      <td>NaN</td>\n",
       "      <td>Grisly Labs</td>\n",
       "      <td>3.50</td>\n",
       "      <td>532.00</td>\n",
       "      <td>/qrRDFkkyLR4SUrhQwMtmSILXq8I.jpg</td>\n",
       "      <td>2001</td>\n",
       "    </tr>\n",
       "    <tr>\n",
       "      <th>21201</th>\n",
       "      <td>33827</td>\n",
       "      <td>The Graffiti Artist</td>\n",
       "      <td>5.60</td>\n",
       "      <td>25.00</td>\n",
       "      <td>Released</td>\n",
       "      <td>0.00</td>\n",
       "      <td>80.00</td>\n",
       "      <td>0.00</td>\n",
       "      <td>tt0402223</td>\n",
       "      <td>en</td>\n",
       "      <td>The Graffiti Artist</td>\n",
       "      <td>Adrift in the lush, nocturnal urban landscape ...</td>\n",
       "      <td>2.58</td>\n",
       "      <td>NaN</td>\n",
       "      <td>NaN</td>\n",
       "      <td>NaN</td>\n",
       "      <td>United States of America</td>\n",
       "      <td>English</td>\n",
       "      <td>Luke Cook, Ruben Bansie-Snellman, Pepper Fajans</td>\n",
       "      <td>James Bolton</td>\n",
       "      <td>NaN</td>\n",
       "      <td>James Bolton</td>\n",
       "      <td>James Bolton</td>\n",
       "      <td>NaN</td>\n",
       "      <td>6.10</td>\n",
       "      <td>819.00</td>\n",
       "      <td>/kKyp4lgIhI8pNGZj29Y8xH8vR1A.jpg</td>\n",
       "      <td>2004</td>\n",
       "    </tr>\n",
       "    <tr>\n",
       "      <th>21806</th>\n",
       "      <td>34988</td>\n",
       "      <td>Who Do You Love</td>\n",
       "      <td>1.00</td>\n",
       "      <td>1.00</td>\n",
       "      <td>Released</td>\n",
       "      <td>0.00</td>\n",
       "      <td>92.00</td>\n",
       "      <td>0.00</td>\n",
       "      <td>tt1186795</td>\n",
       "      <td>en</td>\n",
       "      <td>Who Do You Love</td>\n",
       "      <td>Who Do You Love is the life story of legendary...</td>\n",
       "      <td>0.28</td>\n",
       "      <td>NaN</td>\n",
       "      <td>NaN</td>\n",
       "      <td>NaN</td>\n",
       "      <td>NaN</td>\n",
       "      <td>English</td>\n",
       "      <td>Gavin C. Lewis Sr., Hunter McGregor, Marika Do...</td>\n",
       "      <td>Jerry Zaks</td>\n",
       "      <td>David Franco</td>\n",
       "      <td>Robert Conte, Peter Wortmann</td>\n",
       "      <td>Andrea Baynes, Les Alexander, Gideon Amir, Den...</td>\n",
       "      <td>Jeff Beal</td>\n",
       "      <td>6.00</td>\n",
       "      <td>181.00</td>\n",
       "      <td>/n2G00q7txMBtVkLN3lWTTOlX58b.jpg</td>\n",
       "      <td>2008</td>\n",
       "    </tr>\n",
       "    <tr>\n",
       "      <th>...</th>\n",
       "      <td>...</td>\n",
       "      <td>...</td>\n",
       "      <td>...</td>\n",
       "      <td>...</td>\n",
       "      <td>...</td>\n",
       "      <td>...</td>\n",
       "      <td>...</td>\n",
       "      <td>...</td>\n",
       "      <td>...</td>\n",
       "      <td>...</td>\n",
       "      <td>...</td>\n",
       "      <td>...</td>\n",
       "      <td>...</td>\n",
       "      <td>...</td>\n",
       "      <td>...</td>\n",
       "      <td>...</td>\n",
       "      <td>...</td>\n",
       "      <td>...</td>\n",
       "      <td>...</td>\n",
       "      <td>...</td>\n",
       "      <td>...</td>\n",
       "      <td>...</td>\n",
       "      <td>...</td>\n",
       "      <td>...</td>\n",
       "      <td>...</td>\n",
       "      <td>...</td>\n",
       "      <td>...</td>\n",
       "      <td>...</td>\n",
       "    </tr>\n",
       "    <tr>\n",
       "      <th>945320</th>\n",
       "      <td>1303875</td>\n",
       "      <td>Chestnut vs. Kobayashi: Unfinished Beef</td>\n",
       "      <td>3.50</td>\n",
       "      <td>2.00</td>\n",
       "      <td>Released</td>\n",
       "      <td>0.00</td>\n",
       "      <td>71.00</td>\n",
       "      <td>0.00</td>\n",
       "      <td>tt32633891</td>\n",
       "      <td>en</td>\n",
       "      <td>Chestnut vs. Kobayashi: Unfinished Beef</td>\n",
       "      <td>16-time hot dog– eating champion Joey Chestnut...</td>\n",
       "      <td>2.37</td>\n",
       "      <td>NaN</td>\n",
       "      <td>NaN</td>\n",
       "      <td>NaN</td>\n",
       "      <td>United States of America</td>\n",
       "      <td>English</td>\n",
       "      <td>Takeru Kobayashi, Joey Chestnut, Cari Champion...</td>\n",
       "      <td>Ryan Polito</td>\n",
       "      <td>Malcolm Serrette</td>\n",
       "      <td>NaN</td>\n",
       "      <td>Niki Usbay McDonald, Nicole Lucas Haimes, J.B....</td>\n",
       "      <td>NaN</td>\n",
       "      <td>5.10</td>\n",
       "      <td>256.00</td>\n",
       "      <td>/jDPJhmytwYKMnq72AIunNsTE1LF.jpg</td>\n",
       "      <td>2024</td>\n",
       "    </tr>\n",
       "    <tr>\n",
       "      <th>952039</th>\n",
       "      <td>1311446</td>\n",
       "      <td>Hit Em Hard: The Story of Zaina Juliette</td>\n",
       "      <td>10.00</td>\n",
       "      <td>1.00</td>\n",
       "      <td>Released</td>\n",
       "      <td>50000000.00</td>\n",
       "      <td>86.00</td>\n",
       "      <td>0.00</td>\n",
       "      <td>tt3865434</td>\n",
       "      <td>en</td>\n",
       "      <td>Hit Em Hard: The Story of Zaina Juliette</td>\n",
       "      <td>To achieve your dream and passion in a powerfu...</td>\n",
       "      <td>0.66</td>\n",
       "      <td>To achieve your dream and passion in a powerfu...</td>\n",
       "      <td>NaN</td>\n",
       "      <td>ZTraxx Music Group, Bungalo Records, Universal...</td>\n",
       "      <td>NaN</td>\n",
       "      <td>English</td>\n",
       "      <td>Black Jack Cross - K9, Tina Lynn Turner, Sebas...</td>\n",
       "      <td>NaN</td>\n",
       "      <td>NaN</td>\n",
       "      <td>NaN</td>\n",
       "      <td>Tina Lynn Turner</td>\n",
       "      <td>NaN</td>\n",
       "      <td>8.30</td>\n",
       "      <td>20.00</td>\n",
       "      <td>/mZBEkO3qwSG3WZBYffO3h77hpWW.jpg</td>\n",
       "      <td>2014</td>\n",
       "    </tr>\n",
       "    <tr>\n",
       "      <th>960318</th>\n",
       "      <td>1320648</td>\n",
       "      <td>Broken Innocence</td>\n",
       "      <td>5.00</td>\n",
       "      <td>2.00</td>\n",
       "      <td>Released</td>\n",
       "      <td>0.00</td>\n",
       "      <td>112.00</td>\n",
       "      <td>57000.00</td>\n",
       "      <td>tt28259039</td>\n",
       "      <td>en</td>\n",
       "      <td>Broken Innocence</td>\n",
       "      <td>When a young girl suffers years of horrendous ...</td>\n",
       "      <td>0.23</td>\n",
       "      <td>When a cycle of abuse finally catches up to th...</td>\n",
       "      <td>NaN</td>\n",
       "      <td>Angela Joseph Productions, A Cut to the Chase ...</td>\n",
       "      <td>United States of America</td>\n",
       "      <td>English</td>\n",
       "      <td>Kiley Opsal, Corel Garlock, Jonni Shandor, Her...</td>\n",
       "      <td>Chase Dudley</td>\n",
       "      <td>NaN</td>\n",
       "      <td>Charlie Brady, Chase Dudley</td>\n",
       "      <td>Sheri Davis, Chase Dudley</td>\n",
       "      <td>NaN</td>\n",
       "      <td>5.10</td>\n",
       "      <td>344.00</td>\n",
       "      <td>/jzRa8jyQD3O80Zq5X8cSu9laTkc.jpg</td>\n",
       "      <td>2024</td>\n",
       "    </tr>\n",
       "    <tr>\n",
       "      <th>1029450</th>\n",
       "      <td>1401599</td>\n",
       "      <td>AEW Revolution</td>\n",
       "      <td>8.50</td>\n",
       "      <td>3.00</td>\n",
       "      <td>Released</td>\n",
       "      <td>0.00</td>\n",
       "      <td>245.00</td>\n",
       "      <td>0.00</td>\n",
       "      <td>tt34998107</td>\n",
       "      <td>en</td>\n",
       "      <td>AEW Revolution</td>\n",
       "      <td>The 2025 Revolution was a professional wrestli...</td>\n",
       "      <td>5.05</td>\n",
       "      <td>NaN</td>\n",
       "      <td>NaN</td>\n",
       "      <td>All Elite Wrestling</td>\n",
       "      <td>United States of America</td>\n",
       "      <td>English</td>\n",
       "      <td>Trevor Mann, Stephen Woltz, Adam Copeland, Kaz...</td>\n",
       "      <td>Tony Khan</td>\n",
       "      <td>NaN</td>\n",
       "      <td>NaN</td>\n",
       "      <td>NaN</td>\n",
       "      <td>NaN</td>\n",
       "      <td>8.40</td>\n",
       "      <td>51.00</td>\n",
       "      <td>/yM9KhsmEWMrGBTQAIiw5iJghT4r.jpg</td>\n",
       "      <td>2025</td>\n",
       "    </tr>\n",
       "    <tr>\n",
       "      <th>1047504</th>\n",
       "      <td>1424316</td>\n",
       "      <td>Launder Run</td>\n",
       "      <td>9.50</td>\n",
       "      <td>4.00</td>\n",
       "      <td>Released</td>\n",
       "      <td>0.00</td>\n",
       "      <td>90.00</td>\n",
       "      <td>10000.00</td>\n",
       "      <td>tt4029958</td>\n",
       "      <td>en</td>\n",
       "      <td>Launder Run</td>\n",
       "      <td>Launder Run tells the story of Jake, a man ret...</td>\n",
       "      <td>0.58</td>\n",
       "      <td>NaN</td>\n",
       "      <td>NaN</td>\n",
       "      <td>NaN</td>\n",
       "      <td>NaN</td>\n",
       "      <td>English</td>\n",
       "      <td>Danel Pellegrino, Kumud Pant, Henry Neville, D...</td>\n",
       "      <td>Daniel Webb</td>\n",
       "      <td>NaN</td>\n",
       "      <td>Daniel Webb, Deborah O'Brien</td>\n",
       "      <td>Jo Gewirtz, Danel Pellegrino</td>\n",
       "      <td>NaN</td>\n",
       "      <td>8.10</td>\n",
       "      <td>45.00</td>\n",
       "      <td>/mut4Vkb2cS2Oslw4JcKyU3fq1ug.jpg</td>\n",
       "      <td>2014</td>\n",
       "    </tr>\n",
       "  </tbody>\n",
       "</table>\n",
       "<p>315 rows × 28 columns</p>\n",
       "</div>"
      ]
     },
     "execution_count": 26,
     "metadata": {},
     "output_type": "execute_result"
    }
   ],
   "execution_count": 26
  },
  {
   "cell_type": "code",
   "metadata": {
    "ExecuteTime": {
     "end_time": "2025-04-05T07:32:05.321185Z",
     "start_time": "2025-04-05T07:32:05.319308Z"
    }
   },
   "source": [
    "cols_to_drop = missing_values >= 50\n",
    "missing_values = missing_values[cols_to_drop]\n",
    "missing_values = missing_values.index.values.tolist()\n",
    "print('Columns to drop: {}'.format(missing_values))"
   ],
   "outputs": [
    {
     "name": "stdout",
     "output_type": "stream",
     "text": [
      "Columns to drop: ['music_composer']\n"
     ]
    }
   ],
   "execution_count": 27
  },
  {
   "cell_type": "code",
   "metadata": {
    "ExecuteTime": {
     "end_time": "2025-04-05T07:32:05.389199Z",
     "start_time": "2025-04-05T07:32:05.377781Z"
    }
   },
   "source": [
    "# drop columns with missing values exceeding 40%\n",
    "df_movies_imdb_clean.drop(missing_values, axis=1, inplace=True)\n",
    "df_movies_imdb_clean.shape"
   ],
   "outputs": [
    {
     "data": {
      "text/plain": [
       "(44772, 27)"
      ]
     },
     "execution_count": 28,
     "metadata": {},
     "output_type": "execute_result"
    }
   ],
   "execution_count": 28
  },
  {
   "cell_type": "markdown",
   "metadata": {},
   "source": [
    "<a id='imdb_unique'></a>\n",
    "<span style=\"color:#7C9E9E; font-size:16px; font-weight:bold\">2.1.3 Check Unique Values</span>"
   ]
  },
  {
   "cell_type": "code",
   "metadata": {
    "ExecuteTime": {
     "end_time": "2025-04-05T07:32:05.454019Z",
     "start_time": "2025-04-05T07:32:05.396375Z"
    }
   },
   "source": [
    "# how many unique values does each column of the dataset have?\n",
    "df_movies_imdb_clean.nunique()"
   ],
   "outputs": [
    {
     "data": {
      "text/plain": [
       "id                         44772\n",
       "title                      42501\n",
       "vote_average                1138\n",
       "vote_count                  2887\n",
       "status                         1\n",
       "revenue                     6621\n",
       "runtime                      257\n",
       "budget                      1007\n",
       "imdb_id                    44767\n",
       "original_language              1\n",
       "original_title             42520\n",
       "overview                   44721\n",
       "popularity                  6928\n",
       "tagline                    23676\n",
       "genres                      4122\n",
       "production_companies       28842\n",
       "production_countries        2101\n",
       "spoken_languages            1310\n",
       "cast                       43111\n",
       "director                   23942\n",
       "director_of_photography     8812\n",
       "writers                    30444\n",
       "producers                  30960\n",
       "imdb_rating                   69\n",
       "imdb_votes                 12021\n",
       "poster_path                44768\n",
       "release_year                  26\n",
       "dtype: int64"
      ]
     },
     "execution_count": 29,
     "metadata": {},
     "output_type": "execute_result"
    }
   ],
   "execution_count": 29
  },
  {
   "cell_type": "markdown",
   "metadata": {
    "pycharm": {
     "name": "#%% md\n"
    }
   },
   "source": [
    "**Observation from programming inspection `nunique()`:**\n",
    "    \n",
    "- columns seems to contain a lot of unique values. To"
   ]
  },
  {
   "cell_type": "code",
   "metadata": {
    "pycharm": {
     "name": "#%%\n"
    },
    "ExecuteTime": {
     "end_time": "2025-04-05T07:32:05.503389Z",
     "start_time": "2025-04-05T07:32:05.489484Z"
    }
   },
   "source": [
    "# show unique values for some columns\n",
    "print('\\nUNIQUE VALUES FOR COLUMNS: \\n')\n",
    "cols = ['status', 'release_year']\n",
    "for col in cols:\n",
    "    print('Unique values for column {}: \\n {} \\n'.format(col, df_movies_imdb_clean[col].sort_values().unique()))"
   ],
   "outputs": [
    {
     "name": "stdout",
     "output_type": "stream",
     "text": [
      "\n",
      "UNIQUE VALUES FOR COLUMNS: \n",
      "\n",
      "Unique values for column status: \n",
      " ['Released'] \n",
      "\n",
      "Unique values for column release_year: \n",
      " [2000 2001 2002 2003 2004 2005 2006 2007 2008 2009 2010 2011 2012 2013\n",
      " 2014 2015 2016 2017 2018 2019 2020 2021 2022 2023 2024 2025] \n",
      "\n"
     ]
    }
   ],
   "execution_count": 30
  },
  {
   "cell_type": "code",
   "metadata": {
    "ExecuteTime": {
     "end_time": "2025-04-05T07:32:05.575434Z",
     "start_time": "2025-04-05T07:32:05.566923Z"
    }
   },
   "source": [
    "# number of different genres\n",
    "genres = []\n",
    "genres_unique = []\n",
    "for val in df_movies_imdb_clean['genres']:\n",
    "    try:\n",
    "        genres.extend(val.split(', '))\n",
    "    except AttributeError:\n",
    "        pass\n",
    "\n",
    "genres_unique = set(genres)\n",
    "print('The number of unique genres is: {}'.format(len(genres_unique)))\n",
    "print(genres_unique)"
   ],
   "outputs": [
    {
     "name": "stdout",
     "output_type": "stream",
     "text": [
      "The number of unique genres is: 19\n",
      "{'Family', 'Crime', 'Action', 'History', 'Adventure', 'Thriller', 'Documentary', 'Western', 'Horror', 'TV Movie', 'Drama', 'Science Fiction', 'Comedy', 'Romance', 'Fantasy', 'Mystery', 'War', 'Animation', 'Music'}\n"
     ]
    }
   ],
   "execution_count": 31
  },
  {
   "cell_type": "code",
   "metadata": {
    "ExecuteTime": {
     "end_time": "2025-04-05T07:32:05.600380Z",
     "start_time": "2025-04-05T07:32:05.586910Z"
    }
   },
   "source": [
    "# number of different directors\n",
    "director = []\n",
    "director_unique = []\n",
    "for val in df_movies_imdb_clean['director']:\n",
    "    try:\n",
    "        director.extend(val.split(', '))\n",
    "    except AttributeError:\n",
    "        pass\n",
    "\n",
    "director_unique = set(director)\n",
    "print('The number of unique directors is: {}'.format(len(director_unique)))\n",
    "Counter(director).most_common(20)"
   ],
   "outputs": [
    {
     "name": "stdout",
     "output_type": "stream",
     "text": [
      "The number of unique directors is: 26227\n"
     ]
    },
    {
     "data": {
      "text/plain": [
       "[('Kevin Dunn', 252),\n",
       " ('David DeCoteau', 78),\n",
       " ('Fred Olen Ray', 75),\n",
       " ('Terry Ingram', 70),\n",
       " ('Michael Feifer', 66),\n",
       " ('Vince McMahon', 57),\n",
       " ('Jim Wynorski', 51),\n",
       " ('Ron Oliver', 51),\n",
       " ('Steven R. Monroe', 48),\n",
       " ('Damián Romay', 45),\n",
       " ('Ryan Polito', 43),\n",
       " ('Kevin Fair', 43),\n",
       " ('Jason Bourque', 40),\n",
       " ('Doug Campbell', 40),\n",
       " ('Charles Band', 39),\n",
       " ('Tyler Perry', 39),\n",
       " ('Mark Jean', 38),\n",
       " ('Peter Sullivan', 38),\n",
       " ('Jake Helgren', 38),\n",
       " ('Hamish Hamilton', 37)]"
      ]
     },
     "execution_count": 32,
     "metadata": {},
     "output_type": "execute_result"
    }
   ],
   "execution_count": 32
  },
  {
   "cell_type": "code",
   "metadata": {
    "ExecuteTime": {
     "end_time": "2025-04-05T07:32:05.631335Z",
     "start_time": "2025-04-05T07:32:05.612393Z"
    }
   },
   "source": [
    "# number of different production companies\n",
    "production_company = []\n",
    "production_company_unique = []\n",
    "for val in df_movies_imdb_clean['production_companies']:\n",
    "    try:\n",
    "        production_company.extend(val.split(', '))\n",
    "    except AttributeError:\n",
    "        pass\n",
    "\n",
    "production_company_unique = set(production_company)\n",
    "print('The number of unique production companies is: {}'.format(len(production_company_unique)))\n",
    "Counter(production_company).most_common(20)"
   ],
   "outputs": [
    {
     "name": "stdout",
     "output_type": "stream",
     "text": [
      "The number of unique production companies is: 29698\n"
     ]
    },
    {
     "data": {
      "text/plain": [
       "[('Lifetime', 459),\n",
       " ('Universal Pictures', 424),\n",
       " ('BBC', 409),\n",
       " ('Reel One Entertainment', 399),\n",
       " ('Warner Bros. Pictures', 352),\n",
       " ('Lionsgate', 333),\n",
       " ('MarVista Entertainment', 313),\n",
       " ('Columbia Pictures', 289),\n",
       " ('Paramount Pictures', 270),\n",
       " ('HBO Documentary Films', 255),\n",
       " ('BBC Film', 253),\n",
       " ('World Wrestling Entertainment (WWE)', 243),\n",
       " ('Hallmark Media', 236),\n",
       " ('20th Century Fox', 230),\n",
       " ('Film4 Productions', 228),\n",
       " ('Front Street Pictures', 219),\n",
       " ('Voltage Pictures', 217),\n",
       " ('Johnson Production Group', 217),\n",
       " ('Metro-Goldwyn-Mayer', 192),\n",
       " ('Walt Disney Pictures', 190)]"
      ]
     },
     "execution_count": 33,
     "metadata": {},
     "output_type": "execute_result"
    }
   ],
   "execution_count": 33
  },
  {
   "cell_type": "code",
   "metadata": {
    "ExecuteTime": {
     "end_time": "2025-04-05T07:32:05.739666Z",
     "start_time": "2025-04-05T07:32:05.722872Z"
    }
   },
   "source": [
    "# number of different writers\n",
    "writers = []\n",
    "writers_unique = []\n",
    "for val in df_movies_imdb_clean['writers']:\n",
    "    try:\n",
    "        writers.extend(val.split(', '))\n",
    "    except AttributeError:\n",
    "        pass\n",
    "\n",
    "writers_unique = set(writers)\n",
    "print('The number of unique production companies is: {}'.format(len(writers_unique)))\n",
    "Counter(writers).most_common(20)"
   ],
   "outputs": [
    {
     "name": "stdout",
     "output_type": "stream",
     "text": [
      "The number of unique production companies is: 38207\n"
     ]
    },
    {
     "data": {
      "text/plain": [
       "[('Peter Sullivan', 109),\n",
       " ('William Shakespeare', 106),\n",
       " ('Jeffrey Schenck', 89),\n",
       " ('Paul Lévesque', 77),\n",
       " ('Stephanie McMahon', 72),\n",
       " ('Barbara Kymlicka', 64),\n",
       " ('Christine Conradt', 56),\n",
       " ('Michael Seitz', 55),\n",
       " ('Bruce Prichard', 55),\n",
       " ('Vince McMahon', 54),\n",
       " ('Bob Kane', 50),\n",
       " ('Adam Rockoff', 50),\n",
       " ('Teena Booth', 49),\n",
       " ('Jack Kirby', 47),\n",
       " ('Rolfe Kanefsky', 47),\n",
       " ('Stan Lee', 45),\n",
       " ('Marcy Holland', 44),\n",
       " ('Fred Olen Ray', 43),\n",
       " ('Mark Monroe', 42),\n",
       " ('Jake Helgren', 42)]"
      ]
     },
     "execution_count": 34,
     "metadata": {},
     "output_type": "execute_result"
    }
   ],
   "execution_count": 34
  },
  {
   "cell_type": "code",
   "metadata": {
    "ExecuteTime": {
     "end_time": "2025-04-05T07:32:05.934002Z",
     "start_time": "2025-04-05T07:32:05.805998Z"
    }
   },
   "source": [
    "# number of different writers\n",
    "cast = []\n",
    "cast_unique = []\n",
    "for val in df_movies_imdb_clean['cast']:\n",
    "    try:\n",
    "        cast.extend(val.split(', '))\n",
    "    except AttributeError:\n",
    "        pass\n",
    "\n",
    "cast_unique = set(cast)\n",
    "print('The number of unique actors is: {}'.format(len(cast_unique)))\n",
    "Counter(cast).most_common(20)"
   ],
   "outputs": [
    {
     "name": "stdout",
     "output_type": "stream",
     "text": [
      "The number of unique actors is: 318720\n"
     ]
    },
    {
     "data": {
      "text/plain": [
       "[('Jr.', 319),\n",
       " ('Eric Roberts', 249),\n",
       " ('John Cena', 207),\n",
       " ('Randy Orton', 183),\n",
       " ('Danny Trejo', 175),\n",
       " ('Glenn Jacobs', 162),\n",
       " ('Paul Wight', 155),\n",
       " ('Adam Copeland', 149),\n",
       " ('Mike Mizanin', 137),\n",
       " ('Mark Calaway', 135),\n",
       " ('Chris Irvine', 133),\n",
       " ('Paul Lévesque', 132),\n",
       " ('Vivica A. Fox', 131),\n",
       " ('Michael Madsen', 130),\n",
       " ('Óscar Gutiérrez', 130),\n",
       " ('Lochlyn Munro', 128),\n",
       " ('Frank Welker', 128),\n",
       " ('Lloyd Kaufman', 126),\n",
       " ('Grey DeLisle', 122),\n",
       " ('Keith David', 119)]"
      ]
     },
     "execution_count": 35,
     "metadata": {},
     "output_type": "execute_result"
    }
   ],
   "execution_count": 35
  },
  {
   "cell_type": "markdown",
   "metadata": {
    "pycharm": {
     "name": "#%% md\n"
    }
   },
   "source": [
    "**Observation from programming inspection `unique()`:**\n",
    "- columns like `cast`, `writers`, `production_companies` and `director` have too many unique values to include as-is in modelling"
   ]
  },
  {
   "cell_type": "markdown",
   "metadata": {
    "pycharm": {
     "name": "#%% md\n"
    }
   },
   "source": [
    "<a id='imdb_unique'></a>\n",
    "<span style=\"color:#7C9E9E; font-size:16px; font-weight:bold\">2.1.4 Duplicate checks</span>"
   ]
  },
  {
   "cell_type": "code",
   "metadata": {
    "pycharm": {
     "name": "#%%\n"
    },
    "ExecuteTime": {
     "end_time": "2025-04-05T07:32:06.110261Z",
     "start_time": "2025-04-05T07:32:06.053589Z"
    }
   },
   "source": [
    "# Are any rows duplicated?\n",
    "df_movies_imdb_clean.duplicated().sum()"
   ],
   "outputs": [
    {
     "data": {
      "text/plain": [
       "0"
      ]
     },
     "execution_count": 36,
     "metadata": {},
     "output_type": "execute_result"
    }
   ],
   "execution_count": 36
  },
  {
   "cell_type": "code",
   "metadata": {
    "ExecuteTime": {
     "end_time": "2025-04-05T07:32:06.236298Z",
     "start_time": "2025-04-05T07:32:06.231530Z"
    }
   },
   "source": [
    "df_movies_imdb_clean['imdb_id'].duplicated().sum()"
   ],
   "outputs": [
    {
     "data": {
      "text/plain": [
       "5"
      ]
     },
     "execution_count": 37,
     "metadata": {},
     "output_type": "execute_result"
    }
   ],
   "execution_count": 37
  },
  {
   "cell_type": "code",
   "metadata": {
    "ExecuteTime": {
     "end_time": "2025-04-05T07:32:06.365661Z",
     "start_time": "2025-04-05T07:32:06.362689Z"
    }
   },
   "source": [
    "df_movies_imdb_clean['id'].duplicated().sum()"
   ],
   "outputs": [
    {
     "data": {
      "text/plain": [
       "0"
      ]
     },
     "execution_count": 38,
     "metadata": {},
     "output_type": "execute_result"
    }
   ],
   "execution_count": 38
  },
  {
   "metadata": {
    "ExecuteTime": {
     "end_time": "2025-04-05T07:32:06.614608Z",
     "start_time": "2025-04-05T07:32:06.600470Z"
    }
   },
   "cell_type": "code",
   "source": [
    "df_movies_imdb_clean.drop_duplicates(['imdb_id'], inplace=True)\n",
    "df_movies_imdb_clean.shape"
   ],
   "outputs": [
    {
     "data": {
      "text/plain": [
       "(44767, 27)"
      ]
     },
     "execution_count": 39,
     "metadata": {},
     "output_type": "execute_result"
    }
   ],
   "execution_count": 39
  },
  {
   "metadata": {
    "ExecuteTime": {
     "end_time": "2025-04-05T07:32:06.731338Z",
     "start_time": "2025-04-05T07:32:06.727723Z"
    }
   },
   "cell_type": "code",
   "source": "assert df_movies_imdb_clean.imdb_id.duplicated().sum() == 0",
   "outputs": [],
   "execution_count": 40
  },
  {
   "cell_type": "markdown",
   "metadata": {
    "pycharm": {
     "name": "#%% md\n"
    }
   },
   "source": [
    "**Observation of duplications:**\n",
    "\n",
    "- there are only a few records with imdbId duplicated, which will be our main identifier"
   ]
  },
  {
   "cell_type": "markdown",
   "metadata": {
    "pycharm": {
     "name": "#%% md\n"
    }
   },
   "source": [
    "<a id='movielens_links'></a>\n",
    "<span style=\"color:#7C9E9E; font-size:20px; font-weight:bold\">2.2 Assess and Clean MovieLens Links</span>\n",
    "\n",
    "The `links.csv` dataset contains movie id mapping\n",
    "with which we can link MovieLens and IMDB data together."
   ]
  },
  {
   "cell_type": "code",
   "metadata": {
    "pycharm": {
     "name": "#%%\n"
    },
    "ExecuteTime": {
     "end_time": "2025-04-05T07:32:06.866532Z",
     "start_time": "2025-04-05T07:32:06.853794Z"
    }
   },
   "source": [
    "# visual inspection of MovieLens `links.csv` file\n",
    "cols_of_interest = ['movielens_id', 'imdbId']\n",
    "path = os.path.join('..', path_links_raw)\n",
    "\n",
    "df_movielens_links = pd.read_csv(\n",
    "    path,\n",
    "    usecols=cols_of_interest,\n",
    "    names=cols_of_interest,\n",
    "    header=0,\n",
    "    dtype='int32',\n",
    ")\n",
    "\n",
    "df_movielens_links.sample(5)"
   ],
   "outputs": [
    {
     "data": {
      "text/plain": [
       "       movielens_id   imdbId\n",
       "27746        129832  1210117\n",
       "69515        223936  8068826\n",
       "4942           5047   240468\n",
       "12166         58146  1001562\n",
       "18125         94762    35737"
      ],
      "text/html": [
       "<div>\n",
       "<style scoped>\n",
       "    .dataframe tbody tr th:only-of-type {\n",
       "        vertical-align: middle;\n",
       "    }\n",
       "\n",
       "    .dataframe tbody tr th {\n",
       "        vertical-align: top;\n",
       "    }\n",
       "\n",
       "    .dataframe thead th {\n",
       "        text-align: right;\n",
       "    }\n",
       "</style>\n",
       "<table border=\"1\" class=\"dataframe\">\n",
       "  <thead>\n",
       "    <tr style=\"text-align: right;\">\n",
       "      <th></th>\n",
       "      <th>movielens_id</th>\n",
       "      <th>imdbId</th>\n",
       "    </tr>\n",
       "  </thead>\n",
       "  <tbody>\n",
       "    <tr>\n",
       "      <th>27746</th>\n",
       "      <td>129832</td>\n",
       "      <td>1210117</td>\n",
       "    </tr>\n",
       "    <tr>\n",
       "      <th>69515</th>\n",
       "      <td>223936</td>\n",
       "      <td>8068826</td>\n",
       "    </tr>\n",
       "    <tr>\n",
       "      <th>4942</th>\n",
       "      <td>5047</td>\n",
       "      <td>240468</td>\n",
       "    </tr>\n",
       "    <tr>\n",
       "      <th>12166</th>\n",
       "      <td>58146</td>\n",
       "      <td>1001562</td>\n",
       "    </tr>\n",
       "    <tr>\n",
       "      <th>18125</th>\n",
       "      <td>94762</td>\n",
       "      <td>35737</td>\n",
       "    </tr>\n",
       "  </tbody>\n",
       "</table>\n",
       "</div>"
      ]
     },
     "execution_count": 41,
     "metadata": {},
     "output_type": "execute_result"
    }
   ],
   "execution_count": 41
  },
  {
   "cell_type": "code",
   "metadata": {
    "ExecuteTime": {
     "end_time": "2025-04-05T07:32:07.023374Z",
     "start_time": "2025-04-05T07:32:07.020374Z"
    }
   },
   "source": [
    "df_movielens_links.info()"
   ],
   "outputs": [
    {
     "name": "stdout",
     "output_type": "stream",
     "text": [
      "<class 'pandas.core.frame.DataFrame'>\n",
      "RangeIndex: 87585 entries, 0 to 87584\n",
      "Data columns (total 2 columns):\n",
      " #   Column        Non-Null Count  Dtype\n",
      "---  ------        --------------  -----\n",
      " 0   movielens_id  87585 non-null  int32\n",
      " 1   imdbId        87585 non-null  int32\n",
      "dtypes: int32(2)\n",
      "memory usage: 684.4 KB\n"
     ]
    }
   ],
   "execution_count": 42
  },
  {
   "cell_type": "markdown",
   "metadata": {},
   "source": [
    "<a id='movielens_unique'></a>\n",
    "<span style=\"color:#7C9E9E; font-size:16px; font-weight:bold\">2.2.1 Missing values</span>"
   ]
  },
  {
   "cell_type": "code",
   "metadata": {
    "ExecuteTime": {
     "end_time": "2025-04-05T07:32:07.143030Z",
     "start_time": "2025-04-05T07:32:07.140308Z"
    }
   },
   "source": [
    "df_movielens_links.isna().sum()"
   ],
   "outputs": [
    {
     "data": {
      "text/plain": [
       "movielens_id    0\n",
       "imdbId          0\n",
       "dtype: int64"
      ]
     },
     "execution_count": 43,
     "metadata": {},
     "output_type": "execute_result"
    }
   ],
   "execution_count": 43
  },
  {
   "cell_type": "markdown",
   "metadata": {},
   "source": [
    "<a id='movielens_unique'></a>\n",
    "<span style=\"color:#7C9E9E; font-size:16px; font-weight:bold\">2.2.2 Duplicate checks</span>"
   ]
  },
  {
   "cell_type": "code",
   "metadata": {
    "ExecuteTime": {
     "end_time": "2025-04-05T07:32:07.156858Z",
     "start_time": "2025-04-05T07:32:07.154074Z"
    }
   },
   "source": [
    "# make sure imbdId is not duplicated\n",
    "assert df_movielens_links.imdbId.duplicated().sum() == 0"
   ],
   "outputs": [],
   "execution_count": 44
  },
  {
   "cell_type": "code",
   "metadata": {
    "ExecuteTime": {
     "end_time": "2025-04-05T07:32:07.240224Z",
     "start_time": "2025-04-05T07:32:07.235554Z"
    }
   },
   "source": [
    "# make sure there are no duplicated records\n",
    "assert df_movielens_links.duplicated().sum() == 0"
   ],
   "outputs": [],
   "execution_count": 45
  },
  {
   "cell_type": "code",
   "metadata": {
    "ExecuteTime": {
     "end_time": "2025-04-05T07:32:07.271823Z",
     "start_time": "2025-04-05T07:32:07.269346Z"
    }
   },
   "source": [
    "# make sure there are no duplicated records\n",
    "assert df_movielens_links.movielens_id.duplicated().sum() == 0"
   ],
   "outputs": [],
   "execution_count": 46
  },
  {
   "cell_type": "markdown",
   "metadata": {},
   "source": [
    "\n",
    "\n",
    "Let's test it's validity,\n",
    "filter it to movies in-scope and create a clean version."
   ]
  },
  {
   "cell_type": "code",
   "metadata": {
    "ExecuteTime": {
     "end_time": "2025-04-05T07:32:07.293973Z",
     "start_time": "2025-04-05T07:32:07.283268Z"
    }
   },
   "source": [
    "# check the format of column `imdb_id` in the movies dataset\n",
    "cols_filter = ['id', 'title', 'imdb_id']\n",
    "df_movies_imdb_clean[df_movies_imdb_clean['title'].str.contains('Hobbit')][cols_filter]"
   ],
   "outputs": [
    {
     "data": {
      "text/plain": [
       "              id                                      title     imdb_id\n",
       "32966      49051          The Hobbit: An Unexpected Journey   tt0903624\n",
       "39294      57158        The Hobbit: The Desolation of Smaug   tt1170358\n",
       "80402     122917  The Hobbit: The Battle of the Five Armies   tt2310332\n",
       "1068777  1449189                J.R.R. Tolkien's The Hobbit  tt13749944"
      ],
      "text/html": [
       "<div>\n",
       "<style scoped>\n",
       "    .dataframe tbody tr th:only-of-type {\n",
       "        vertical-align: middle;\n",
       "    }\n",
       "\n",
       "    .dataframe tbody tr th {\n",
       "        vertical-align: top;\n",
       "    }\n",
       "\n",
       "    .dataframe thead th {\n",
       "        text-align: right;\n",
       "    }\n",
       "</style>\n",
       "<table border=\"1\" class=\"dataframe\">\n",
       "  <thead>\n",
       "    <tr style=\"text-align: right;\">\n",
       "      <th></th>\n",
       "      <th>id</th>\n",
       "      <th>title</th>\n",
       "      <th>imdb_id</th>\n",
       "    </tr>\n",
       "  </thead>\n",
       "  <tbody>\n",
       "    <tr>\n",
       "      <th>32966</th>\n",
       "      <td>49051</td>\n",
       "      <td>The Hobbit: An Unexpected Journey</td>\n",
       "      <td>tt0903624</td>\n",
       "    </tr>\n",
       "    <tr>\n",
       "      <th>39294</th>\n",
       "      <td>57158</td>\n",
       "      <td>The Hobbit: The Desolation of Smaug</td>\n",
       "      <td>tt1170358</td>\n",
       "    </tr>\n",
       "    <tr>\n",
       "      <th>80402</th>\n",
       "      <td>122917</td>\n",
       "      <td>The Hobbit: The Battle of the Five Armies</td>\n",
       "      <td>tt2310332</td>\n",
       "    </tr>\n",
       "    <tr>\n",
       "      <th>1068777</th>\n",
       "      <td>1449189</td>\n",
       "      <td>J.R.R. Tolkien's The Hobbit</td>\n",
       "      <td>tt13749944</td>\n",
       "    </tr>\n",
       "  </tbody>\n",
       "</table>\n",
       "</div>"
      ]
     },
     "execution_count": 47,
     "metadata": {},
     "output_type": "execute_result"
    }
   ],
   "execution_count": 47
  },
  {
   "cell_type": "code",
   "metadata": {
    "ExecuteTime": {
     "end_time": "2025-04-05T07:32:07.441676Z",
     "start_time": "2025-04-05T07:32:07.438750Z"
    }
   },
   "source": [
    "# Double check if link dataset really works, can it link movies together?\n",
    "# Let's use `imdb_id` for the hobbit and see if it exists in links dataset\n",
    "df_movielens_links[df_movielens_links['imdbId'] == 903624]"
   ],
   "outputs": [
    {
     "data": {
      "text/plain": [
       "       movielens_id  imdbId\n",
       "18958         98809  903624"
      ],
      "text/html": [
       "<div>\n",
       "<style scoped>\n",
       "    .dataframe tbody tr th:only-of-type {\n",
       "        vertical-align: middle;\n",
       "    }\n",
       "\n",
       "    .dataframe tbody tr th {\n",
       "        vertical-align: top;\n",
       "    }\n",
       "\n",
       "    .dataframe thead th {\n",
       "        text-align: right;\n",
       "    }\n",
       "</style>\n",
       "<table border=\"1\" class=\"dataframe\">\n",
       "  <thead>\n",
       "    <tr style=\"text-align: right;\">\n",
       "      <th></th>\n",
       "      <th>movielens_id</th>\n",
       "      <th>imdbId</th>\n",
       "    </tr>\n",
       "  </thead>\n",
       "  <tbody>\n",
       "    <tr>\n",
       "      <th>18958</th>\n",
       "      <td>98809</td>\n",
       "      <td>903624</td>\n",
       "    </tr>\n",
       "  </tbody>\n",
       "</table>\n",
       "</div>"
      ]
     },
     "execution_count": 48,
     "metadata": {},
     "output_type": "execute_result"
    }
   ],
   "execution_count": 48
  },
  {
   "cell_type": "code",
   "metadata": {
    "ExecuteTime": {
     "end_time": "2025-04-05T07:32:07.618546Z",
     "start_time": "2025-04-05T07:32:07.578622Z"
    }
   },
   "source": [
    "# Now let's confirm that the movie in MovieLens is the same Hobbit movie...\n",
    "path = os.path.join('..', path_movielens_movies)\n",
    "df_movielens = pd.read_csv(path)\n",
    "df_movielens[df_movielens['movieId'] == 98809]"
   ],
   "outputs": [
    {
     "data": {
      "text/plain": [
       "       movieId                                      title                  genres\n",
       "18958    98809  Hobbit: An Unexpected Journey, The (2012)  Adventure|Fantasy|IMAX"
      ],
      "text/html": [
       "<div>\n",
       "<style scoped>\n",
       "    .dataframe tbody tr th:only-of-type {\n",
       "        vertical-align: middle;\n",
       "    }\n",
       "\n",
       "    .dataframe tbody tr th {\n",
       "        vertical-align: top;\n",
       "    }\n",
       "\n",
       "    .dataframe thead th {\n",
       "        text-align: right;\n",
       "    }\n",
       "</style>\n",
       "<table border=\"1\" class=\"dataframe\">\n",
       "  <thead>\n",
       "    <tr style=\"text-align: right;\">\n",
       "      <th></th>\n",
       "      <th>movieId</th>\n",
       "      <th>title</th>\n",
       "      <th>genres</th>\n",
       "    </tr>\n",
       "  </thead>\n",
       "  <tbody>\n",
       "    <tr>\n",
       "      <th>18958</th>\n",
       "      <td>98809</td>\n",
       "      <td>Hobbit: An Unexpected Journey, The (2012)</td>\n",
       "      <td>Adventure|Fantasy|IMAX</td>\n",
       "    </tr>\n",
       "  </tbody>\n",
       "</table>\n",
       "</div>"
      ]
     },
     "execution_count": 49,
     "metadata": {},
     "output_type": "execute_result"
    }
   ],
   "execution_count": 49
  },
  {
   "cell_type": "markdown",
   "metadata": {},
   "source": [
    "**Observation:**\n",
    "\n",
    "* `links.csv` dataset is a greate integrator of datasets for TMDB, IMDB and MovieLens\n",
    "* columns `imdb_id` are `imdbId` are inconsistent between the two datasets, tt0903624 vs 903624"
   ]
  },
  {
   "cell_type": "code",
   "metadata": {
    "ExecuteTime": {
     "end_time": "2025-04-05T07:32:07.699692Z",
     "start_time": "2025-04-05T07:32:07.681802Z"
    }
   },
   "source": [
    "# add a column to convert imdb_id into an integer so we can join the tables\n",
    "cols_filter = ['id', 'title', 'imdb_id', 'imdbId']\n",
    "df_movies_imdb_clean['imdbId'] = df_movies_imdb_clean['imdb_id'].str[2:].astype('int32')\n",
    "df_movies_imdb_clean[df_movies_imdb_clean['title'].str.contains('Hobbit')][cols_filter]"
   ],
   "outputs": [
    {
     "data": {
      "text/plain": [
       "              id                                      title     imdb_id    imdbId\n",
       "32966      49051          The Hobbit: An Unexpected Journey   tt0903624    903624\n",
       "39294      57158        The Hobbit: The Desolation of Smaug   tt1170358   1170358\n",
       "80402     122917  The Hobbit: The Battle of the Five Armies   tt2310332   2310332\n",
       "1068777  1449189                J.R.R. Tolkien's The Hobbit  tt13749944  13749944"
      ],
      "text/html": [
       "<div>\n",
       "<style scoped>\n",
       "    .dataframe tbody tr th:only-of-type {\n",
       "        vertical-align: middle;\n",
       "    }\n",
       "\n",
       "    .dataframe tbody tr th {\n",
       "        vertical-align: top;\n",
       "    }\n",
       "\n",
       "    .dataframe thead th {\n",
       "        text-align: right;\n",
       "    }\n",
       "</style>\n",
       "<table border=\"1\" class=\"dataframe\">\n",
       "  <thead>\n",
       "    <tr style=\"text-align: right;\">\n",
       "      <th></th>\n",
       "      <th>id</th>\n",
       "      <th>title</th>\n",
       "      <th>imdb_id</th>\n",
       "      <th>imdbId</th>\n",
       "    </tr>\n",
       "  </thead>\n",
       "  <tbody>\n",
       "    <tr>\n",
       "      <th>32966</th>\n",
       "      <td>49051</td>\n",
       "      <td>The Hobbit: An Unexpected Journey</td>\n",
       "      <td>tt0903624</td>\n",
       "      <td>903624</td>\n",
       "    </tr>\n",
       "    <tr>\n",
       "      <th>39294</th>\n",
       "      <td>57158</td>\n",
       "      <td>The Hobbit: The Desolation of Smaug</td>\n",
       "      <td>tt1170358</td>\n",
       "      <td>1170358</td>\n",
       "    </tr>\n",
       "    <tr>\n",
       "      <th>80402</th>\n",
       "      <td>122917</td>\n",
       "      <td>The Hobbit: The Battle of the Five Armies</td>\n",
       "      <td>tt2310332</td>\n",
       "      <td>2310332</td>\n",
       "    </tr>\n",
       "    <tr>\n",
       "      <th>1068777</th>\n",
       "      <td>1449189</td>\n",
       "      <td>J.R.R. Tolkien's The Hobbit</td>\n",
       "      <td>tt13749944</td>\n",
       "      <td>13749944</td>\n",
       "    </tr>\n",
       "  </tbody>\n",
       "</table>\n",
       "</div>"
      ]
     },
     "execution_count": 50,
     "metadata": {},
     "output_type": "execute_result"
    }
   ],
   "execution_count": 50
  },
  {
   "cell_type": "code",
   "metadata": {
    "pycharm": {
     "name": "#%%\n"
    },
    "ExecuteTime": {
     "end_time": "2025-04-05T07:32:07.780444Z",
     "start_time": "2025-04-05T07:32:07.754242Z"
    }
   },
   "source": [
    "# only keep records in the `links`\n",
    "# dataset that are in-scope in our main movie dataset\n",
    "print('Number of records before the merge {}'.format(df_movielens_links.shape))\n",
    "df_movielens_links = df_movielens_links.merge(df_movies_imdb_clean, on='imdbId', how='inner')[cols_of_interest]\n",
    "print('Number of records after merge {}'.format(df_movielens_links.shape))\n",
    "print('Number of records in movie dataset {}'.format(df_movies_imdb_clean.shape))"
   ],
   "outputs": [
    {
     "name": "stdout",
     "output_type": "stream",
     "text": [
      "Number of records before the merge (87585, 2)\n",
      "Number of records after merge (24394, 2)\n",
      "Number of records in movie dataset (44767, 28)\n"
     ]
    }
   ],
   "execution_count": 51
  },
  {
   "cell_type": "markdown",
   "metadata": {},
   "source": "**Observation**: Over 20k movies are not present in the MovieLens dataset, perhaps not the best data source"
  },
  {
   "cell_type": "markdown",
   "metadata": {
    "pycharm": {
     "name": "#%% md\n"
    }
   },
   "source": [
    "<a id='movielens_ratings'></a>\n",
    "<span style=\"color:#7C9E9E; font-size:20px; font-weight:bold\">2.3 Assess and Clean MovieLens Ratings</span>"
   ]
  },
  {
   "cell_type": "code",
   "metadata": {
    "pycharm": {
     "name": "#%%\n"
    },
    "ExecuteTime": {
     "end_time": "2025-04-05T07:32:17.392072Z",
     "start_time": "2025-04-05T07:32:07.808686Z"
    }
   },
   "source": [
    "# visual inspection of MovieLens Ratings dataframe\n",
    "dtypes = {'user_id': 'int32', 'movielens_id': 'int32', 'rating': 'float16'}\n",
    "column_names = ['user_id', 'movielens_id', 'rating', 'timestamp']\n",
    "path = os.path.join('..', path_ratings_raw)\n",
    "df_movielens_ratings = pd.read_csv(path, usecols=column_names, names=column_names, header=0, dtype=dtypes)\n",
    "df_movielens_ratings['timestamp'] =  pd.to_datetime(df_movielens_ratings['timestamp'], unit='s')\n",
    "df_movielens_ratings.sample(5)"
   ],
   "outputs": [
    {
     "data": {
      "text/plain": [
       "          user_id  movielens_id  rating           timestamp\n",
       "29845364   187210        250010    4.00 2021-06-13 16:05:41\n",
       "20558780   128710           364    5.00 2000-03-13 03:00:12\n",
       "4835059     30197        140809    5.00 2020-06-28 23:51:49\n",
       "16474484   103207          2918    3.00 2022-06-06 12:29:17\n",
       "18960913   118674          3527    3.00 2003-03-08 14:35:58"
      ],
      "text/html": [
       "<div>\n",
       "<style scoped>\n",
       "    .dataframe tbody tr th:only-of-type {\n",
       "        vertical-align: middle;\n",
       "    }\n",
       "\n",
       "    .dataframe tbody tr th {\n",
       "        vertical-align: top;\n",
       "    }\n",
       "\n",
       "    .dataframe thead th {\n",
       "        text-align: right;\n",
       "    }\n",
       "</style>\n",
       "<table border=\"1\" class=\"dataframe\">\n",
       "  <thead>\n",
       "    <tr style=\"text-align: right;\">\n",
       "      <th></th>\n",
       "      <th>user_id</th>\n",
       "      <th>movielens_id</th>\n",
       "      <th>rating</th>\n",
       "      <th>timestamp</th>\n",
       "    </tr>\n",
       "  </thead>\n",
       "  <tbody>\n",
       "    <tr>\n",
       "      <th>29845364</th>\n",
       "      <td>187210</td>\n",
       "      <td>250010</td>\n",
       "      <td>4.00</td>\n",
       "      <td>2021-06-13 16:05:41</td>\n",
       "    </tr>\n",
       "    <tr>\n",
       "      <th>20558780</th>\n",
       "      <td>128710</td>\n",
       "      <td>364</td>\n",
       "      <td>5.00</td>\n",
       "      <td>2000-03-13 03:00:12</td>\n",
       "    </tr>\n",
       "    <tr>\n",
       "      <th>4835059</th>\n",
       "      <td>30197</td>\n",
       "      <td>140809</td>\n",
       "      <td>5.00</td>\n",
       "      <td>2020-06-28 23:51:49</td>\n",
       "    </tr>\n",
       "    <tr>\n",
       "      <th>16474484</th>\n",
       "      <td>103207</td>\n",
       "      <td>2918</td>\n",
       "      <td>3.00</td>\n",
       "      <td>2022-06-06 12:29:17</td>\n",
       "    </tr>\n",
       "    <tr>\n",
       "      <th>18960913</th>\n",
       "      <td>118674</td>\n",
       "      <td>3527</td>\n",
       "      <td>3.00</td>\n",
       "      <td>2003-03-08 14:35:58</td>\n",
       "    </tr>\n",
       "  </tbody>\n",
       "</table>\n",
       "</div>"
      ]
     },
     "execution_count": 52,
     "metadata": {},
     "output_type": "execute_result"
    }
   ],
   "execution_count": 52
  },
  {
   "cell_type": "code",
   "metadata": {
    "ExecuteTime": {
     "end_time": "2025-04-05T07:32:17.424582Z",
     "start_time": "2025-04-05T07:32:17.421342Z"
    }
   },
   "source": "df_movielens_ratings.info()",
   "outputs": [
    {
     "name": "stdout",
     "output_type": "stream",
     "text": [
      "<class 'pandas.core.frame.DataFrame'>\n",
      "RangeIndex: 32000204 entries, 0 to 32000203\n",
      "Data columns (total 4 columns):\n",
      " #   Column        Dtype         \n",
      "---  ------        -----         \n",
      " 0   user_id       int32         \n",
      " 1   movielens_id  int32         \n",
      " 2   rating        float16       \n",
      " 3   timestamp     datetime64[ns]\n",
      "dtypes: datetime64[ns](1), float16(1), int32(2)\n",
      "memory usage: 549.3 MB\n"
     ]
    }
   ],
   "execution_count": 53
  },
  {
   "metadata": {
    "ExecuteTime": {
     "end_time": "2025-04-05T07:32:18.006367Z",
     "start_time": "2025-04-05T07:32:17.470295Z"
    }
   },
   "cell_type": "code",
   "source": [
    "# First, let's reduce ratings to include only movies present in the movie dataset\n",
    "ratings_index = df_movielens_links['movielens_id'].tolist()\n",
    "df_movielens_ratings = df_movielens_ratings.merge(df_movielens_links, on='movielens_id', how='inner')\n",
    "df_movielens_ratings.shape"
   ],
   "outputs": [
    {
     "data": {
      "text/plain": [
       "(12646425, 5)"
      ]
     },
     "execution_count": 54,
     "metadata": {},
     "output_type": "execute_result"
    }
   ],
   "execution_count": 54
  },
  {
   "metadata": {
    "ExecuteTime": {
     "end_time": "2025-04-05T07:32:18.039283Z",
     "start_time": "2025-04-05T07:32:18.035920Z"
    }
   },
   "cell_type": "code",
   "source": "df_movielens_ratings.head()",
   "outputs": [
    {
     "data": {
      "text/plain": [
       "   user_id  movielens_id  rating           timestamp  imdbId\n",
       "0        3          3578    5.00 2004-05-13 21:58:54  172495\n",
       "1        3          3623    3.00 2004-05-13 21:54:24  120755\n",
       "2        3          3753    5.00 2004-05-13 21:58:26  187393\n",
       "3        3          3793    3.00 2004-05-13 21:59:09  120903\n",
       "4        3          3826    3.00 2004-05-13 21:54:41  164052"
      ],
      "text/html": [
       "<div>\n",
       "<style scoped>\n",
       "    .dataframe tbody tr th:only-of-type {\n",
       "        vertical-align: middle;\n",
       "    }\n",
       "\n",
       "    .dataframe tbody tr th {\n",
       "        vertical-align: top;\n",
       "    }\n",
       "\n",
       "    .dataframe thead th {\n",
       "        text-align: right;\n",
       "    }\n",
       "</style>\n",
       "<table border=\"1\" class=\"dataframe\">\n",
       "  <thead>\n",
       "    <tr style=\"text-align: right;\">\n",
       "      <th></th>\n",
       "      <th>user_id</th>\n",
       "      <th>movielens_id</th>\n",
       "      <th>rating</th>\n",
       "      <th>timestamp</th>\n",
       "      <th>imdbId</th>\n",
       "    </tr>\n",
       "  </thead>\n",
       "  <tbody>\n",
       "    <tr>\n",
       "      <th>0</th>\n",
       "      <td>3</td>\n",
       "      <td>3578</td>\n",
       "      <td>5.00</td>\n",
       "      <td>2004-05-13 21:58:54</td>\n",
       "      <td>172495</td>\n",
       "    </tr>\n",
       "    <tr>\n",
       "      <th>1</th>\n",
       "      <td>3</td>\n",
       "      <td>3623</td>\n",
       "      <td>3.00</td>\n",
       "      <td>2004-05-13 21:54:24</td>\n",
       "      <td>120755</td>\n",
       "    </tr>\n",
       "    <tr>\n",
       "      <th>2</th>\n",
       "      <td>3</td>\n",
       "      <td>3753</td>\n",
       "      <td>5.00</td>\n",
       "      <td>2004-05-13 21:58:26</td>\n",
       "      <td>187393</td>\n",
       "    </tr>\n",
       "    <tr>\n",
       "      <th>3</th>\n",
       "      <td>3</td>\n",
       "      <td>3793</td>\n",
       "      <td>3.00</td>\n",
       "      <td>2004-05-13 21:59:09</td>\n",
       "      <td>120903</td>\n",
       "    </tr>\n",
       "    <tr>\n",
       "      <th>4</th>\n",
       "      <td>3</td>\n",
       "      <td>3826</td>\n",
       "      <td>3.00</td>\n",
       "      <td>2004-05-13 21:54:41</td>\n",
       "      <td>164052</td>\n",
       "    </tr>\n",
       "  </tbody>\n",
       "</table>\n",
       "</div>"
      ]
     },
     "execution_count": 55,
     "metadata": {},
     "output_type": "execute_result"
    }
   ],
   "execution_count": 55
  },
  {
   "cell_type": "code",
   "metadata": {
    "ExecuteTime": {
     "end_time": "2025-04-05T07:32:18.089453Z",
     "start_time": "2025-04-05T07:32:18.071305Z"
    }
   },
   "source": [
    "# what is the range of timestamps on the ratings?\n",
    "df_movielens_ratings.timestamp.min(), df_movielens_ratings.timestamp.max()"
   ],
   "outputs": [
    {
     "data": {
      "text/plain": [
       "(Timestamp('1999-08-19 01:43:47'), Timestamp('2023-10-13 02:28:18'))"
      ]
     },
     "execution_count": 56,
     "metadata": {},
     "output_type": "execute_result"
    }
   ],
   "execution_count": 56
  },
  {
   "cell_type": "code",
   "metadata": {
    "ExecuteTime": {
     "end_time": "2025-04-05T07:32:18.667164Z",
     "start_time": "2025-04-05T07:32:18.119954Z"
    }
   },
   "source": [
    "# Does a user rate a movie more than once?\n",
    "assert df_movielens_ratings[['user_id', 'movielens_id']].duplicated().sum() == 0"
   ],
   "outputs": [],
   "execution_count": 57
  },
  {
   "cell_type": "code",
   "metadata": {
    "ExecuteTime": {
     "end_time": "2025-04-05T07:32:19.396982Z",
     "start_time": "2025-04-05T07:32:18.669684Z"
    }
   },
   "source": [
    "# Before we clean up the dataset, how many unique users and movies do we have?\n",
    "df_movielens_ratings.nunique()"
   ],
   "outputs": [
    {
     "data": {
      "text/plain": [
       "user_id           151217\n",
       "movielens_id       24122\n",
       "rating                10\n",
       "timestamp       11693176\n",
       "imdbId             24122\n",
       "dtype: int64"
      ]
     },
     "execution_count": 58,
     "metadata": {},
     "output_type": "execute_result"
    }
   ],
   "execution_count": 58
  },
  {
   "cell_type": "code",
   "metadata": {
    "ExecuteTime": {
     "end_time": "2025-04-05T07:32:19.717358Z",
     "start_time": "2025-04-05T07:32:19.612816Z"
    }
   },
   "source": [
    "# What is the distribution of how many movies a user interacts within the dataset?\n",
    "df_users_cnt = pd.DataFrame(\n",
    "    df_movielens_ratings.groupby('user_id').size(), columns=['count']\n",
    ").sort_values('count', ascending=False)\n",
    "\n",
    "df_users_cnt.describe([0.05, 0.25, 0.5, 0.75, 0.99])"
   ],
   "outputs": [
    {
     "data": {
      "text/plain": [
       "          count\n",
       "count 151217.00\n",
       "mean      83.63\n",
       "std      155.93\n",
       "min        1.00\n",
       "5%         3.00\n",
       "25%       13.00\n",
       "50%       34.00\n",
       "75%       88.00\n",
       "99%      739.00\n",
       "max     8346.00"
      ],
      "text/html": [
       "<div>\n",
       "<style scoped>\n",
       "    .dataframe tbody tr th:only-of-type {\n",
       "        vertical-align: middle;\n",
       "    }\n",
       "\n",
       "    .dataframe tbody tr th {\n",
       "        vertical-align: top;\n",
       "    }\n",
       "\n",
       "    .dataframe thead th {\n",
       "        text-align: right;\n",
       "    }\n",
       "</style>\n",
       "<table border=\"1\" class=\"dataframe\">\n",
       "  <thead>\n",
       "    <tr style=\"text-align: right;\">\n",
       "      <th></th>\n",
       "      <th>count</th>\n",
       "    </tr>\n",
       "  </thead>\n",
       "  <tbody>\n",
       "    <tr>\n",
       "      <th>count</th>\n",
       "      <td>151217.00</td>\n",
       "    </tr>\n",
       "    <tr>\n",
       "      <th>mean</th>\n",
       "      <td>83.63</td>\n",
       "    </tr>\n",
       "    <tr>\n",
       "      <th>std</th>\n",
       "      <td>155.93</td>\n",
       "    </tr>\n",
       "    <tr>\n",
       "      <th>min</th>\n",
       "      <td>1.00</td>\n",
       "    </tr>\n",
       "    <tr>\n",
       "      <th>5%</th>\n",
       "      <td>3.00</td>\n",
       "    </tr>\n",
       "    <tr>\n",
       "      <th>25%</th>\n",
       "      <td>13.00</td>\n",
       "    </tr>\n",
       "    <tr>\n",
       "      <th>50%</th>\n",
       "      <td>34.00</td>\n",
       "    </tr>\n",
       "    <tr>\n",
       "      <th>75%</th>\n",
       "      <td>88.00</td>\n",
       "    </tr>\n",
       "    <tr>\n",
       "      <th>99%</th>\n",
       "      <td>739.00</td>\n",
       "    </tr>\n",
       "    <tr>\n",
       "      <th>max</th>\n",
       "      <td>8346.00</td>\n",
       "    </tr>\n",
       "  </tbody>\n",
       "</table>\n",
       "</div>"
      ]
     },
     "execution_count": 59,
     "metadata": {},
     "output_type": "execute_result"
    }
   ],
   "execution_count": 59
  },
  {
   "cell_type": "code",
   "metadata": {
    "ExecuteTime": {
     "end_time": "2025-04-05T07:32:19.822754Z",
     "start_time": "2025-04-05T07:32:19.749663Z"
    }
   },
   "source": [
    "# What is the distribution of how many times a movie gets rated?\n",
    "df_movies_cnt = pd.DataFrame(\n",
    "    df_movielens_ratings.groupby('movielens_id').size(), columns=['count']\n",
    ")\n",
    "\n",
    "df_movies_cnt.describe([0.05, 0.25, 0.5, 0.75, 0.99])"
   ],
   "outputs": [
    {
     "data": {
      "text/plain": [
       "         count\n",
       "count 24122.00\n",
       "mean    524.27\n",
       "std    2676.69\n",
       "min       1.00\n",
       "5%        1.00\n",
       "25%       2.00\n",
       "50%       9.00\n",
       "75%      69.00\n",
       "99%   12162.07\n",
       "max   73122.00"
      ],
      "text/html": [
       "<div>\n",
       "<style scoped>\n",
       "    .dataframe tbody tr th:only-of-type {\n",
       "        vertical-align: middle;\n",
       "    }\n",
       "\n",
       "    .dataframe tbody tr th {\n",
       "        vertical-align: top;\n",
       "    }\n",
       "\n",
       "    .dataframe thead th {\n",
       "        text-align: right;\n",
       "    }\n",
       "</style>\n",
       "<table border=\"1\" class=\"dataframe\">\n",
       "  <thead>\n",
       "    <tr style=\"text-align: right;\">\n",
       "      <th></th>\n",
       "      <th>count</th>\n",
       "    </tr>\n",
       "  </thead>\n",
       "  <tbody>\n",
       "    <tr>\n",
       "      <th>count</th>\n",
       "      <td>24122.00</td>\n",
       "    </tr>\n",
       "    <tr>\n",
       "      <th>mean</th>\n",
       "      <td>524.27</td>\n",
       "    </tr>\n",
       "    <tr>\n",
       "      <th>std</th>\n",
       "      <td>2676.69</td>\n",
       "    </tr>\n",
       "    <tr>\n",
       "      <th>min</th>\n",
       "      <td>1.00</td>\n",
       "    </tr>\n",
       "    <tr>\n",
       "      <th>5%</th>\n",
       "      <td>1.00</td>\n",
       "    </tr>\n",
       "    <tr>\n",
       "      <th>25%</th>\n",
       "      <td>2.00</td>\n",
       "    </tr>\n",
       "    <tr>\n",
       "      <th>50%</th>\n",
       "      <td>9.00</td>\n",
       "    </tr>\n",
       "    <tr>\n",
       "      <th>75%</th>\n",
       "      <td>69.00</td>\n",
       "    </tr>\n",
       "    <tr>\n",
       "      <th>99%</th>\n",
       "      <td>12162.07</td>\n",
       "    </tr>\n",
       "    <tr>\n",
       "      <th>max</th>\n",
       "      <td>73122.00</td>\n",
       "    </tr>\n",
       "  </tbody>\n",
       "</table>\n",
       "</div>"
      ]
     },
     "execution_count": 60,
     "metadata": {},
     "output_type": "execute_result"
    }
   ],
   "execution_count": 60
  },
  {
   "cell_type": "markdown",
   "metadata": {},
   "source": [
    "#### <a id='ratings_filter'></a>\n",
    "<span style=\"color:#7C9E9E; font-size:16px; font-weight:bold\">2.3.1 Filter MovieLens dataset</span>"
   ]
  },
  {
   "cell_type": "code",
   "metadata": {
    "ExecuteTime": {
     "end_time": "2025-04-05T07:32:20.282037Z",
     "start_time": "2025-04-05T07:32:19.885048Z"
    }
   },
   "source": [
    "print('Ratings dataset shape before filtering: {}'.format(df_movielens_ratings.shape))\n",
    "# popular movie filter - a movie got rated at least 10 times in MovieLens\n",
    "df_movies_cnt = pd.DataFrame(\n",
    "    df_movielens_ratings.groupby('movielens_id').size(), columns=['count']\n",
    ")\n",
    "popular_movies = list(set(df_movies_cnt.query('count > 10').index))\n",
    "movies_filter = df_movielens_ratings['movielens_id'].isin(popular_movies).values\n",
    "\n",
    "# active user filter - user rated at least 20 movies in MovieLens\n",
    "df_users_cnt = pd.DataFrame(df_movielens_ratings.groupby('user_id').size(), columns=['count'])\n",
    "active_users = list(set(df_users_cnt.query('count > 20').index))\n",
    "users_filter = df_movielens_ratings['user_id'].isin(active_users).values\n",
    "\n",
    "# filter the data\n",
    "df_movielens_ratings = df_movielens_ratings[movies_filter & users_filter]\n",
    "print('Ratings dataset shape after filtering: {}'.format(df_movielens_ratings.shape))\n",
    "\n",
    "del df_movies_cnt, df_users_cnt"
   ],
   "outputs": [
    {
     "name": "stdout",
     "output_type": "stream",
     "text": [
      "Ratings dataset shape before filtering: (12646425, 5)\n",
      "Ratings dataset shape after filtering: (12078741, 5)\n"
     ]
    }
   ],
   "execution_count": 61
  },
  {
   "cell_type": "code",
   "metadata": {
    "ExecuteTime": {
     "end_time": "2025-04-05T07:32:21.012972Z",
     "start_time": "2025-04-05T07:32:20.341166Z"
    }
   },
   "source": [
    "# check again unique values of users and movies after clean-up\n",
    "print(df_movielens_ratings.nunique())"
   ],
   "outputs": [
    {
     "name": "stdout",
     "output_type": "stream",
     "text": [
      "user_id            96699\n",
      "movielens_id       11583\n",
      "rating                10\n",
      "timestamp       11171455\n",
      "imdbId             11583\n",
      "dtype: int64\n"
     ]
    }
   ],
   "execution_count": 62
  },
  {
   "cell_type": "code",
   "metadata": {
    "pycharm": {
     "name": "#%%\n"
    },
    "ExecuteTime": {
     "end_time": "2025-04-05T07:32:21.066091Z",
     "start_time": "2025-04-05T07:32:21.016139Z"
    }
   },
   "source": [
    "# double-check unique values and distribution of ratings\n",
    "df_movielens_ratings.rating.value_counts()"
   ],
   "outputs": [
    {
     "data": {
      "text/plain": [
       "rating\n",
       "4.00    2870009\n",
       "3.50    2156825\n",
       "3.00    1958510\n",
       "4.50    1352446\n",
       "5.00    1332039\n",
       "2.50     868254\n",
       "2.00     695841\n",
       "1.00     302476\n",
       "1.50     273663\n",
       "0.50     268678\n",
       "Name: count, dtype: int64"
      ]
     },
     "execution_count": 63,
     "metadata": {},
     "output_type": "execute_result"
    }
   ],
   "execution_count": 63
  },
  {
   "cell_type": "markdown",
   "metadata": {},
   "source": [
    "#### <a id='ratings_filter'></a>\n",
    "<span style=\"color:#7C9E9E; font-size:16px; font-weight:bold\">2.3.2 Enrich movies dataset with latest rating timestamp</span>"
   ]
  },
  {
   "metadata": {
    "ExecuteTime": {
     "end_time": "2025-04-05T07:32:21.209171Z",
     "start_time": "2025-04-05T07:32:21.207420Z"
    }
   },
   "cell_type": "code",
   "source": "df_movies_imdb_clean.shape",
   "outputs": [
    {
     "data": {
      "text/plain": [
       "(44767, 28)"
      ]
     },
     "execution_count": 64,
     "metadata": {},
     "output_type": "execute_result"
    }
   ],
   "execution_count": 64
  },
  {
   "metadata": {
    "ExecuteTime": {
     "end_time": "2025-04-05T07:32:21.457609Z",
     "start_time": "2025-04-05T07:32:21.375450Z"
    }
   },
   "cell_type": "code",
   "source": [
    "temp = pd.DataFrame(df_movielens_ratings.groupby('imdbId')['timestamp'].max())\n",
    "temp.columns = ['last_rating_timestamp']\n",
    "df_movies_imdb_clean = df_movies_imdb_clean.merge(temp, on='imdbId', how='left')\n",
    "del temp\n",
    "df_movies_imdb_clean.head()"
   ],
   "outputs": [
    {
     "data": {
      "text/plain": [
       "   id                             title  vote_average  vote_count    status      revenue  runtime      budget    imdb_id original_language                    original_title                                           overview  popularity                                            tagline                     genres                               production_companies                               production_countries                        spoken_languages                                               cast        director       director_of_photography                                            writers                                          producers  imdb_rating  imdb_votes                       poster_path  release_year  imdbId last_rating_timestamp\n",
       "0   8  Life in Loops (A Megacities RMX)          7.50       27.00  Released         0.00    80.00    42000.00  tt0825671                en  Life in Loops (A Megacities RMX)  Timo Novotny labels his new project an experim...        3.20                                A Megacities remix.                Documentary                                            inLoops                                            Austria  English, हिन्दी, 日本語, Pусский, Español                                                NaN    Timo Novotny               Wolfgang Thaler                    Michael Glawogger, Timo Novotny                     Ulrich Gehmacher, Timo Novotny         8.20      284.00  /7ln81BRnPR2wqxuITZxEciCe1lc.jpg          2006  825671                   NaT\n",
       "1  12                      Finding Nemo          7.82    19552.00  Released 940335552.00   100.00 94000000.00  tt0266543                en                      Finding Nemo  Nemo, an adventurous young clownfish, is unexp...       18.08  There are 3.7 trillion fish in the ocean. They...          Animation, Family                                              Pixar                           United States of America                                 English  Albert Brooks, Bob Bergen, Bobby Block, Ellen ...  Andrew Stanton  Sharon Calahan, Jeremy Lasky  Blake Tucker, Bob Peterson, David Reynolds, Ad...                      John Lasseter, Graham Walters         8.20  1154759.00  /eHuGQ10FUzK1mdOY69wF5pGgEf5.jpg          2003  266543   2023-10-12 20:27:03\n",
       "2  16                Dancer in the Dark          7.90     1832.00  Released  40061152.00   140.00 12500000.00  tt0168629                en                Dancer in the Dark  Selma, a Czech immigrant on the verge of blind...        2.34                        You don't need eyes to see.               Drama, Crime  Zentropa Entertainments, DR, SVT Drama, ARTE, ...  Denmark, Finland, France, Germany, Iceland, Ne...                                 English  Marianne Bengtsson, Britt Bendixen, David Mors...  Lars von Trier                  Robby Müller                               Lars von Trier, Sjón  Vibeke Windeløv, Leo Pescarolo, Peter Aalbæk J...         7.90   120222.00  /9rsivF4sWfmBzrNr4LPu6TNJhXX.jpg          2000  168629   2023-10-09 20:56:26\n",
       "3  17                          The Dark          5.70      277.00  Released   6593579.00    87.00        0.00  tt0411267                en                          The Dark  In an attempt to pull her family together, Adè...        6.28             One of the living for one of the dead.  Horror, Thriller, Mystery  Constantin Film, Impact Pictures, Isle of Man ...                            Germany, United Kingdom                        Cymraeg, English  Robin Griffith, Maurice Roëves, Maria Bello, S...    John Fawcett             Christian Sebaldt   Simon Maginn, Stephen Massicotte, Rory Gilmartin  Steve Christian, Paul W. S. Anderson, Robert K...         5.30    11669.00  /h6gCVAzjFLhzkffv2VZO1RgVCBt.jpg          2005  411267   2022-12-18 10:06:20\n",
       "4  20                My Life Without Me          6.04      470.00  Released  12300000.00   106.00  2500000.00  tt0314412                en                My Life Without Me  A fatally ill mother with only two months to l...       11.25            What you are… is what you leave behind.             Drama, Romance                    El Deseo, Milestone Productions                                      Canada, Spain                                 English  Leonor Watling, Kenya Jo Kennedy, Jessica Amle...   Isabel Coixet           Jean-Claude Larrieu                       Isabel Coixet, Nanci Kincaid  Pedro Almodóvar, Esther García, Agustín Almodó...         7.40    26197.00  /pFEtVPW88pWflYV84UFL0h1iJr3.jpg          2003  314412   2023-09-03 21:54:57"
      ],
      "text/html": [
       "<div>\n",
       "<style scoped>\n",
       "    .dataframe tbody tr th:only-of-type {\n",
       "        vertical-align: middle;\n",
       "    }\n",
       "\n",
       "    .dataframe tbody tr th {\n",
       "        vertical-align: top;\n",
       "    }\n",
       "\n",
       "    .dataframe thead th {\n",
       "        text-align: right;\n",
       "    }\n",
       "</style>\n",
       "<table border=\"1\" class=\"dataframe\">\n",
       "  <thead>\n",
       "    <tr style=\"text-align: right;\">\n",
       "      <th></th>\n",
       "      <th>id</th>\n",
       "      <th>title</th>\n",
       "      <th>vote_average</th>\n",
       "      <th>vote_count</th>\n",
       "      <th>status</th>\n",
       "      <th>revenue</th>\n",
       "      <th>runtime</th>\n",
       "      <th>budget</th>\n",
       "      <th>imdb_id</th>\n",
       "      <th>original_language</th>\n",
       "      <th>original_title</th>\n",
       "      <th>overview</th>\n",
       "      <th>popularity</th>\n",
       "      <th>tagline</th>\n",
       "      <th>genres</th>\n",
       "      <th>production_companies</th>\n",
       "      <th>production_countries</th>\n",
       "      <th>spoken_languages</th>\n",
       "      <th>cast</th>\n",
       "      <th>director</th>\n",
       "      <th>director_of_photography</th>\n",
       "      <th>writers</th>\n",
       "      <th>producers</th>\n",
       "      <th>imdb_rating</th>\n",
       "      <th>imdb_votes</th>\n",
       "      <th>poster_path</th>\n",
       "      <th>release_year</th>\n",
       "      <th>imdbId</th>\n",
       "      <th>last_rating_timestamp</th>\n",
       "    </tr>\n",
       "  </thead>\n",
       "  <tbody>\n",
       "    <tr>\n",
       "      <th>0</th>\n",
       "      <td>8</td>\n",
       "      <td>Life in Loops (A Megacities RMX)</td>\n",
       "      <td>7.50</td>\n",
       "      <td>27.00</td>\n",
       "      <td>Released</td>\n",
       "      <td>0.00</td>\n",
       "      <td>80.00</td>\n",
       "      <td>42000.00</td>\n",
       "      <td>tt0825671</td>\n",
       "      <td>en</td>\n",
       "      <td>Life in Loops (A Megacities RMX)</td>\n",
       "      <td>Timo Novotny labels his new project an experim...</td>\n",
       "      <td>3.20</td>\n",
       "      <td>A Megacities remix.</td>\n",
       "      <td>Documentary</td>\n",
       "      <td>inLoops</td>\n",
       "      <td>Austria</td>\n",
       "      <td>English, हिन्दी, 日本語, Pусский, Español</td>\n",
       "      <td>NaN</td>\n",
       "      <td>Timo Novotny</td>\n",
       "      <td>Wolfgang Thaler</td>\n",
       "      <td>Michael Glawogger, Timo Novotny</td>\n",
       "      <td>Ulrich Gehmacher, Timo Novotny</td>\n",
       "      <td>8.20</td>\n",
       "      <td>284.00</td>\n",
       "      <td>/7ln81BRnPR2wqxuITZxEciCe1lc.jpg</td>\n",
       "      <td>2006</td>\n",
       "      <td>825671</td>\n",
       "      <td>NaT</td>\n",
       "    </tr>\n",
       "    <tr>\n",
       "      <th>1</th>\n",
       "      <td>12</td>\n",
       "      <td>Finding Nemo</td>\n",
       "      <td>7.82</td>\n",
       "      <td>19552.00</td>\n",
       "      <td>Released</td>\n",
       "      <td>940335552.00</td>\n",
       "      <td>100.00</td>\n",
       "      <td>94000000.00</td>\n",
       "      <td>tt0266543</td>\n",
       "      <td>en</td>\n",
       "      <td>Finding Nemo</td>\n",
       "      <td>Nemo, an adventurous young clownfish, is unexp...</td>\n",
       "      <td>18.08</td>\n",
       "      <td>There are 3.7 trillion fish in the ocean. They...</td>\n",
       "      <td>Animation, Family</td>\n",
       "      <td>Pixar</td>\n",
       "      <td>United States of America</td>\n",
       "      <td>English</td>\n",
       "      <td>Albert Brooks, Bob Bergen, Bobby Block, Ellen ...</td>\n",
       "      <td>Andrew Stanton</td>\n",
       "      <td>Sharon Calahan, Jeremy Lasky</td>\n",
       "      <td>Blake Tucker, Bob Peterson, David Reynolds, Ad...</td>\n",
       "      <td>John Lasseter, Graham Walters</td>\n",
       "      <td>8.20</td>\n",
       "      <td>1154759.00</td>\n",
       "      <td>/eHuGQ10FUzK1mdOY69wF5pGgEf5.jpg</td>\n",
       "      <td>2003</td>\n",
       "      <td>266543</td>\n",
       "      <td>2023-10-12 20:27:03</td>\n",
       "    </tr>\n",
       "    <tr>\n",
       "      <th>2</th>\n",
       "      <td>16</td>\n",
       "      <td>Dancer in the Dark</td>\n",
       "      <td>7.90</td>\n",
       "      <td>1832.00</td>\n",
       "      <td>Released</td>\n",
       "      <td>40061152.00</td>\n",
       "      <td>140.00</td>\n",
       "      <td>12500000.00</td>\n",
       "      <td>tt0168629</td>\n",
       "      <td>en</td>\n",
       "      <td>Dancer in the Dark</td>\n",
       "      <td>Selma, a Czech immigrant on the verge of blind...</td>\n",
       "      <td>2.34</td>\n",
       "      <td>You don't need eyes to see.</td>\n",
       "      <td>Drama, Crime</td>\n",
       "      <td>Zentropa Entertainments, DR, SVT Drama, ARTE, ...</td>\n",
       "      <td>Denmark, Finland, France, Germany, Iceland, Ne...</td>\n",
       "      <td>English</td>\n",
       "      <td>Marianne Bengtsson, Britt Bendixen, David Mors...</td>\n",
       "      <td>Lars von Trier</td>\n",
       "      <td>Robby Müller</td>\n",
       "      <td>Lars von Trier, Sjón</td>\n",
       "      <td>Vibeke Windeløv, Leo Pescarolo, Peter Aalbæk J...</td>\n",
       "      <td>7.90</td>\n",
       "      <td>120222.00</td>\n",
       "      <td>/9rsivF4sWfmBzrNr4LPu6TNJhXX.jpg</td>\n",
       "      <td>2000</td>\n",
       "      <td>168629</td>\n",
       "      <td>2023-10-09 20:56:26</td>\n",
       "    </tr>\n",
       "    <tr>\n",
       "      <th>3</th>\n",
       "      <td>17</td>\n",
       "      <td>The Dark</td>\n",
       "      <td>5.70</td>\n",
       "      <td>277.00</td>\n",
       "      <td>Released</td>\n",
       "      <td>6593579.00</td>\n",
       "      <td>87.00</td>\n",
       "      <td>0.00</td>\n",
       "      <td>tt0411267</td>\n",
       "      <td>en</td>\n",
       "      <td>The Dark</td>\n",
       "      <td>In an attempt to pull her family together, Adè...</td>\n",
       "      <td>6.28</td>\n",
       "      <td>One of the living for one of the dead.</td>\n",
       "      <td>Horror, Thriller, Mystery</td>\n",
       "      <td>Constantin Film, Impact Pictures, Isle of Man ...</td>\n",
       "      <td>Germany, United Kingdom</td>\n",
       "      <td>Cymraeg, English</td>\n",
       "      <td>Robin Griffith, Maurice Roëves, Maria Bello, S...</td>\n",
       "      <td>John Fawcett</td>\n",
       "      <td>Christian Sebaldt</td>\n",
       "      <td>Simon Maginn, Stephen Massicotte, Rory Gilmartin</td>\n",
       "      <td>Steve Christian, Paul W. S. Anderson, Robert K...</td>\n",
       "      <td>5.30</td>\n",
       "      <td>11669.00</td>\n",
       "      <td>/h6gCVAzjFLhzkffv2VZO1RgVCBt.jpg</td>\n",
       "      <td>2005</td>\n",
       "      <td>411267</td>\n",
       "      <td>2022-12-18 10:06:20</td>\n",
       "    </tr>\n",
       "    <tr>\n",
       "      <th>4</th>\n",
       "      <td>20</td>\n",
       "      <td>My Life Without Me</td>\n",
       "      <td>6.04</td>\n",
       "      <td>470.00</td>\n",
       "      <td>Released</td>\n",
       "      <td>12300000.00</td>\n",
       "      <td>106.00</td>\n",
       "      <td>2500000.00</td>\n",
       "      <td>tt0314412</td>\n",
       "      <td>en</td>\n",
       "      <td>My Life Without Me</td>\n",
       "      <td>A fatally ill mother with only two months to l...</td>\n",
       "      <td>11.25</td>\n",
       "      <td>What you are… is what you leave behind.</td>\n",
       "      <td>Drama, Romance</td>\n",
       "      <td>El Deseo, Milestone Productions</td>\n",
       "      <td>Canada, Spain</td>\n",
       "      <td>English</td>\n",
       "      <td>Leonor Watling, Kenya Jo Kennedy, Jessica Amle...</td>\n",
       "      <td>Isabel Coixet</td>\n",
       "      <td>Jean-Claude Larrieu</td>\n",
       "      <td>Isabel Coixet, Nanci Kincaid</td>\n",
       "      <td>Pedro Almodóvar, Esther García, Agustín Almodó...</td>\n",
       "      <td>7.40</td>\n",
       "      <td>26197.00</td>\n",
       "      <td>/pFEtVPW88pWflYV84UFL0h1iJr3.jpg</td>\n",
       "      <td>2003</td>\n",
       "      <td>314412</td>\n",
       "      <td>2023-09-03 21:54:57</td>\n",
       "    </tr>\n",
       "  </tbody>\n",
       "</table>\n",
       "</div>"
      ]
     },
     "execution_count": 65,
     "metadata": {},
     "output_type": "execute_result"
    }
   ],
   "execution_count": 65
  },
  {
   "cell_type": "code",
   "metadata": {
    "ExecuteTime": {
     "end_time": "2025-04-05T07:32:21.502034Z",
     "start_time": "2025-04-05T07:32:21.490626Z"
    }
   },
   "source": [
    "# let's test if the timestamp was added correctly to the main movies dataset\n",
    "cols_filter = ['imdbId', 'title', 'last_rating_timestamp']\n",
    "df_movies_imdb_clean.loc[df_movies_imdb_clean['title'].str.contains('Hobbit:') == True][cols_filter]"
   ],
   "outputs": [
    {
     "data": {
      "text/plain": [
       "        imdbId                                      title last_rating_timestamp\n",
       "7526    903624          The Hobbit: An Unexpected Journey   2023-10-12 22:35:16\n",
       "8459   1170358        The Hobbit: The Desolation of Smaug   2023-10-12 16:03:28\n",
       "12962  2310332  The Hobbit: The Battle of the Five Armies   2023-10-12 16:03:30"
      ],
      "text/html": [
       "<div>\n",
       "<style scoped>\n",
       "    .dataframe tbody tr th:only-of-type {\n",
       "        vertical-align: middle;\n",
       "    }\n",
       "\n",
       "    .dataframe tbody tr th {\n",
       "        vertical-align: top;\n",
       "    }\n",
       "\n",
       "    .dataframe thead th {\n",
       "        text-align: right;\n",
       "    }\n",
       "</style>\n",
       "<table border=\"1\" class=\"dataframe\">\n",
       "  <thead>\n",
       "    <tr style=\"text-align: right;\">\n",
       "      <th></th>\n",
       "      <th>imdbId</th>\n",
       "      <th>title</th>\n",
       "      <th>last_rating_timestamp</th>\n",
       "    </tr>\n",
       "  </thead>\n",
       "  <tbody>\n",
       "    <tr>\n",
       "      <th>7526</th>\n",
       "      <td>903624</td>\n",
       "      <td>The Hobbit: An Unexpected Journey</td>\n",
       "      <td>2023-10-12 22:35:16</td>\n",
       "    </tr>\n",
       "    <tr>\n",
       "      <th>8459</th>\n",
       "      <td>1170358</td>\n",
       "      <td>The Hobbit: The Desolation of Smaug</td>\n",
       "      <td>2023-10-12 16:03:28</td>\n",
       "    </tr>\n",
       "    <tr>\n",
       "      <th>12962</th>\n",
       "      <td>2310332</td>\n",
       "      <td>The Hobbit: The Battle of the Five Armies</td>\n",
       "      <td>2023-10-12 16:03:30</td>\n",
       "    </tr>\n",
       "  </tbody>\n",
       "</table>\n",
       "</div>"
      ]
     },
     "execution_count": 66,
     "metadata": {},
     "output_type": "execute_result"
    }
   ],
   "execution_count": 66
  },
  {
   "cell_type": "code",
   "metadata": {
    "ExecuteTime": {
     "end_time": "2025-04-05T07:32:21.552670Z",
     "start_time": "2025-04-05T07:32:21.532759Z"
    }
   },
   "source": [
    "df_movielens_ratings[df_movielens_ratings['imdbId'] == 903624].sort_values('timestamp', ascending=False)[:1]"
   ],
   "outputs": [
    {
     "data": {
      "text/plain": [
       "         user_id  movielens_id  rating           timestamp  imdbId\n",
       "1216305    19363         98809    3.00 2023-10-12 22:35:16  903624"
      ],
      "text/html": [
       "<div>\n",
       "<style scoped>\n",
       "    .dataframe tbody tr th:only-of-type {\n",
       "        vertical-align: middle;\n",
       "    }\n",
       "\n",
       "    .dataframe tbody tr th {\n",
       "        vertical-align: top;\n",
       "    }\n",
       "\n",
       "    .dataframe thead th {\n",
       "        text-align: right;\n",
       "    }\n",
       "</style>\n",
       "<table border=\"1\" class=\"dataframe\">\n",
       "  <thead>\n",
       "    <tr style=\"text-align: right;\">\n",
       "      <th></th>\n",
       "      <th>user_id</th>\n",
       "      <th>movielens_id</th>\n",
       "      <th>rating</th>\n",
       "      <th>timestamp</th>\n",
       "      <th>imdbId</th>\n",
       "    </tr>\n",
       "  </thead>\n",
       "  <tbody>\n",
       "    <tr>\n",
       "      <th>1216305</th>\n",
       "      <td>19363</td>\n",
       "      <td>98809</td>\n",
       "      <td>3.00</td>\n",
       "      <td>2023-10-12 22:35:16</td>\n",
       "      <td>903624</td>\n",
       "    </tr>\n",
       "  </tbody>\n",
       "</table>\n",
       "</div>"
      ]
     },
     "execution_count": 67,
     "metadata": {},
     "output_type": "execute_result"
    }
   ],
   "execution_count": 67
  },
  {
   "cell_type": "code",
   "metadata": {
    "ExecuteTime": {
     "end_time": "2025-04-05T07:32:21.632425Z",
     "start_time": "2025-04-05T07:32:21.625141Z"
    }
   },
   "source": [
    "df_movielens_ratings[df_movielens_ratings['imdbId'] == 2310332].sort_values('timestamp', ascending=False)[:1]"
   ],
   "outputs": [
    {
     "data": {
      "text/plain": [
       "         user_id  movielens_id  rating           timestamp   imdbId\n",
       "3952606    62994        118696    2.50 2023-10-12 16:03:30  2310332"
      ],
      "text/html": [
       "<div>\n",
       "<style scoped>\n",
       "    .dataframe tbody tr th:only-of-type {\n",
       "        vertical-align: middle;\n",
       "    }\n",
       "\n",
       "    .dataframe tbody tr th {\n",
       "        vertical-align: top;\n",
       "    }\n",
       "\n",
       "    .dataframe thead th {\n",
       "        text-align: right;\n",
       "    }\n",
       "</style>\n",
       "<table border=\"1\" class=\"dataframe\">\n",
       "  <thead>\n",
       "    <tr style=\"text-align: right;\">\n",
       "      <th></th>\n",
       "      <th>user_id</th>\n",
       "      <th>movielens_id</th>\n",
       "      <th>rating</th>\n",
       "      <th>timestamp</th>\n",
       "      <th>imdbId</th>\n",
       "    </tr>\n",
       "  </thead>\n",
       "  <tbody>\n",
       "    <tr>\n",
       "      <th>3952606</th>\n",
       "      <td>62994</td>\n",
       "      <td>118696</td>\n",
       "      <td>2.50</td>\n",
       "      <td>2023-10-12 16:03:30</td>\n",
       "      <td>2310332</td>\n",
       "    </tr>\n",
       "  </tbody>\n",
       "</table>\n",
       "</div>"
      ]
     },
     "execution_count": 68,
     "metadata": {},
     "output_type": "execute_result"
    }
   ],
   "execution_count": 68
  },
  {
   "metadata": {},
   "cell_type": "markdown",
   "source": [
    "<a id='movielens_tags'></a>\n",
    "<span style=\"color:#7C9E9E; font-size:20px; font-weight:bold\">2.4 Assess and Clean MovieLens Tags</span>\n",
    "\n",
    "Build a new table to used for NLP content-based recommendations.\n",
    "Add to this table:\n",
    "- tags from movielens\n",
    "- texts fields from IMDB movies like the title, overview, tagline, genres, directors, producers, cast, production_companies, tags"
   ]
  },
  {
   "metadata": {
    "ExecuteTime": {
     "end_time": "2025-04-05T07:32:22.242895Z",
     "start_time": "2025-04-05T07:32:21.689878Z"
    }
   },
   "cell_type": "code",
   "source": [
    "# visual inspection of MovieLens `tags.csv` file\n",
    "path = os.path.join('..', path_tags_raw)\n",
    "cols = ['user_id', 'movielens_id', 'tag', 'timestamp']\n",
    "df_movielens_tags = pd.read_csv(path, names=cols, header=0)\n",
    "df_movielens_tags['timestamp'] =  pd.to_datetime(df_movielens_tags['timestamp'], unit='s')\n",
    "df_movielens_tags['tag'] =  df_movielens_tags['tag'].str.lower()\n",
    "df_movielens_tags[df_movielens_tags['movielens_id'] == 1].sample(10)"
   ],
   "outputs": [
    {
     "data": {
      "text/plain": [
       "         user_id  movielens_id                 tag           timestamp\n",
       "593926     78203             1              disney 2019-05-16 20:51:39\n",
       "598235     78213             1     chased by a dog 2021-02-04 19:45:43\n",
       "1705843   128399             1         cgi classic 2015-10-07 07:59:36\n",
       "1328683    79208             1           tom hanks 2020-05-03 02:15:09\n",
       "598485     78213             1                 van 2021-02-04 19:45:43\n",
       "63281       8509             1            children 2010-09-15 22:14:29\n",
       "1932210   156071             1            children 2018-08-09 21:30:31\n",
       "1342017    81065             1              disney 2009-05-07 18:37:12\n",
       "598313     78213             1         frustration 2021-02-04 19:45:45\n",
       "1551343   108578             1  computer animation 2008-03-28 00:07:23"
      ],
      "text/html": [
       "<div>\n",
       "<style scoped>\n",
       "    .dataframe tbody tr th:only-of-type {\n",
       "        vertical-align: middle;\n",
       "    }\n",
       "\n",
       "    .dataframe tbody tr th {\n",
       "        vertical-align: top;\n",
       "    }\n",
       "\n",
       "    .dataframe thead th {\n",
       "        text-align: right;\n",
       "    }\n",
       "</style>\n",
       "<table border=\"1\" class=\"dataframe\">\n",
       "  <thead>\n",
       "    <tr style=\"text-align: right;\">\n",
       "      <th></th>\n",
       "      <th>user_id</th>\n",
       "      <th>movielens_id</th>\n",
       "      <th>tag</th>\n",
       "      <th>timestamp</th>\n",
       "    </tr>\n",
       "  </thead>\n",
       "  <tbody>\n",
       "    <tr>\n",
       "      <th>593926</th>\n",
       "      <td>78203</td>\n",
       "      <td>1</td>\n",
       "      <td>disney</td>\n",
       "      <td>2019-05-16 20:51:39</td>\n",
       "    </tr>\n",
       "    <tr>\n",
       "      <th>598235</th>\n",
       "      <td>78213</td>\n",
       "      <td>1</td>\n",
       "      <td>chased by a dog</td>\n",
       "      <td>2021-02-04 19:45:43</td>\n",
       "    </tr>\n",
       "    <tr>\n",
       "      <th>1705843</th>\n",
       "      <td>128399</td>\n",
       "      <td>1</td>\n",
       "      <td>cgi classic</td>\n",
       "      <td>2015-10-07 07:59:36</td>\n",
       "    </tr>\n",
       "    <tr>\n",
       "      <th>1328683</th>\n",
       "      <td>79208</td>\n",
       "      <td>1</td>\n",
       "      <td>tom hanks</td>\n",
       "      <td>2020-05-03 02:15:09</td>\n",
       "    </tr>\n",
       "    <tr>\n",
       "      <th>598485</th>\n",
       "      <td>78213</td>\n",
       "      <td>1</td>\n",
       "      <td>van</td>\n",
       "      <td>2021-02-04 19:45:43</td>\n",
       "    </tr>\n",
       "    <tr>\n",
       "      <th>63281</th>\n",
       "      <td>8509</td>\n",
       "      <td>1</td>\n",
       "      <td>children</td>\n",
       "      <td>2010-09-15 22:14:29</td>\n",
       "    </tr>\n",
       "    <tr>\n",
       "      <th>1932210</th>\n",
       "      <td>156071</td>\n",
       "      <td>1</td>\n",
       "      <td>children</td>\n",
       "      <td>2018-08-09 21:30:31</td>\n",
       "    </tr>\n",
       "    <tr>\n",
       "      <th>1342017</th>\n",
       "      <td>81065</td>\n",
       "      <td>1</td>\n",
       "      <td>disney</td>\n",
       "      <td>2009-05-07 18:37:12</td>\n",
       "    </tr>\n",
       "    <tr>\n",
       "      <th>598313</th>\n",
       "      <td>78213</td>\n",
       "      <td>1</td>\n",
       "      <td>frustration</td>\n",
       "      <td>2021-02-04 19:45:45</td>\n",
       "    </tr>\n",
       "    <tr>\n",
       "      <th>1551343</th>\n",
       "      <td>108578</td>\n",
       "      <td>1</td>\n",
       "      <td>computer animation</td>\n",
       "      <td>2008-03-28 00:07:23</td>\n",
       "    </tr>\n",
       "  </tbody>\n",
       "</table>\n",
       "</div>"
      ]
     },
     "execution_count": 69,
     "metadata": {},
     "output_type": "execute_result"
    }
   ],
   "execution_count": 69
  },
  {
   "metadata": {
    "ExecuteTime": {
     "end_time": "2025-04-05T07:32:22.361115Z",
     "start_time": "2025-04-05T07:32:22.358088Z"
    }
   },
   "cell_type": "code",
   "source": "df_movielens_tags.info()",
   "outputs": [
    {
     "name": "stdout",
     "output_type": "stream",
     "text": [
      "<class 'pandas.core.frame.DataFrame'>\n",
      "RangeIndex: 2000072 entries, 0 to 2000071\n",
      "Data columns (total 4 columns):\n",
      " #   Column        Dtype         \n",
      "---  ------        -----         \n",
      " 0   user_id       int64         \n",
      " 1   movielens_id  int64         \n",
      " 2   tag           object        \n",
      " 3   timestamp     datetime64[ns]\n",
      "dtypes: datetime64[ns](1), int64(2), object(1)\n",
      "memory usage: 61.0+ MB\n"
     ]
    }
   ],
   "execution_count": 70
  },
  {
   "metadata": {
    "ExecuteTime": {
     "end_time": "2025-04-05T07:32:22.538674Z",
     "start_time": "2025-04-05T07:32:22.416678Z"
    }
   },
   "cell_type": "code",
   "source": "df_movielens_tags.nunique()",
   "outputs": [
    {
     "data": {
      "text/plain": [
       "user_id           15848\n",
       "movielens_id      51323\n",
       "tag              132171\n",
       "timestamp       1291250\n",
       "dtype: int64"
      ]
     },
     "execution_count": 71,
     "metadata": {},
     "output_type": "execute_result"
    }
   ],
   "execution_count": 71
  },
  {
   "metadata": {
    "ExecuteTime": {
     "end_time": "2025-04-05T07:32:22.575662Z",
     "start_time": "2025-04-05T07:32:22.569242Z"
    }
   },
   "cell_type": "code",
   "source": [
    "# When were tags created?\n",
    "df_movielens_tags.timestamp.min(), df_movielens_tags.timestamp.max()"
   ],
   "outputs": [
    {
     "data": {
      "text/plain": [
       "(Timestamp('2005-12-24 13:00:10'), Timestamp('2023-10-12 23:56:23'))"
      ]
     },
     "execution_count": 72,
     "metadata": {},
     "output_type": "execute_result"
    }
   ],
   "execution_count": 72
  },
  {
   "metadata": {
    "ExecuteTime": {
     "end_time": "2025-04-05T07:32:22.607515Z",
     "start_time": "2025-04-05T07:32:22.606056Z"
    }
   },
   "cell_type": "code",
   "source": [
    "# get rid of duplicate tags\n",
    "# df_movielens_tags = df_movielens_tags.drop_duplicates(subset=['movielens_id', 'tag'])\n",
    "# df_movielens_tags[df_movielens_tags['movielens_id'] == 1]"
   ],
   "outputs": [],
   "execution_count": 73
  },
  {
   "metadata": {
    "ExecuteTime": {
     "end_time": "2025-04-05T07:32:22.623147Z",
     "start_time": "2025-04-05T07:32:22.621677Z"
    }
   },
   "cell_type": "code",
   "source": [
    "# remove spaces from tags\n",
    "# df_movielens_tags['tag'] = df_movielens_tags['tag'].str.replace(' ', '')\n",
    "# df_movielens_tags[df_movielens_tags['movielens_id'] == 1].sample(50)"
   ],
   "outputs": [],
   "execution_count": 74
  },
  {
   "metadata": {
    "ExecuteTime": {
     "end_time": "2025-04-05T07:32:23.253286Z",
     "start_time": "2025-04-05T07:32:22.751763Z"
    }
   },
   "cell_type": "code",
   "source": [
    "# create a tag summary per movie\n",
    "df_tag_summary = df_movielens_tags.groupby('movielens_id')['tag'].apply(list).str.join(' ').to_frame().reset_index()\n",
    "df_tag_summary.head()"
   ],
   "outputs": [
    {
     "data": {
      "text/plain": [
       "   movielens_id                                                tag\n",
       "0             1  children disney animation children disney disn...\n",
       "1             2  robin williams fantasy robin williams time tra...\n",
       "2             3  comedinha de velhinhos engraãƒâ§ada comedinha ...\n",
       "3             4  characters slurs based on novel or book chick ...\n",
       "4             5  fantasy pregnancy remake family steve martin s..."
      ],
      "text/html": [
       "<div>\n",
       "<style scoped>\n",
       "    .dataframe tbody tr th:only-of-type {\n",
       "        vertical-align: middle;\n",
       "    }\n",
       "\n",
       "    .dataframe tbody tr th {\n",
       "        vertical-align: top;\n",
       "    }\n",
       "\n",
       "    .dataframe thead th {\n",
       "        text-align: right;\n",
       "    }\n",
       "</style>\n",
       "<table border=\"1\" class=\"dataframe\">\n",
       "  <thead>\n",
       "    <tr style=\"text-align: right;\">\n",
       "      <th></th>\n",
       "      <th>movielens_id</th>\n",
       "      <th>tag</th>\n",
       "    </tr>\n",
       "  </thead>\n",
       "  <tbody>\n",
       "    <tr>\n",
       "      <th>0</th>\n",
       "      <td>1</td>\n",
       "      <td>children disney animation children disney disn...</td>\n",
       "    </tr>\n",
       "    <tr>\n",
       "      <th>1</th>\n",
       "      <td>2</td>\n",
       "      <td>robin williams fantasy robin williams time tra...</td>\n",
       "    </tr>\n",
       "    <tr>\n",
       "      <th>2</th>\n",
       "      <td>3</td>\n",
       "      <td>comedinha de velhinhos engraãƒâ§ada comedinha ...</td>\n",
       "    </tr>\n",
       "    <tr>\n",
       "      <th>3</th>\n",
       "      <td>4</td>\n",
       "      <td>characters slurs based on novel or book chick ...</td>\n",
       "    </tr>\n",
       "    <tr>\n",
       "      <th>4</th>\n",
       "      <td>5</td>\n",
       "      <td>fantasy pregnancy remake family steve martin s...</td>\n",
       "    </tr>\n",
       "  </tbody>\n",
       "</table>\n",
       "</div>"
      ]
     },
     "execution_count": 75,
     "metadata": {},
     "output_type": "execute_result"
    }
   ],
   "execution_count": 75
  },
  {
   "metadata": {
    "ExecuteTime": {
     "end_time": "2025-04-05T07:32:23.417311Z",
     "start_time": "2025-04-05T07:32:23.412424Z"
    }
   },
   "cell_type": "code",
   "source": [
    "# Filter tags to movies in scope, add IMDB movie id, and drop the movielens_id\n",
    "df_tag_summary = df_tag_summary.merge(df_movielens_links, on='movielens_id', how='inner')\n",
    "del df_tag_summary['movielens_id']\n",
    "df_tag_summary.info()"
   ],
   "outputs": [
    {
     "name": "stdout",
     "output_type": "stream",
     "text": [
      "<class 'pandas.core.frame.DataFrame'>\n",
      "RangeIndex: 15435 entries, 0 to 15434\n",
      "Data columns (total 2 columns):\n",
      " #   Column  Non-Null Count  Dtype \n",
      "---  ------  --------------  ----- \n",
      " 0   tag     15432 non-null  object\n",
      " 1   imdbId  15435 non-null  int32 \n",
      "dtypes: int32(1), object(1)\n",
      "memory usage: 181.0+ KB\n"
     ]
    }
   ],
   "execution_count": 76
  },
  {
   "metadata": {
    "ExecuteTime": {
     "end_time": "2025-04-05T07:32:23.637337Z",
     "start_time": "2025-04-05T07:32:23.571512Z"
    }
   },
   "cell_type": "code",
   "source": [
    "# add all movie text columns\n",
    "text_cols = ['imdbId', 'title', 'overview', 'tagline', 'genres', 'director', 'producers',\n",
    "             'cast', 'production_companies']\n",
    "df_tag_summary = df_movies_imdb_clean[text_cols].merge(df_tag_summary, on='imdbId', how='left')\n",
    "df_tag_summary = df_tag_summary.fillna('')\n",
    "df_tag_summary.info()"
   ],
   "outputs": [
    {
     "name": "stdout",
     "output_type": "stream",
     "text": [
      "<class 'pandas.core.frame.DataFrame'>\n",
      "RangeIndex: 44767 entries, 0 to 44766\n",
      "Data columns (total 10 columns):\n",
      " #   Column                Non-Null Count  Dtype \n",
      "---  ------                --------------  ----- \n",
      " 0   imdbId                44767 non-null  int32 \n",
      " 1   title                 44767 non-null  object\n",
      " 2   overview              44767 non-null  object\n",
      " 3   tagline               44767 non-null  object\n",
      " 4   genres                44767 non-null  object\n",
      " 5   director              44767 non-null  object\n",
      " 6   producers             44767 non-null  object\n",
      " 7   cast                  44767 non-null  object\n",
      " 8   production_companies  44767 non-null  object\n",
      " 9   tag                   44767 non-null  object\n",
      "dtypes: int32(1), object(9)\n",
      "memory usage: 3.2+ MB\n"
     ]
    }
   ],
   "execution_count": 77
  },
  {
   "metadata": {
    "ExecuteTime": {
     "end_time": "2025-04-05T07:32:23.641868Z",
     "start_time": "2025-04-05T07:32:23.640466Z"
    }
   },
   "cell_type": "code",
   "source": [
    "# strip spaces from people names\n",
    "# cols = ['director', 'producers', 'cast', 'production_companies']\n",
    "# df_tag_summary[cols] = df_tag_summary[cols].apply(lambda x: x.str.lower().str.replace(' ', ''))\n",
    "# df_tag_summary.sample(5)"
   ],
   "outputs": [],
   "execution_count": 78
  },
  {
   "metadata": {
    "ExecuteTime": {
     "end_time": "2025-04-05T07:32:23.884150Z",
     "start_time": "2025-04-05T07:32:23.766720Z"
    }
   },
   "cell_type": "code",
   "source": [
    "text_cols = ['title', 'overview', 'tagline', 'genres', 'director', 'producers',\n",
    "             'cast', 'production_companies', 'tag']\n",
    "df_tag_summary['all_texts'] = df_tag_summary[text_cols].agg(' '.join, axis=1)"
   ],
   "outputs": [],
   "execution_count": 79
  },
  {
   "metadata": {
    "ExecuteTime": {
     "end_time": "2025-04-05T07:32:24.009687Z",
     "start_time": "2025-04-05T07:32:24.008239Z"
    }
   },
   "cell_type": "code",
   "source": "# df_tag_summary.drop(text_cols, axis=1, inplace=True)",
   "outputs": [],
   "execution_count": 80
  },
  {
   "metadata": {
    "ExecuteTime": {
     "end_time": "2025-04-05T07:32:24.186217Z",
     "start_time": "2025-04-05T07:32:24.182255Z"
    }
   },
   "cell_type": "code",
   "source": "df_tag_summary.head()",
   "outputs": [
    {
     "data": {
      "text/plain": [
       "   imdbId                             title                                           overview                                            tagline                     genres        director                                          producers                                               cast                               production_companies                                                tag                                          all_texts\n",
       "0  825671  Life in Loops (A Megacities RMX)  Timo Novotny labels his new project an experim...                                A Megacities remix.                Documentary    Timo Novotny                     Ulrich Gehmacher, Timo Novotny                                                                                               inLoops                                                     Life in Loops (A Megacities RMX) Timo Novotny ...\n",
       "1  266543                      Finding Nemo  Nemo, an adventurous young clownfish, is unexp...  There are 3.7 trillion fish in the ocean. They...          Animation, Family  Andrew Stanton                      John Lasseter, Graham Walters  Albert Brooks, Bob Bergen, Bobby Block, Ellen ...                                              Pixar  children pixar predictable too cute animals an...  Finding Nemo Nemo, an adventurous young clownf...\n",
       "2  168629                Dancer in the Dark  Selma, a Czech immigrant on the verge of blind...                        You don't need eyes to see.               Drama, Crime  Lars von Trier  Vibeke Windeløv, Leo Pescarolo, Peter Aalbæk J...  Marianne Bengtsson, Britt Bendixen, David Mors...  Zentropa Entertainments, DR, SVT Drama, ARTE, ...  bjork cathartic great ending great music sad t...  Dancer in the Dark Selma, a Czech immigrant on...\n",
       "3  411267                          The Dark  In an attempt to pull her family together, Adè...             One of the living for one of the dead.  Horror, Thriller, Mystery    John Fawcett  Steve Christian, Paul W. S. Anderson, Robert K...  Robin Griffith, Maurice Roëves, Maria Bello, S...  Constantin Film, Impact Pictures, Isle of Man ...  afterlife british ghosts to see: horror adoles...  The Dark In an attempt to pull her family toge...\n",
       "4  314412                My Life Without Me  A fatally ill mother with only two months to l...            What you are… is what you leave behind.             Drama, Romance   Isabel Coixet  Pedro Almodóvar, Esther García, Agustín Almodó...  Leonor Watling, Kenya Jo Kennedy, Jessica Amle...                    El Deseo, Milestone Productions  perrot library canada isabel coixet terminal i...  My Life Without Me A fatally ill mother with o..."
      ],
      "text/html": [
       "<div>\n",
       "<style scoped>\n",
       "    .dataframe tbody tr th:only-of-type {\n",
       "        vertical-align: middle;\n",
       "    }\n",
       "\n",
       "    .dataframe tbody tr th {\n",
       "        vertical-align: top;\n",
       "    }\n",
       "\n",
       "    .dataframe thead th {\n",
       "        text-align: right;\n",
       "    }\n",
       "</style>\n",
       "<table border=\"1\" class=\"dataframe\">\n",
       "  <thead>\n",
       "    <tr style=\"text-align: right;\">\n",
       "      <th></th>\n",
       "      <th>imdbId</th>\n",
       "      <th>title</th>\n",
       "      <th>overview</th>\n",
       "      <th>tagline</th>\n",
       "      <th>genres</th>\n",
       "      <th>director</th>\n",
       "      <th>producers</th>\n",
       "      <th>cast</th>\n",
       "      <th>production_companies</th>\n",
       "      <th>tag</th>\n",
       "      <th>all_texts</th>\n",
       "    </tr>\n",
       "  </thead>\n",
       "  <tbody>\n",
       "    <tr>\n",
       "      <th>0</th>\n",
       "      <td>825671</td>\n",
       "      <td>Life in Loops (A Megacities RMX)</td>\n",
       "      <td>Timo Novotny labels his new project an experim...</td>\n",
       "      <td>A Megacities remix.</td>\n",
       "      <td>Documentary</td>\n",
       "      <td>Timo Novotny</td>\n",
       "      <td>Ulrich Gehmacher, Timo Novotny</td>\n",
       "      <td></td>\n",
       "      <td>inLoops</td>\n",
       "      <td></td>\n",
       "      <td>Life in Loops (A Megacities RMX) Timo Novotny ...</td>\n",
       "    </tr>\n",
       "    <tr>\n",
       "      <th>1</th>\n",
       "      <td>266543</td>\n",
       "      <td>Finding Nemo</td>\n",
       "      <td>Nemo, an adventurous young clownfish, is unexp...</td>\n",
       "      <td>There are 3.7 trillion fish in the ocean. They...</td>\n",
       "      <td>Animation, Family</td>\n",
       "      <td>Andrew Stanton</td>\n",
       "      <td>John Lasseter, Graham Walters</td>\n",
       "      <td>Albert Brooks, Bob Bergen, Bobby Block, Ellen ...</td>\n",
       "      <td>Pixar</td>\n",
       "      <td>children pixar predictable too cute animals an...</td>\n",
       "      <td>Finding Nemo Nemo, an adventurous young clownf...</td>\n",
       "    </tr>\n",
       "    <tr>\n",
       "      <th>2</th>\n",
       "      <td>168629</td>\n",
       "      <td>Dancer in the Dark</td>\n",
       "      <td>Selma, a Czech immigrant on the verge of blind...</td>\n",
       "      <td>You don't need eyes to see.</td>\n",
       "      <td>Drama, Crime</td>\n",
       "      <td>Lars von Trier</td>\n",
       "      <td>Vibeke Windeløv, Leo Pescarolo, Peter Aalbæk J...</td>\n",
       "      <td>Marianne Bengtsson, Britt Bendixen, David Mors...</td>\n",
       "      <td>Zentropa Entertainments, DR, SVT Drama, ARTE, ...</td>\n",
       "      <td>bjork cathartic great ending great music sad t...</td>\n",
       "      <td>Dancer in the Dark Selma, a Czech immigrant on...</td>\n",
       "    </tr>\n",
       "    <tr>\n",
       "      <th>3</th>\n",
       "      <td>411267</td>\n",
       "      <td>The Dark</td>\n",
       "      <td>In an attempt to pull her family together, Adè...</td>\n",
       "      <td>One of the living for one of the dead.</td>\n",
       "      <td>Horror, Thriller, Mystery</td>\n",
       "      <td>John Fawcett</td>\n",
       "      <td>Steve Christian, Paul W. S. Anderson, Robert K...</td>\n",
       "      <td>Robin Griffith, Maurice Roëves, Maria Bello, S...</td>\n",
       "      <td>Constantin Film, Impact Pictures, Isle of Man ...</td>\n",
       "      <td>afterlife british ghosts to see: horror adoles...</td>\n",
       "      <td>The Dark In an attempt to pull her family toge...</td>\n",
       "    </tr>\n",
       "    <tr>\n",
       "      <th>4</th>\n",
       "      <td>314412</td>\n",
       "      <td>My Life Without Me</td>\n",
       "      <td>A fatally ill mother with only two months to l...</td>\n",
       "      <td>What you are… is what you leave behind.</td>\n",
       "      <td>Drama, Romance</td>\n",
       "      <td>Isabel Coixet</td>\n",
       "      <td>Pedro Almodóvar, Esther García, Agustín Almodó...</td>\n",
       "      <td>Leonor Watling, Kenya Jo Kennedy, Jessica Amle...</td>\n",
       "      <td>El Deseo, Milestone Productions</td>\n",
       "      <td>perrot library canada isabel coixet terminal i...</td>\n",
       "      <td>My Life Without Me A fatally ill mother with o...</td>\n",
       "    </tr>\n",
       "  </tbody>\n",
       "</table>\n",
       "</div>"
      ]
     },
     "execution_count": 81,
     "metadata": {},
     "output_type": "execute_result"
    }
   ],
   "execution_count": 81
  },
  {
   "metadata": {
    "ExecuteTime": {
     "end_time": "2025-04-05T07:32:24.351469Z",
     "start_time": "2025-04-05T07:32:24.349987Z"
    }
   },
   "cell_type": "code",
   "source": [
    "# add tags to movie content dataset\n",
    "# df_movies_imdb_clean = df_movies_imdb_clean.merge(df_tag_summary, on='imdbId', how='left')"
   ],
   "outputs": [],
   "execution_count": 82
  },
  {
   "metadata": {},
   "cell_type": "markdown",
   "source": [
    "<a id='imdb_extra'></a>\n",
    "<span style=\"color:#7C9E9E; font-size:20px; font-weight:bold\">2.5 Get extra IMDB data</span>\n",
    "\n",
    "Dataset has the same data as IMDB/TMDB dataset, but with additional interesting columns"
   ]
  },
  {
   "metadata": {
    "ExecuteTime": {
     "end_time": "2025-04-06T07:38:51.181286Z",
     "start_time": "2025-04-06T07:38:48.811105Z"
    }
   },
   "cell_type": "code",
   "source": [
    "path = os.path.join('..', path_imdb_raw_extra)\n",
    "cols_of_interest = ['imdb_id', 'backdrop_path', 'homepage', 'Star1', 'Star2', 'Star3', 'Star4']\n",
    "df_movies_imdb_extra = pd.read_csv(\n",
    "    path,\n",
    "    usecols=cols_of_interest,\n",
    ")\n",
    "\n",
    "df_movies_imdb_extra.columns = df_movies_imdb_extra.columns.str.lower()\n",
    "df_movies_imdb_extra.head()"
   ],
   "outputs": [
    {
     "data": {
      "text/plain": [
       "                      backdrop_path                                        homepage    imdb_id                star1                 star2               star3               star4\n",
       "0  /8ZTVqvKDQ8emSGUEMjsS4yHAwrp.jpg     https://www.warnerbros.com/movies/inception  tt1375666    Leonardo DiCaprio  Joseph Gordon-Levitt         Elliot Page        Ken Watanabe\n",
       "1  /pbrkL804c8yAv3zBZR4QPEafpAR.jpg               http://www.interstellarmovie.net/  tt0816692  Matthew McConaughey         Anne Hathaway    Jessica Chastain       Mackenzie Foy\n",
       "2  /nMKdUUepR0i5zn0y1T4CsSB5chy.jpg  https://www.warnerbros.com/movies/dark-knight/  tt0468569       Christian Bale          Heath Ledger       Aaron Eckhart       Michael Caine\n",
       "3  /vL5LR6WdxWPjLPFRLe133jXWsh5.jpg            https://www.avatar.com/movies/avatar  tt0499549      Sam Worthington           Zoe Saldana    Sigourney Weaver  Michelle Rodriguez\n",
       "4  /9BBTo63ANSmhC4e6r62OJFuK2GL.jpg      https://www.marvel.com/movies/the-avengers  tt0848228    Robert Downey Jr.           Chris Evans  Scarlett Johansson       Jeremy Renner"
      ],
      "text/html": [
       "<div>\n",
       "<style scoped>\n",
       "    .dataframe tbody tr th:only-of-type {\n",
       "        vertical-align: middle;\n",
       "    }\n",
       "\n",
       "    .dataframe tbody tr th {\n",
       "        vertical-align: top;\n",
       "    }\n",
       "\n",
       "    .dataframe thead th {\n",
       "        text-align: right;\n",
       "    }\n",
       "</style>\n",
       "<table border=\"1\" class=\"dataframe\">\n",
       "  <thead>\n",
       "    <tr style=\"text-align: right;\">\n",
       "      <th></th>\n",
       "      <th>backdrop_path</th>\n",
       "      <th>homepage</th>\n",
       "      <th>imdb_id</th>\n",
       "      <th>star1</th>\n",
       "      <th>star2</th>\n",
       "      <th>star3</th>\n",
       "      <th>star4</th>\n",
       "    </tr>\n",
       "  </thead>\n",
       "  <tbody>\n",
       "    <tr>\n",
       "      <th>0</th>\n",
       "      <td>/8ZTVqvKDQ8emSGUEMjsS4yHAwrp.jpg</td>\n",
       "      <td>https://www.warnerbros.com/movies/inception</td>\n",
       "      <td>tt1375666</td>\n",
       "      <td>Leonardo DiCaprio</td>\n",
       "      <td>Joseph Gordon-Levitt</td>\n",
       "      <td>Elliot Page</td>\n",
       "      <td>Ken Watanabe</td>\n",
       "    </tr>\n",
       "    <tr>\n",
       "      <th>1</th>\n",
       "      <td>/pbrkL804c8yAv3zBZR4QPEafpAR.jpg</td>\n",
       "      <td>http://www.interstellarmovie.net/</td>\n",
       "      <td>tt0816692</td>\n",
       "      <td>Matthew McConaughey</td>\n",
       "      <td>Anne Hathaway</td>\n",
       "      <td>Jessica Chastain</td>\n",
       "      <td>Mackenzie Foy</td>\n",
       "    </tr>\n",
       "    <tr>\n",
       "      <th>2</th>\n",
       "      <td>/nMKdUUepR0i5zn0y1T4CsSB5chy.jpg</td>\n",
       "      <td>https://www.warnerbros.com/movies/dark-knight/</td>\n",
       "      <td>tt0468569</td>\n",
       "      <td>Christian Bale</td>\n",
       "      <td>Heath Ledger</td>\n",
       "      <td>Aaron Eckhart</td>\n",
       "      <td>Michael Caine</td>\n",
       "    </tr>\n",
       "    <tr>\n",
       "      <th>3</th>\n",
       "      <td>/vL5LR6WdxWPjLPFRLe133jXWsh5.jpg</td>\n",
       "      <td>https://www.avatar.com/movies/avatar</td>\n",
       "      <td>tt0499549</td>\n",
       "      <td>Sam Worthington</td>\n",
       "      <td>Zoe Saldana</td>\n",
       "      <td>Sigourney Weaver</td>\n",
       "      <td>Michelle Rodriguez</td>\n",
       "    </tr>\n",
       "    <tr>\n",
       "      <th>4</th>\n",
       "      <td>/9BBTo63ANSmhC4e6r62OJFuK2GL.jpg</td>\n",
       "      <td>https://www.marvel.com/movies/the-avengers</td>\n",
       "      <td>tt0848228</td>\n",
       "      <td>Robert Downey Jr.</td>\n",
       "      <td>Chris Evans</td>\n",
       "      <td>Scarlett Johansson</td>\n",
       "      <td>Jeremy Renner</td>\n",
       "    </tr>\n",
       "  </tbody>\n",
       "</table>\n",
       "</div>"
      ]
     },
     "execution_count": 101,
     "metadata": {},
     "output_type": "execute_result"
    }
   ],
   "execution_count": 101
  },
  {
   "metadata": {
    "ExecuteTime": {
     "end_time": "2025-04-05T07:32:27.665435Z",
     "start_time": "2025-04-05T07:32:27.649571Z"
    }
   },
   "cell_type": "code",
   "source": [
    "# check of null values in id column\n",
    "df_movies_imdb_extra.imdb_id.isna().sum()"
   ],
   "outputs": [
    {
     "data": {
      "text/plain": [
       "482891"
      ]
     },
     "execution_count": 84,
     "metadata": {},
     "output_type": "execute_result"
    }
   ],
   "execution_count": 84
  },
  {
   "metadata": {
    "ExecuteTime": {
     "end_time": "2025-04-05T07:32:27.732351Z",
     "start_time": "2025-04-05T07:32:27.693827Z"
    }
   },
   "cell_type": "code",
   "source": [
    "# drop records where id is null\n",
    "df_movies_imdb_extra.dropna(subset=['imdb_id'], inplace=True)"
   ],
   "outputs": [],
   "execution_count": 85
  },
  {
   "metadata": {
    "ExecuteTime": {
     "end_time": "2025-04-05T07:32:27.794873Z",
     "start_time": "2025-04-05T07:32:27.735093Z"
    }
   },
   "cell_type": "code",
   "source": [
    "# convert imdb_id to integer to merge with the main movie dataset later\n",
    "df_movies_imdb_extra['imdbId'] = df_movies_imdb_extra['imdb_id'].str[2:].astype('int32')\n",
    "del df_movies_imdb_extra['imdb_id']\n",
    "df_movies_imdb_extra = df_movies_imdb_extra.drop_duplicates(['imdbId'])"
   ],
   "outputs": [],
   "execution_count": 86
  },
  {
   "metadata": {
    "ExecuteTime": {
     "end_time": "2025-04-05T07:32:28.022357Z",
     "start_time": "2025-04-05T07:32:27.930763Z"
    }
   },
   "cell_type": "code",
   "source": [
    "# add extra columns to IMDB dataset\n",
    "df_movies_imdb_clean = df_movies_imdb_clean.merge(df_movies_imdb_extra, on='imdbId', how='left')\n",
    "df_movies_imdb_clean.head()"
   ],
   "outputs": [
    {
     "data": {
      "text/plain": [
       "   id                             title  vote_average  vote_count    status      revenue  runtime      budget    imdb_id original_language                    original_title                                           overview  popularity                                            tagline                     genres                               production_companies                               production_countries                        spoken_languages                                               cast        director       director_of_photography                                            writers                                          producers  imdb_rating  imdb_votes                       poster_path  release_year  imdbId last_rating_timestamp                                           homepage        star1              star2            star3            star4\n",
       "0   8  Life in Loops (A Megacities RMX)          7.50       27.00  Released         0.00    80.00    42000.00  tt0825671                en  Life in Loops (A Megacities RMX)  Timo Novotny labels his new project an experim...        3.20                                A Megacities remix.                Documentary                                            inLoops                                            Austria  English, हिन्दी, 日本語, Pусский, Español                                                NaN    Timo Novotny               Wolfgang Thaler                    Michael Glawogger, Timo Novotny                     Ulrich Gehmacher, Timo Novotny         8.20      284.00  /7ln81BRnPR2wqxuITZxEciCe1lc.jpg          2006  825671                   NaT                             http://lifeinloops.com          NaN                NaN              NaN              NaN\n",
       "1  12                      Finding Nemo          7.82    19552.00  Released 940335552.00   100.00 94000000.00  tt0266543                en                      Finding Nemo  Nemo, an adventurous young clownfish, is unexp...       18.08  There are 3.7 trillion fish in the ocean. They...          Animation, Family                                              Pixar                           United States of America                                 English  Albert Brooks, Bob Bergen, Bobby Block, Ellen ...  Andrew Stanton  Sharon Calahan, Jeremy Lasky  Blake Tucker, Bob Peterson, David Reynolds, Ad...                      John Lasseter, Graham Walters         8.20  1154759.00  /eHuGQ10FUzK1mdOY69wF5pGgEf5.jpg          2003  266543   2023-10-12 20:27:03              http://movies.disney.com/finding-nemo  Lee Unkrich      Albert Brooks  Ellen DeGeneres  Alexander Gould\n",
       "2  16                Dancer in the Dark          7.90     1832.00  Released  40061152.00   140.00 12500000.00  tt0168629                en                Dancer in the Dark  Selma, a Czech immigrant on the verge of blind...        2.34                        You don't need eyes to see.               Drama, Crime  Zentropa Entertainments, DR, SVT Drama, ARTE, ...  Denmark, Finland, France, Germany, Iceland, Ne...                                 English  Marianne Bengtsson, Britt Bendixen, David Mors...  Lars von Trier                  Robby Müller                               Lars von Trier, Sjón  Vibeke Windeløv, Leo Pescarolo, Peter Aalbæk J...         7.90   120222.00  /9rsivF4sWfmBzrNr4LPu6TNJhXX.jpg          2000  168629   2023-10-09 20:56:26                                                NaN        Björk  Catherine Deneuve      David Morse   Peter Stormare\n",
       "3  17                          The Dark          5.70      277.00  Released   6593579.00    87.00        0.00  tt0411267                en                          The Dark  In an attempt to pull her family together, Adè...        6.28             One of the living for one of the dead.  Horror, Thriller, Mystery  Constantin Film, Impact Pictures, Isle of Man ...                            Germany, United Kingdom                        Cymraeg, English  Robin Griffith, Maurice Roëves, Maria Bello, S...    John Fawcett             Christian Sebaldt   Simon Maginn, Stephen Massicotte, Rory Gilmartin  Steve Christian, Paul W. S. Anderson, Robert K...         5.30    11669.00  /h6gCVAzjFLhzkffv2VZO1RgVCBt.jpg          2005  411267   2022-12-18 10:06:20                     http://www.whatisannwyn.co.uk/          NaN                NaN              NaN              NaN\n",
       "4  20                My Life Without Me          6.04      470.00  Released  12300000.00   106.00  2500000.00  tt0314412                en                My Life Without Me  A fatally ill mother with only two months to l...       11.25            What you are… is what you leave behind.             Drama, Romance                    El Deseo, Milestone Productions                                      Canada, Spain                                 English  Leonor Watling, Kenya Jo Kennedy, Jessica Amle...   Isabel Coixet           Jean-Claude Larrieu                       Isabel Coixet, Nanci Kincaid  Pedro Almodóvar, Esther García, Agustín Almodó...         7.40    26197.00  /pFEtVPW88pWflYV84UFL0h1iJr3.jpg          2003  314412   2023-09-03 21:54:57  http://www.clubcultura.com/clubcine/clubcineas...          NaN                NaN              NaN              NaN"
      ],
      "text/html": [
       "<div>\n",
       "<style scoped>\n",
       "    .dataframe tbody tr th:only-of-type {\n",
       "        vertical-align: middle;\n",
       "    }\n",
       "\n",
       "    .dataframe tbody tr th {\n",
       "        vertical-align: top;\n",
       "    }\n",
       "\n",
       "    .dataframe thead th {\n",
       "        text-align: right;\n",
       "    }\n",
       "</style>\n",
       "<table border=\"1\" class=\"dataframe\">\n",
       "  <thead>\n",
       "    <tr style=\"text-align: right;\">\n",
       "      <th></th>\n",
       "      <th>id</th>\n",
       "      <th>title</th>\n",
       "      <th>vote_average</th>\n",
       "      <th>vote_count</th>\n",
       "      <th>status</th>\n",
       "      <th>revenue</th>\n",
       "      <th>runtime</th>\n",
       "      <th>budget</th>\n",
       "      <th>imdb_id</th>\n",
       "      <th>original_language</th>\n",
       "      <th>original_title</th>\n",
       "      <th>overview</th>\n",
       "      <th>popularity</th>\n",
       "      <th>tagline</th>\n",
       "      <th>genres</th>\n",
       "      <th>production_companies</th>\n",
       "      <th>production_countries</th>\n",
       "      <th>spoken_languages</th>\n",
       "      <th>cast</th>\n",
       "      <th>director</th>\n",
       "      <th>director_of_photography</th>\n",
       "      <th>writers</th>\n",
       "      <th>producers</th>\n",
       "      <th>imdb_rating</th>\n",
       "      <th>imdb_votes</th>\n",
       "      <th>poster_path</th>\n",
       "      <th>release_year</th>\n",
       "      <th>imdbId</th>\n",
       "      <th>last_rating_timestamp</th>\n",
       "      <th>homepage</th>\n",
       "      <th>star1</th>\n",
       "      <th>star2</th>\n",
       "      <th>star3</th>\n",
       "      <th>star4</th>\n",
       "    </tr>\n",
       "  </thead>\n",
       "  <tbody>\n",
       "    <tr>\n",
       "      <th>0</th>\n",
       "      <td>8</td>\n",
       "      <td>Life in Loops (A Megacities RMX)</td>\n",
       "      <td>7.50</td>\n",
       "      <td>27.00</td>\n",
       "      <td>Released</td>\n",
       "      <td>0.00</td>\n",
       "      <td>80.00</td>\n",
       "      <td>42000.00</td>\n",
       "      <td>tt0825671</td>\n",
       "      <td>en</td>\n",
       "      <td>Life in Loops (A Megacities RMX)</td>\n",
       "      <td>Timo Novotny labels his new project an experim...</td>\n",
       "      <td>3.20</td>\n",
       "      <td>A Megacities remix.</td>\n",
       "      <td>Documentary</td>\n",
       "      <td>inLoops</td>\n",
       "      <td>Austria</td>\n",
       "      <td>English, हिन्दी, 日本語, Pусский, Español</td>\n",
       "      <td>NaN</td>\n",
       "      <td>Timo Novotny</td>\n",
       "      <td>Wolfgang Thaler</td>\n",
       "      <td>Michael Glawogger, Timo Novotny</td>\n",
       "      <td>Ulrich Gehmacher, Timo Novotny</td>\n",
       "      <td>8.20</td>\n",
       "      <td>284.00</td>\n",
       "      <td>/7ln81BRnPR2wqxuITZxEciCe1lc.jpg</td>\n",
       "      <td>2006</td>\n",
       "      <td>825671</td>\n",
       "      <td>NaT</td>\n",
       "      <td>http://lifeinloops.com</td>\n",
       "      <td>NaN</td>\n",
       "      <td>NaN</td>\n",
       "      <td>NaN</td>\n",
       "      <td>NaN</td>\n",
       "    </tr>\n",
       "    <tr>\n",
       "      <th>1</th>\n",
       "      <td>12</td>\n",
       "      <td>Finding Nemo</td>\n",
       "      <td>7.82</td>\n",
       "      <td>19552.00</td>\n",
       "      <td>Released</td>\n",
       "      <td>940335552.00</td>\n",
       "      <td>100.00</td>\n",
       "      <td>94000000.00</td>\n",
       "      <td>tt0266543</td>\n",
       "      <td>en</td>\n",
       "      <td>Finding Nemo</td>\n",
       "      <td>Nemo, an adventurous young clownfish, is unexp...</td>\n",
       "      <td>18.08</td>\n",
       "      <td>There are 3.7 trillion fish in the ocean. They...</td>\n",
       "      <td>Animation, Family</td>\n",
       "      <td>Pixar</td>\n",
       "      <td>United States of America</td>\n",
       "      <td>English</td>\n",
       "      <td>Albert Brooks, Bob Bergen, Bobby Block, Ellen ...</td>\n",
       "      <td>Andrew Stanton</td>\n",
       "      <td>Sharon Calahan, Jeremy Lasky</td>\n",
       "      <td>Blake Tucker, Bob Peterson, David Reynolds, Ad...</td>\n",
       "      <td>John Lasseter, Graham Walters</td>\n",
       "      <td>8.20</td>\n",
       "      <td>1154759.00</td>\n",
       "      <td>/eHuGQ10FUzK1mdOY69wF5pGgEf5.jpg</td>\n",
       "      <td>2003</td>\n",
       "      <td>266543</td>\n",
       "      <td>2023-10-12 20:27:03</td>\n",
       "      <td>http://movies.disney.com/finding-nemo</td>\n",
       "      <td>Lee Unkrich</td>\n",
       "      <td>Albert Brooks</td>\n",
       "      <td>Ellen DeGeneres</td>\n",
       "      <td>Alexander Gould</td>\n",
       "    </tr>\n",
       "    <tr>\n",
       "      <th>2</th>\n",
       "      <td>16</td>\n",
       "      <td>Dancer in the Dark</td>\n",
       "      <td>7.90</td>\n",
       "      <td>1832.00</td>\n",
       "      <td>Released</td>\n",
       "      <td>40061152.00</td>\n",
       "      <td>140.00</td>\n",
       "      <td>12500000.00</td>\n",
       "      <td>tt0168629</td>\n",
       "      <td>en</td>\n",
       "      <td>Dancer in the Dark</td>\n",
       "      <td>Selma, a Czech immigrant on the verge of blind...</td>\n",
       "      <td>2.34</td>\n",
       "      <td>You don't need eyes to see.</td>\n",
       "      <td>Drama, Crime</td>\n",
       "      <td>Zentropa Entertainments, DR, SVT Drama, ARTE, ...</td>\n",
       "      <td>Denmark, Finland, France, Germany, Iceland, Ne...</td>\n",
       "      <td>English</td>\n",
       "      <td>Marianne Bengtsson, Britt Bendixen, David Mors...</td>\n",
       "      <td>Lars von Trier</td>\n",
       "      <td>Robby Müller</td>\n",
       "      <td>Lars von Trier, Sjón</td>\n",
       "      <td>Vibeke Windeløv, Leo Pescarolo, Peter Aalbæk J...</td>\n",
       "      <td>7.90</td>\n",
       "      <td>120222.00</td>\n",
       "      <td>/9rsivF4sWfmBzrNr4LPu6TNJhXX.jpg</td>\n",
       "      <td>2000</td>\n",
       "      <td>168629</td>\n",
       "      <td>2023-10-09 20:56:26</td>\n",
       "      <td>NaN</td>\n",
       "      <td>Björk</td>\n",
       "      <td>Catherine Deneuve</td>\n",
       "      <td>David Morse</td>\n",
       "      <td>Peter Stormare</td>\n",
       "    </tr>\n",
       "    <tr>\n",
       "      <th>3</th>\n",
       "      <td>17</td>\n",
       "      <td>The Dark</td>\n",
       "      <td>5.70</td>\n",
       "      <td>277.00</td>\n",
       "      <td>Released</td>\n",
       "      <td>6593579.00</td>\n",
       "      <td>87.00</td>\n",
       "      <td>0.00</td>\n",
       "      <td>tt0411267</td>\n",
       "      <td>en</td>\n",
       "      <td>The Dark</td>\n",
       "      <td>In an attempt to pull her family together, Adè...</td>\n",
       "      <td>6.28</td>\n",
       "      <td>One of the living for one of the dead.</td>\n",
       "      <td>Horror, Thriller, Mystery</td>\n",
       "      <td>Constantin Film, Impact Pictures, Isle of Man ...</td>\n",
       "      <td>Germany, United Kingdom</td>\n",
       "      <td>Cymraeg, English</td>\n",
       "      <td>Robin Griffith, Maurice Roëves, Maria Bello, S...</td>\n",
       "      <td>John Fawcett</td>\n",
       "      <td>Christian Sebaldt</td>\n",
       "      <td>Simon Maginn, Stephen Massicotte, Rory Gilmartin</td>\n",
       "      <td>Steve Christian, Paul W. S. Anderson, Robert K...</td>\n",
       "      <td>5.30</td>\n",
       "      <td>11669.00</td>\n",
       "      <td>/h6gCVAzjFLhzkffv2VZO1RgVCBt.jpg</td>\n",
       "      <td>2005</td>\n",
       "      <td>411267</td>\n",
       "      <td>2022-12-18 10:06:20</td>\n",
       "      <td>http://www.whatisannwyn.co.uk/</td>\n",
       "      <td>NaN</td>\n",
       "      <td>NaN</td>\n",
       "      <td>NaN</td>\n",
       "      <td>NaN</td>\n",
       "    </tr>\n",
       "    <tr>\n",
       "      <th>4</th>\n",
       "      <td>20</td>\n",
       "      <td>My Life Without Me</td>\n",
       "      <td>6.04</td>\n",
       "      <td>470.00</td>\n",
       "      <td>Released</td>\n",
       "      <td>12300000.00</td>\n",
       "      <td>106.00</td>\n",
       "      <td>2500000.00</td>\n",
       "      <td>tt0314412</td>\n",
       "      <td>en</td>\n",
       "      <td>My Life Without Me</td>\n",
       "      <td>A fatally ill mother with only two months to l...</td>\n",
       "      <td>11.25</td>\n",
       "      <td>What you are… is what you leave behind.</td>\n",
       "      <td>Drama, Romance</td>\n",
       "      <td>El Deseo, Milestone Productions</td>\n",
       "      <td>Canada, Spain</td>\n",
       "      <td>English</td>\n",
       "      <td>Leonor Watling, Kenya Jo Kennedy, Jessica Amle...</td>\n",
       "      <td>Isabel Coixet</td>\n",
       "      <td>Jean-Claude Larrieu</td>\n",
       "      <td>Isabel Coixet, Nanci Kincaid</td>\n",
       "      <td>Pedro Almodóvar, Esther García, Agustín Almodó...</td>\n",
       "      <td>7.40</td>\n",
       "      <td>26197.00</td>\n",
       "      <td>/pFEtVPW88pWflYV84UFL0h1iJr3.jpg</td>\n",
       "      <td>2003</td>\n",
       "      <td>314412</td>\n",
       "      <td>2023-09-03 21:54:57</td>\n",
       "      <td>http://www.clubcultura.com/clubcine/clubcineas...</td>\n",
       "      <td>NaN</td>\n",
       "      <td>NaN</td>\n",
       "      <td>NaN</td>\n",
       "      <td>NaN</td>\n",
       "    </tr>\n",
       "  </tbody>\n",
       "</table>\n",
       "</div>"
      ]
     },
     "execution_count": 87,
     "metadata": {},
     "output_type": "execute_result"
    }
   ],
   "execution_count": 87
  },
  {
   "metadata": {
    "ExecuteTime": {
     "end_time": "2025-04-05T07:32:28.192137Z",
     "start_time": "2025-04-05T07:32:28.188734Z"
    }
   },
   "cell_type": "code",
   "source": [
    "# How many homepage URL's are available ?\n",
    "df_movies_imdb_clean.homepage.isna().sum()"
   ],
   "outputs": [
    {
     "data": {
      "text/plain": [
       "28219"
      ]
     },
     "execution_count": 88,
     "metadata": {},
     "output_type": "execute_result"
    }
   ],
   "execution_count": 88
  },
  {
   "cell_type": "markdown",
   "metadata": {
    "pycharm": {
     "name": "#%% md\n"
    }
   },
   "source": [
    "<a id='summary'></a>\n",
    "<span style=\"color:#7C9E9E; font-size:24px; line-height:40px; font-family: Calibri; font-weight:bold\">Summary of assessment and cleaning</span>\n",
    "\n"
   ]
  },
  {
   "cell_type": "markdown",
   "metadata": {},
   "source": [
    "- Dataset was filtered to contain only:<br/><br/>\n",
    "    - English movies\n",
    "    - Released since 2000\n",
    "    - `imdb_id` is not null, as it's a crucial identifier to link to other datasets like the `ratings.csv` dataset\n",
    "    - Have a least 20 votes in IMDB dataset and 1 vote in TMDB dataset\n",
    "    - Have IMDB rating of at least 3\n",
    "    - Have a duration of at least 60 minutes to be seen as a movie (in my opinion)\n",
    "- Datasets contain no duplicate records with acceptable levels of missing values.<br/><br/>\n",
    "- To support collaborative filtering recommendations, ratings from MovieLens was used and linked with id `imdb_id`.<br/><br/>\n",
    "\n",
    "\n"
   ]
  },
  {
   "cell_type": "code",
   "metadata": {
    "ExecuteTime": {
     "end_time": "2025-04-05T07:32:28.432684Z",
     "start_time": "2025-04-05T07:32:28.362763Z"
    }
   },
   "source": [
    "print('The number of unique IMDB/TMDB movies: {}'.format(df_movies_imdb_clean.shape[0]))\n",
    "print('The number of unique users who rated at least 20 movies in MovieLens: {}'.format(df_movielens_ratings.user_id.nunique()))\n",
    "print('The number of unique movies that have at least 10 ratings in MovieLens: {}'.format(df_movielens_ratings.movielens_id.nunique()))\n",
    "print('The number of user-movie ratings in the dataset: {}'.format(df_movielens_ratings.shape[0]))\n",
    "print('The number of movies that have been tagged: {}'.format(df_tag_summary.tag.dropna().nunique()))\n",
    "print('The number of movies that have homepages: {}'.format(df_movies_imdb_clean.homepage.nunique()))"
   ],
   "outputs": [
    {
     "name": "stdout",
     "output_type": "stream",
     "text": [
      "The number of unique IMDB/TMDB movies: 44850\n",
      "The number of unique users who rated at least 20 movies in MovieLens: 96699\n",
      "The number of unique movies that have at least 10 ratings in MovieLens: 11583\n",
      "The number of user-movie ratings in the dataset: 12078741\n",
      "The number of movies that have been tagged: 14263\n",
      "The number of movies that have homepages: 16462\n"
     ]
    }
   ],
   "execution_count": 89
  },
  {
   "cell_type": "markdown",
   "metadata": {
    "pycharm": {
     "name": "#%% md\n"
    }
   },
   "source": [
    "<a id='storing'></a>\n",
    "<h3 style=\"color:white; font-size:25px; text-align: left; line-height: 1; font-family: Calibri; background-color:#7C9E9E; border-radius:10px; padding: 14px\">Step 5: Storing Data</h3>\n",
    "\n",
    "Finally, drop the columns no longer needed for recommendations\n",
    "\n",
    "Save gathered, assessed,\n",
    "and cleaned datasets to parquet files in folder `data/clean`\n",
    "\n",
    "Parquet files automatically preserve the schema of the data."
   ]
  },
  {
   "metadata": {
    "ExecuteTime": {
     "end_time": "2025-04-05T07:32:28.437021Z",
     "start_time": "2025-04-05T07:32:28.435225Z"
    }
   },
   "cell_type": "code",
   "source": [
    "# make a clean folder if it does not exist\n",
    "path = os.path.join('..', folder_clean)\n",
    "if not os.path.exists(path):\n",
    "    os.makedirs(path)"
   ],
   "outputs": [],
   "execution_count": 90
  },
  {
   "cell_type": "code",
   "metadata": {
    "pycharm": {
     "name": "#%%\n"
    },
    "ExecuteTime": {
     "end_time": "2025-04-05T07:32:28.671529Z",
     "start_time": "2025-04-05T07:32:28.558991Z"
    }
   },
   "source": [
    "# main movie content file\n",
    "cols_to_keep = ['imdbId', 'title', 'overview', 'tagline', 'imdb_rating', 'imdb_votes',\n",
    "                'popularity', 'poster_path', 'release_year', 'last_rating_timestamp', 'genres',\n",
    "                'vote_average', 'homepage', 'star1', 'star2', 'star3', 'star4']\n",
    "path = os.path.join('..', path_imdb_clean)\n",
    "df_movies_imdb_clean2 = df_movies_imdb_clean[cols_to_keep].set_index('imdbId')\n",
    "df_movies_imdb_clean2.to_parquet(path, index=True)"
   ],
   "outputs": [],
   "execution_count": 91
  },
  {
   "cell_type": "code",
   "metadata": {
    "ExecuteTime": {
     "end_time": "2025-04-05T07:32:29.313715Z",
     "start_time": "2025-04-05T07:32:28.815803Z"
    }
   },
   "source": [
    "# movies in-scope that have been rated\n",
    "path = os.path.join('..', path_ratings_clean)\n",
    "\n",
    "del df_movielens_ratings['movielens_id']\n",
    "df_movielens_ratings.to_parquet(path, index=False)"
   ],
   "outputs": [],
   "execution_count": 92
  },
  {
   "metadata": {
    "ExecuteTime": {
     "end_time": "2025-04-05T07:32:29.463130Z",
     "start_time": "2025-04-05T07:32:29.459085Z"
    }
   },
   "cell_type": "code",
   "source": [
    "# dataset containing unique identifiers to merge MovieLens, IMDB, TMDB\n",
    "path = os.path.join('..', path_links_clean)\n",
    "df_movielens_links.to_parquet(path, index=False)"
   ],
   "outputs": [],
   "execution_count": 93
  },
  {
   "metadata": {
    "ExecuteTime": {
     "end_time": "2025-04-05T07:32:29.907475Z",
     "start_time": "2025-04-05T07:32:29.642044Z"
    }
   },
   "cell_type": "code",
   "source": [
    "# dataset containing all texts for NLP preprocessing\n",
    "path = os.path.join('..', path_tags_clean)\n",
    "df_tag_summary = df_tag_summary.set_index('imdbId')\n",
    "df_tag_summary.to_parquet(path, index=True)"
   ],
   "outputs": [],
   "execution_count": 94
  },
  {
   "cell_type": "code",
   "metadata": {
    "ExecuteTime": {
     "end_time": "2025-04-05T07:32:30.060330Z",
     "start_time": "2025-04-05T07:32:30.057188Z"
    }
   },
   "source": [
    "# double-check the final data types and memory usage\n",
    "df_movielens_ratings.info()"
   ],
   "outputs": [
    {
     "name": "stdout",
     "output_type": "stream",
     "text": [
      "<class 'pandas.core.frame.DataFrame'>\n",
      "Index: 12078741 entries, 0 to 12646424\n",
      "Data columns (total 4 columns):\n",
      " #   Column     Dtype         \n",
      "---  ------     -----         \n",
      " 0   user_id    int32         \n",
      " 1   rating     float16       \n",
      " 2   timestamp  datetime64[ns]\n",
      " 3   imdbId     int32         \n",
      "dtypes: datetime64[ns](1), float16(1), int32(2)\n",
      "memory usage: 299.5 MB\n"
     ]
    }
   ],
   "execution_count": 95
  },
  {
   "cell_type": "code",
   "metadata": {
    "ExecuteTime": {
     "end_time": "2025-04-05T07:32:30.252837Z",
     "start_time": "2025-04-05T07:32:30.237907Z"
    }
   },
   "source": "df_movies_imdb_clean2.info()",
   "outputs": [
    {
     "name": "stdout",
     "output_type": "stream",
     "text": [
      "<class 'pandas.core.frame.DataFrame'>\n",
      "Index: 44850 entries, 825671 to 33510862\n",
      "Data columns (total 16 columns):\n",
      " #   Column                 Non-Null Count  Dtype         \n",
      "---  ------                 --------------  -----         \n",
      " 0   title                  44850 non-null  object        \n",
      " 1   overview               44811 non-null  object        \n",
      " 2   tagline                24100 non-null  object        \n",
      " 3   imdb_rating            44850 non-null  float16       \n",
      " 4   imdb_votes             44850 non-null  float32       \n",
      " 5   popularity             44850 non-null  float16       \n",
      " 6   poster_path            44850 non-null  object        \n",
      " 7   release_year           44850 non-null  int16         \n",
      " 8   last_rating_timestamp  11587 non-null  datetime64[ns]\n",
      " 9   genres                 44535 non-null  object        \n",
      " 10  vote_average           44850 non-null  float16       \n",
      " 11  homepage               16631 non-null  object        \n",
      " 12  star1                  5134 non-null   object        \n",
      " 13  star2                  443 non-null    object        \n",
      " 14  star3                  443 non-null    object        \n",
      " 15  star4                  443 non-null    object        \n",
      "dtypes: datetime64[ns](1), float16(3), float32(1), int16(1), object(10)\n",
      "memory usage: 4.4+ MB\n"
     ]
    }
   ],
   "execution_count": 96
  },
  {
   "metadata": {
    "ExecuteTime": {
     "end_time": "2025-04-05T07:32:30.384663Z",
     "start_time": "2025-04-05T07:32:30.381645Z"
    }
   },
   "cell_type": "code",
   "source": "df_movielens_links.info()",
   "outputs": [
    {
     "name": "stdout",
     "output_type": "stream",
     "text": [
      "<class 'pandas.core.frame.DataFrame'>\n",
      "RangeIndex: 24394 entries, 0 to 24393\n",
      "Data columns (total 2 columns):\n",
      " #   Column        Non-Null Count  Dtype\n",
      "---  ------        --------------  -----\n",
      " 0   movielens_id  24394 non-null  int32\n",
      " 1   imdbId        24394 non-null  int32\n",
      "dtypes: int32(2)\n",
      "memory usage: 190.7 KB\n"
     ]
    }
   ],
   "execution_count": 97
  },
  {
   "metadata": {
    "ExecuteTime": {
     "end_time": "2025-04-05T07:32:30.540857Z",
     "start_time": "2025-04-05T07:32:30.519903Z"
    }
   },
   "cell_type": "code",
   "source": "df_tag_summary.info()",
   "outputs": [
    {
     "name": "stdout",
     "output_type": "stream",
     "text": [
      "<class 'pandas.core.frame.DataFrame'>\n",
      "Index: 44767 entries, 825671 to 33510862\n",
      "Data columns (total 10 columns):\n",
      " #   Column                Non-Null Count  Dtype \n",
      "---  ------                --------------  ----- \n",
      " 0   title                 44767 non-null  object\n",
      " 1   overview              44767 non-null  object\n",
      " 2   tagline               44767 non-null  object\n",
      " 3   genres                44767 non-null  object\n",
      " 4   director              44767 non-null  object\n",
      " 5   producers             44767 non-null  object\n",
      " 6   cast                  44767 non-null  object\n",
      " 7   production_companies  44767 non-null  object\n",
      " 8   tag                   44767 non-null  object\n",
      " 9   all_texts             44767 non-null  object\n",
      "dtypes: object(10)\n",
      "memory usage: 3.6+ MB\n"
     ]
    }
   ],
   "execution_count": 98
  },
  {
   "cell_type": "markdown",
   "metadata": {
    "pycharm": {
     "name": "#%% md\n"
    }
   },
   "source": [
    "<a id='references'></a>\n",
    "<h3 style=\"color:white; font-size:25px; text-align: left; line-height: 1; font-family: Calibri; background-color:#7C9E9E; border-radius:10px; padding: 14px\">References</h3>"
   ]
  },
  {
   "cell_type": "markdown",
   "metadata": {
    "pycharm": {
     "name": "#%% md\n"
    }
   },
   "source": [
    "- [Download and unzip a file](https://svaderia.github.io/articles/downloading-and-unzipping-a-zipfile/)"
   ]
  },
  {
   "cell_type": "markdown",
   "metadata": {
    "pycharm": {
     "name": "#%% md\n"
    }
   },
   "source": [
    "<a id='submission'></a>\n",
    "<h3 style=\"color:white; font-size:25px; text-align: left; line-height: 1; font-family: Calibri; background-color:#7C9E9E; border-radius:10px; padding: 14px\">Submission</h3>"
   ]
  },
  {
   "cell_type": "code",
   "metadata": {
    "pycharm": {
     "name": "#%%\n"
    },
    "ExecuteTime": {
     "end_time": "2025-04-05T07:32:31.843265Z",
     "start_time": "2025-04-05T07:32:30.678500Z"
    }
   },
   "source": [
    "import os\n",
    "os.system('jupyter nbconvert --to html 1_ETL_pipeline_preparation.ipynb')"
   ],
   "outputs": [
    {
     "name": "stderr",
     "output_type": "stream",
     "text": [
      "[NbConvertApp] Converting notebook 1_ETL_pipeline_preparation.ipynb to html\n",
      "[NbConvertApp] WARNING | Alternative text is missing on 4 image(s).\n",
      "[NbConvertApp] Writing 692581 bytes to 1_ETL_pipeline_preparation.html\n"
     ]
    },
    {
     "data": {
      "text/plain": [
       "0"
      ]
     },
     "execution_count": 99,
     "metadata": {},
     "output_type": "execute_result"
    }
   ],
   "execution_count": 99
  }
 ],
 "metadata": {
  "extensions": {
   "jupyter_dashboards": {
    "activeView": "report_default",
    "version": 1,
    "views": {
     "grid_default": {
      "cellMargin": 10,
      "defaultCellHeight": 20,
      "maxColumns": 12,
      "name": "grid",
      "type": "grid"
     },
     "report_default": {
      "name": "report",
      "type": "report"
     }
    }
   }
  },
  "kernelspec": {
   "display_name": "Python [conda env:recommendations_movies] *",
   "language": "python",
   "name": "conda-env-recommendations_movies-py"
  },
  "language_info": {
   "codemirror_mode": {
    "name": "ipython",
    "version": 3
   },
   "file_extension": ".py",
   "mimetype": "text/x-python",
   "name": "python",
   "nbconvert_exporter": "python",
   "pygments_lexer": "ipython3",
   "version": "3.10.16"
  }
 },
 "nbformat": 4,
 "nbformat_minor": 4
}
